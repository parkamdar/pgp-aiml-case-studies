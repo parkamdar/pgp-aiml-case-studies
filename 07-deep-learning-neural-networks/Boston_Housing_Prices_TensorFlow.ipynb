{
  "nbformat": 4,
  "nbformat_minor": 0,
  "metadata": {
    "colab": {
      "name": "Regression - Boston housing prices_updated.ipynb",
      "provenance": [],
      "collapsed_sections": []
    },
    "kernelspec": {
      "name": "python3",
      "display_name": "Python 3"
    },
    "accelerator": "GPU"
  },
  "cells": [
    {
      "cell_type": "markdown",
      "metadata": {
        "id": "teSVc4i7wTRh"
      },
      "source": [
        "# Boston housing price regression dataset\n",
        "\n",
        "Dataset taken from the StatLib library which is maintained at Carnegie Mellon University.\n",
        "\n",
        "Samples contain 13 attributes of houses at different locations around the Boston suburbs in the late 1970s. Targets are the median values of the houses at a location (in k$).\n",
        "\n",
        "\n",
        "## Variables in order:\n",
        "\n",
        " CRIM     per capita crime rate by town\n",
        "\n",
        " ZN       proportion of residential land zoned for lots over 25,000 sq.ft.\n",
        "\n",
        " INDUS    proportion of non-retail business acres per town\n",
        "\n",
        " CHAS     Charles River dummy variable (= 1 if tract bounds river; 0 otherwise)\n",
        "\n",
        " NOX      nitric oxides concentration (parts per 10 million)\n",
        "\n",
        " RM       average number of rooms per dwelling\n",
        "\n",
        " AGE      proportion of owner-occupied units built prior to 1940\n",
        "\n",
        " DIS      weighted distances to five Boston employment centres\n",
        "\n",
        " RAD      index of accessibility to radial highways\n",
        "\n",
        " TAX      full-value property-tax rate per $10,000\n",
        "\n",
        " PTRATIO  pupil-teacher ratio by town\n",
        "\n",
        " B        1000(Bk - 0.63)^2 where Bk is the proportion of blacks by town\n",
        "\n",
        " LSTAT    % lower status of the population\n",
        "\n",
        " MEDV     Median value of owner-occupied homes in $1000's"
      ]
    },
    {
      "cell_type": "markdown",
      "metadata": {
        "id": "ZOk8Eu4_t70R"
      },
      "source": [
        "Firstly, let's select TensorFlow version 2.x in colab"
      ]
    },
    {
      "cell_type": "code",
      "metadata": {
        "id": "H6RZUm0p4wYJ",
        "colab": {
          "base_uri": "https://localhost:8080/",
          "height": 35
        },
        "outputId": "09f3e240-4043-4394-b79a-a0093f7c5d6f"
      },
      "source": [
        "%tensorflow_version 2.x\n",
        "import tensorflow\n",
        "tensorflow.__version__"
      ],
      "execution_count": null,
      "outputs": [
        {
          "output_type": "execute_result",
          "data": {
            "application/vnd.google.colaboratory.intrinsic+json": {
              "type": "string"
            },
            "text/plain": [
              "'2.5.0'"
            ]
          },
          "metadata": {
            "tags": []
          },
          "execution_count": 16
        }
      ]
    },
    {
      "cell_type": "code",
      "metadata": {
        "id": "TWi96z-8SyX0"
      },
      "source": [
        "# Initialize the random number generator\n",
        "import random\n",
        "random.seed(0)\n",
        "\n",
        "# Ignore the warnings\n",
        "import warnings\n",
        "warnings.filterwarnings(\"ignore\")"
      ],
      "execution_count": null,
      "outputs": []
    },
    {
      "cell_type": "markdown",
      "metadata": {
        "id": "WjDBLreywya1"
      },
      "source": [
        "### Import dataset\n",
        "- This dataset can be imported\n",
        "- High level API Keras has some datasets available\n",
        "- You can look at all the datasets available here https://keras.io/datasets/\n"
      ]
    },
    {
      "cell_type": "code",
      "metadata": {
        "id": "Tr_z_2YHxsz5",
        "colab": {
          "base_uri": "https://localhost:8080/"
        },
        "outputId": "0b567708-e96e-4461-c88b-b69e608b3d1a"
      },
      "source": [
        "from tensorflow.keras.datasets import boston_housing\n",
        "\n",
        "# boston_housing.load_data() function returns 2 tuples, one for train data and \n",
        "# other for test data. We will take only train data here.\n",
        "(X_train, Y_train),(X_test, Y_test)  = boston_housing.load_data(path=\"boston_housing.npz\", test_split=0.2, seed=113)"
      ],
      "execution_count": null,
      "outputs": [
        {
          "output_type": "stream",
          "text": [
            "Downloading data from https://storage.googleapis.com/tensorflow/tf-keras-datasets/boston_housing.npz\n",
            "57344/57026 [==============================] - 0s 0us/step\n"
          ],
          "name": "stdout"
        }
      ]
    },
    {
      "cell_type": "markdown",
      "metadata": {
        "id": "zXfwvgh2yvI6"
      },
      "source": [
        "### Getting details of dataset\n",
        "- We will see how many rows are there in the data\n",
        "- We will check how many features are there"
      ]
    },
    {
      "cell_type": "code",
      "metadata": {
        "id": "WTYuZMy-xsz8",
        "colab": {
          "base_uri": "https://localhost:8080/"
        },
        "outputId": "26e33624-50af-4866-c1db-b5f352b966c2"
      },
      "source": [
        "print('Number of examples in train set: ', X_train.shape[0])\n",
        "print('Number of features for each example: ', X_train.shape[1])\n",
        "print('Shape of actual prices in training data: ', Y_train.shape)"
      ],
      "execution_count": null,
      "outputs": [
        {
          "output_type": "stream",
          "text": [
            "Number of examples in train set:  404\n",
            "Number of features for each example:  13\n",
            "Shape of actual prices in training data:  (404,)\n"
          ],
          "name": "stdout"
        }
      ]
    },
    {
      "cell_type": "code",
      "metadata": {
        "colab": {
          "base_uri": "https://localhost:8080/"
        },
        "id": "RjotHqN5V36N",
        "outputId": "2a8f0a4d-e064-4241-830d-1355f081a36b"
      },
      "source": [
        "print('Number of examples in test set: ', X_test.shape[0])\n",
        "print('Shape of actual prices in test data: ', Y_test.shape)"
      ],
      "execution_count": null,
      "outputs": [
        {
          "output_type": "stream",
          "text": [
            "Number of examples in test set:  102\n",
            "Shape of actual prices in test data:  (102,)\n"
          ],
          "name": "stdout"
        }
      ]
    },
    {
      "cell_type": "markdown",
      "metadata": {
        "id": "9Jpbx46TrpNS"
      },
      "source": [
        "Let's see some values of features and labels from the dataset"
      ]
    },
    {
      "cell_type": "markdown",
      "metadata": {
        "id": "hdgTTLyiE1cd"
      },
      "source": [
        "### We must normalize our data for neural networks to perform optimally"
      ]
    },
    {
      "cell_type": "code",
      "metadata": {
        "id": "oHPSuMSDF1FD"
      },
      "source": [
        "from sklearn.preprocessing import MinMaxScaler\n",
        "scaler = MinMaxScaler(feature_range=(0, 1))\n",
        "# Scale both the training inputs and outputs\n",
        "scaled_train_x = scaler.fit_transform(X_train)\n",
        "scaled_test_x = scaler.transform(X_test)\n",
        "\n",
        "scaled_train_y = scaler.fit_transform(Y_train.reshape(-1, 1))\n",
        "scaled_test_y = scaler.transform(Y_test.reshape(-1, 1))"
      ],
      "execution_count": null,
      "outputs": []
    },
    {
      "cell_type": "markdown",
      "metadata": {
        "id": "9N_pAGEI_RfD"
      },
      "source": [
        "### Build the model\n",
        "- The Sequential model is a linear stack of layers.\n",
        "- The model needs to know what input shape it should expect. For this reason, the first layer in a Sequential model (and only the first, because following layers can do automatic shape inference) needs to receive information about its input shape.\n",
        "- You can also simply add layers via the .add() method"
      ]
    },
    {
      "cell_type": "markdown",
      "metadata": {
        "id": "ejY4fkwRfbwM"
      },
      "source": [
        "###Building the model using Keras standalone library\n",
        "\n",
        "Skeleton model "
      ]
    },
    {
      "cell_type": "code",
      "metadata": {
        "id": "NyPLHXCqa_V9"
      },
      "source": [
        "import keras # importing keras library\n",
        "from keras.models import Sequential  # importing the Sequential Model\n",
        "from keras.layers import Dense       # importing Dense layer\n",
        "def build_model():\n",
        "  ## Initializing the ANN\n",
        "    \n",
        "\n",
        "  model = Sequential() \n",
        "  # This adds the input layer (by specifying input dimension) AND the first hidden layer (units)\n",
        "  input_layer = Dense(8, input_shape=(X_train.shape[1],),activation='relu')\n",
        "  model.add(input_layer) # \n",
        "  #Adding the hidden layer\n",
        "  # Notice that we do not need to specify input dim. \n",
        "  hidden_layer = Dense(16, activation='relu'); \n",
        "  model.add(hidden_layer) \n",
        "  #Adding the output layer\n",
        "  # Notice that we do not need to specify input dim. \n",
        "  # we have an output of 1 node, which is the the desired dimensions of our output (stay with the bank or not)\n",
        "  # We use the sigmoid because we want probability outcomes\n",
        "  output_layer = Dense(1,activation='relu') \n",
        "  \n",
        "  model.add(output_layer)\n",
        "\n",
        "\n",
        "  optimizer = keras.optimizers.RMSprop(0.001)  # Defining the optimizer \n",
        " #Loss function \n",
        "  model.compile(loss='mse',\n",
        "                optimizer=optimizer,\n",
        "                metrics=[ 'mse'])  # Defining the loss function, optimizer and metrices \n",
        "  return model"
      ],
      "execution_count": null,
      "outputs": []
    },
    {
      "cell_type": "markdown",
      "metadata": {
        "id": "6x4o9vmCDrhh"
      },
      "source": [
        "Build the model and view the summary"
      ]
    },
    {
      "cell_type": "code",
      "metadata": {
        "id": "8XFXVLmPDruT",
        "colab": {
          "base_uri": "https://localhost:8080/"
        },
        "outputId": "8c185ac6-11c2-482a-a918-75403b080339"
      },
      "source": [
        "#Getting the model summary. We are uisng standalone keras to build our model\n",
        "model = build_model()\n",
        "model.summary()"
      ],
      "execution_count": null,
      "outputs": [
        {
          "output_type": "stream",
          "text": [
            "Model: \"sequential_2\"\n",
            "_________________________________________________________________\n",
            "Layer (type)                 Output Shape              Param #   \n",
            "=================================================================\n",
            "dense_6 (Dense)              (None, 8)                 112       \n",
            "_________________________________________________________________\n",
            "dense_7 (Dense)              (None, 16)                144       \n",
            "_________________________________________________________________\n",
            "dense_8 (Dense)              (None, 1)                 17        \n",
            "=================================================================\n",
            "Total params: 273\n",
            "Trainable params: 273\n",
            "Non-trainable params: 0\n",
            "_________________________________________________________________\n"
          ],
          "name": "stdout"
        }
      ]
    },
    {
      "cell_type": "markdown",
      "metadata": {
        "id": "mEHRg17HDver"
      },
      "source": [
        "Let’s now train the model for 100 epochs, and record the training and validation accuracy in ‘history’."
      ]
    },
    {
      "cell_type": "code",
      "metadata": {
        "id": "ZKT_6JzZDvrm",
        "colab": {
          "base_uri": "https://localhost:8080/"
        },
        "outputId": "26a873f5-1fe4-4ffa-9bea-71bd0b159b61"
      },
      "source": [
        "#Definign the number of epochs\n",
        "EPOCHS = 100\n",
        "#fitting the model\n",
        "history = model.fit(\n",
        "  scaled_train_x , scaled_train_y,\n",
        "  epochs=EPOCHS, validation_split = 0.2, verbose=1,)"
      ],
      "execution_count": null,
      "outputs": [
        {
          "output_type": "stream",
          "text": [
            "Epoch 1/100\n",
            "11/11 [==============================] - 1s 25ms/step - loss: 0.1570 - mse: 0.1570 - val_loss: 0.0858 - val_mse: 0.0858\n",
            "Epoch 2/100\n",
            "11/11 [==============================] - 0s 5ms/step - loss: 0.0621 - mse: 0.0621 - val_loss: 0.0379 - val_mse: 0.0379\n",
            "Epoch 3/100\n",
            "11/11 [==============================] - 0s 5ms/step - loss: 0.0303 - mse: 0.0303 - val_loss: 0.0299 - val_mse: 0.0299\n",
            "Epoch 4/100\n",
            "11/11 [==============================] - 0s 4ms/step - loss: 0.0246 - mse: 0.0246 - val_loss: 0.0271 - val_mse: 0.0271\n",
            "Epoch 5/100\n",
            "11/11 [==============================] - 0s 4ms/step - loss: 0.0271 - mse: 0.0271 - val_loss: 0.0257 - val_mse: 0.0257\n",
            "Epoch 6/100\n",
            "11/11 [==============================] - 0s 5ms/step - loss: 0.0262 - mse: 0.0262 - val_loss: 0.0270 - val_mse: 0.0270\n",
            "Epoch 7/100\n",
            "11/11 [==============================] - 0s 6ms/step - loss: 0.0243 - mse: 0.0243 - val_loss: 0.0260 - val_mse: 0.0260\n",
            "Epoch 8/100\n",
            "11/11 [==============================] - 0s 4ms/step - loss: 0.0227 - mse: 0.0227 - val_loss: 0.0265 - val_mse: 0.0265\n",
            "Epoch 9/100\n",
            "11/11 [==============================] - 0s 4ms/step - loss: 0.0186 - mse: 0.0186 - val_loss: 0.0232 - val_mse: 0.0232\n",
            "Epoch 10/100\n",
            "11/11 [==============================] - 0s 4ms/step - loss: 0.0209 - mse: 0.0209 - val_loss: 0.0235 - val_mse: 0.0235\n",
            "Epoch 11/100\n",
            "11/11 [==============================] - 0s 6ms/step - loss: 0.0143 - mse: 0.0143 - val_loss: 0.0228 - val_mse: 0.0228\n",
            "Epoch 12/100\n",
            "11/11 [==============================] - 0s 5ms/step - loss: 0.0223 - mse: 0.0223 - val_loss: 0.0233 - val_mse: 0.0233\n",
            "Epoch 13/100\n",
            "11/11 [==============================] - 0s 5ms/step - loss: 0.0178 - mse: 0.0178 - val_loss: 0.0220 - val_mse: 0.0220\n",
            "Epoch 14/100\n",
            "11/11 [==============================] - 0s 5ms/step - loss: 0.0203 - mse: 0.0203 - val_loss: 0.0213 - val_mse: 0.0213\n",
            "Epoch 15/100\n",
            "11/11 [==============================] - 0s 4ms/step - loss: 0.0166 - mse: 0.0166 - val_loss: 0.0210 - val_mse: 0.0210\n",
            "Epoch 16/100\n",
            "11/11 [==============================] - 0s 4ms/step - loss: 0.0159 - mse: 0.0159 - val_loss: 0.0201 - val_mse: 0.0201\n",
            "Epoch 17/100\n",
            "11/11 [==============================] - 0s 4ms/step - loss: 0.0144 - mse: 0.0144 - val_loss: 0.0207 - val_mse: 0.0207\n",
            "Epoch 18/100\n",
            "11/11 [==============================] - 0s 4ms/step - loss: 0.0185 - mse: 0.0185 - val_loss: 0.0198 - val_mse: 0.0198\n",
            "Epoch 19/100\n",
            "11/11 [==============================] - 0s 4ms/step - loss: 0.0187 - mse: 0.0187 - val_loss: 0.0215 - val_mse: 0.0215\n",
            "Epoch 20/100\n",
            "11/11 [==============================] - 0s 5ms/step - loss: 0.0183 - mse: 0.0183 - val_loss: 0.0200 - val_mse: 0.0200\n",
            "Epoch 21/100\n",
            "11/11 [==============================] - 0s 4ms/step - loss: 0.0178 - mse: 0.0178 - val_loss: 0.0203 - val_mse: 0.0203\n",
            "Epoch 22/100\n",
            "11/11 [==============================] - 0s 4ms/step - loss: 0.0147 - mse: 0.0147 - val_loss: 0.0197 - val_mse: 0.0197\n",
            "Epoch 23/100\n",
            "11/11 [==============================] - 0s 4ms/step - loss: 0.0156 - mse: 0.0156 - val_loss: 0.0191 - val_mse: 0.0191\n",
            "Epoch 24/100\n",
            "11/11 [==============================] - 0s 4ms/step - loss: 0.0154 - mse: 0.0154 - val_loss: 0.0182 - val_mse: 0.0182\n",
            "Epoch 25/100\n",
            "11/11 [==============================] - 0s 5ms/step - loss: 0.0159 - mse: 0.0159 - val_loss: 0.0183 - val_mse: 0.0183\n",
            "Epoch 26/100\n",
            "11/11 [==============================] - 0s 5ms/step - loss: 0.0135 - mse: 0.0135 - val_loss: 0.0183 - val_mse: 0.0183\n",
            "Epoch 27/100\n",
            "11/11 [==============================] - 0s 5ms/step - loss: 0.0181 - mse: 0.0181 - val_loss: 0.0177 - val_mse: 0.0177\n",
            "Epoch 28/100\n",
            "11/11 [==============================] - 0s 5ms/step - loss: 0.0152 - mse: 0.0152 - val_loss: 0.0173 - val_mse: 0.0173\n",
            "Epoch 29/100\n",
            "11/11 [==============================] - 0s 7ms/step - loss: 0.0106 - mse: 0.0106 - val_loss: 0.0178 - val_mse: 0.0178\n",
            "Epoch 30/100\n",
            "11/11 [==============================] - 0s 5ms/step - loss: 0.0152 - mse: 0.0152 - val_loss: 0.0178 - val_mse: 0.0178\n",
            "Epoch 31/100\n",
            "11/11 [==============================] - 0s 6ms/step - loss: 0.0131 - mse: 0.0131 - val_loss: 0.0172 - val_mse: 0.0172\n",
            "Epoch 32/100\n",
            "11/11 [==============================] - 0s 5ms/step - loss: 0.0143 - mse: 0.0143 - val_loss: 0.0170 - val_mse: 0.0170\n",
            "Epoch 33/100\n",
            "11/11 [==============================] - 0s 5ms/step - loss: 0.0145 - mse: 0.0145 - val_loss: 0.0169 - val_mse: 0.0169\n",
            "Epoch 34/100\n",
            "11/11 [==============================] - 0s 5ms/step - loss: 0.0149 - mse: 0.0149 - val_loss: 0.0157 - val_mse: 0.0157\n",
            "Epoch 35/100\n",
            "11/11 [==============================] - 0s 4ms/step - loss: 0.0133 - mse: 0.0133 - val_loss: 0.0155 - val_mse: 0.0155\n",
            "Epoch 36/100\n",
            "11/11 [==============================] - 0s 4ms/step - loss: 0.0152 - mse: 0.0152 - val_loss: 0.0160 - val_mse: 0.0160\n",
            "Epoch 37/100\n",
            "11/11 [==============================] - 0s 4ms/step - loss: 0.0165 - mse: 0.0165 - val_loss: 0.0158 - val_mse: 0.0158\n",
            "Epoch 38/100\n",
            "11/11 [==============================] - 0s 4ms/step - loss: 0.0164 - mse: 0.0164 - val_loss: 0.0162 - val_mse: 0.0162\n",
            "Epoch 39/100\n",
            "11/11 [==============================] - 0s 4ms/step - loss: 0.0135 - mse: 0.0135 - val_loss: 0.0161 - val_mse: 0.0161\n",
            "Epoch 40/100\n",
            "11/11 [==============================] - 0s 4ms/step - loss: 0.0163 - mse: 0.0163 - val_loss: 0.0158 - val_mse: 0.0158\n",
            "Epoch 41/100\n",
            "11/11 [==============================] - 0s 5ms/step - loss: 0.0105 - mse: 0.0105 - val_loss: 0.0147 - val_mse: 0.0147\n",
            "Epoch 42/100\n",
            "11/11 [==============================] - 0s 4ms/step - loss: 0.0091 - mse: 0.0091 - val_loss: 0.0146 - val_mse: 0.0146\n",
            "Epoch 43/100\n",
            "11/11 [==============================] - 0s 4ms/step - loss: 0.0168 - mse: 0.0168 - val_loss: 0.0150 - val_mse: 0.0150\n",
            "Epoch 44/100\n",
            "11/11 [==============================] - 0s 4ms/step - loss: 0.0140 - mse: 0.0140 - val_loss: 0.0147 - val_mse: 0.0147\n",
            "Epoch 45/100\n",
            "11/11 [==============================] - 0s 4ms/step - loss: 0.0147 - mse: 0.0147 - val_loss: 0.0149 - val_mse: 0.0149\n",
            "Epoch 46/100\n",
            "11/11 [==============================] - 0s 5ms/step - loss: 0.0153 - mse: 0.0153 - val_loss: 0.0143 - val_mse: 0.0143\n",
            "Epoch 47/100\n",
            "11/11 [==============================] - 0s 5ms/step - loss: 0.0104 - mse: 0.0104 - val_loss: 0.0142 - val_mse: 0.0142\n",
            "Epoch 48/100\n",
            "11/11 [==============================] - 0s 4ms/step - loss: 0.0128 - mse: 0.0128 - val_loss: 0.0149 - val_mse: 0.0149\n",
            "Epoch 49/100\n",
            "11/11 [==============================] - 0s 5ms/step - loss: 0.0148 - mse: 0.0148 - val_loss: 0.0140 - val_mse: 0.0140\n",
            "Epoch 50/100\n",
            "11/11 [==============================] - 0s 6ms/step - loss: 0.0130 - mse: 0.0130 - val_loss: 0.0135 - val_mse: 0.0135\n",
            "Epoch 51/100\n",
            "11/11 [==============================] - 0s 5ms/step - loss: 0.0135 - mse: 0.0135 - val_loss: 0.0153 - val_mse: 0.0153\n",
            "Epoch 52/100\n",
            "11/11 [==============================] - 0s 5ms/step - loss: 0.0120 - mse: 0.0120 - val_loss: 0.0130 - val_mse: 0.0130\n",
            "Epoch 53/100\n",
            "11/11 [==============================] - 0s 4ms/step - loss: 0.0137 - mse: 0.0137 - val_loss: 0.0143 - val_mse: 0.0143\n",
            "Epoch 54/100\n",
            "11/11 [==============================] - 0s 5ms/step - loss: 0.0120 - mse: 0.0120 - val_loss: 0.0137 - val_mse: 0.0137\n",
            "Epoch 55/100\n",
            "11/11 [==============================] - 0s 4ms/step - loss: 0.0107 - mse: 0.0107 - val_loss: 0.0145 - val_mse: 0.0145\n",
            "Epoch 56/100\n",
            "11/11 [==============================] - 0s 4ms/step - loss: 0.0121 - mse: 0.0121 - val_loss: 0.0141 - val_mse: 0.0141\n",
            "Epoch 57/100\n",
            "11/11 [==============================] - 0s 4ms/step - loss: 0.0130 - mse: 0.0130 - val_loss: 0.0128 - val_mse: 0.0128\n",
            "Epoch 58/100\n",
            "11/11 [==============================] - 0s 4ms/step - loss: 0.0133 - mse: 0.0133 - val_loss: 0.0130 - val_mse: 0.0130\n",
            "Epoch 59/100\n",
            "11/11 [==============================] - 0s 5ms/step - loss: 0.0124 - mse: 0.0124 - val_loss: 0.0131 - val_mse: 0.0131\n",
            "Epoch 60/100\n",
            "11/11 [==============================] - 0s 4ms/step - loss: 0.0118 - mse: 0.0118 - val_loss: 0.0125 - val_mse: 0.0125\n",
            "Epoch 61/100\n",
            "11/11 [==============================] - 0s 4ms/step - loss: 0.0149 - mse: 0.0149 - val_loss: 0.0136 - val_mse: 0.0136\n",
            "Epoch 62/100\n",
            "11/11 [==============================] - 0s 5ms/step - loss: 0.0140 - mse: 0.0140 - val_loss: 0.0125 - val_mse: 0.0125\n",
            "Epoch 63/100\n",
            "11/11 [==============================] - 0s 5ms/step - loss: 0.0120 - mse: 0.0120 - val_loss: 0.0145 - val_mse: 0.0145\n",
            "Epoch 64/100\n",
            "11/11 [==============================] - 0s 5ms/step - loss: 0.0120 - mse: 0.0120 - val_loss: 0.0121 - val_mse: 0.0121\n",
            "Epoch 65/100\n",
            "11/11 [==============================] - 0s 5ms/step - loss: 0.0158 - mse: 0.0158 - val_loss: 0.0116 - val_mse: 0.0116\n",
            "Epoch 66/100\n",
            "11/11 [==============================] - 0s 4ms/step - loss: 0.0098 - mse: 0.0098 - val_loss: 0.0123 - val_mse: 0.0123\n",
            "Epoch 67/100\n",
            "11/11 [==============================] - 0s 5ms/step - loss: 0.0133 - mse: 0.0133 - val_loss: 0.0116 - val_mse: 0.0116\n",
            "Epoch 68/100\n",
            "11/11 [==============================] - 0s 4ms/step - loss: 0.0089 - mse: 0.0089 - val_loss: 0.0116 - val_mse: 0.0116\n",
            "Epoch 69/100\n",
            "11/11 [==============================] - 0s 4ms/step - loss: 0.0101 - mse: 0.0101 - val_loss: 0.0117 - val_mse: 0.0117\n",
            "Epoch 70/100\n",
            "11/11 [==============================] - 0s 4ms/step - loss: 0.0119 - mse: 0.0119 - val_loss: 0.0112 - val_mse: 0.0112\n",
            "Epoch 71/100\n",
            "11/11 [==============================] - 0s 4ms/step - loss: 0.0120 - mse: 0.0120 - val_loss: 0.0111 - val_mse: 0.0111\n",
            "Epoch 72/100\n",
            "11/11 [==============================] - 0s 4ms/step - loss: 0.0100 - mse: 0.0100 - val_loss: 0.0113 - val_mse: 0.0113\n",
            "Epoch 73/100\n",
            "11/11 [==============================] - 0s 5ms/step - loss: 0.0088 - mse: 0.0088 - val_loss: 0.0110 - val_mse: 0.0110\n",
            "Epoch 74/100\n",
            "11/11 [==============================] - 0s 5ms/step - loss: 0.0123 - mse: 0.0123 - val_loss: 0.0108 - val_mse: 0.0108\n",
            "Epoch 75/100\n",
            "11/11 [==============================] - 0s 5ms/step - loss: 0.0105 - mse: 0.0105 - val_loss: 0.0108 - val_mse: 0.0108\n",
            "Epoch 76/100\n",
            "11/11 [==============================] - 0s 5ms/step - loss: 0.0097 - mse: 0.0097 - val_loss: 0.0109 - val_mse: 0.0109\n",
            "Epoch 77/100\n",
            "11/11 [==============================] - 0s 4ms/step - loss: 0.0083 - mse: 0.0083 - val_loss: 0.0108 - val_mse: 0.0108\n",
            "Epoch 78/100\n",
            "11/11 [==============================] - 0s 6ms/step - loss: 0.0110 - mse: 0.0110 - val_loss: 0.0113 - val_mse: 0.0113\n",
            "Epoch 79/100\n",
            "11/11 [==============================] - 0s 4ms/step - loss: 0.0137 - mse: 0.0137 - val_loss: 0.0105 - val_mse: 0.0105\n",
            "Epoch 80/100\n",
            "11/11 [==============================] - 0s 4ms/step - loss: 0.0126 - mse: 0.0126 - val_loss: 0.0111 - val_mse: 0.0111\n",
            "Epoch 81/100\n",
            "11/11 [==============================] - 0s 5ms/step - loss: 0.0091 - mse: 0.0091 - val_loss: 0.0103 - val_mse: 0.0103\n",
            "Epoch 82/100\n",
            "11/11 [==============================] - 0s 5ms/step - loss: 0.0109 - mse: 0.0109 - val_loss: 0.0106 - val_mse: 0.0106\n",
            "Epoch 83/100\n",
            "11/11 [==============================] - 0s 5ms/step - loss: 0.0116 - mse: 0.0116 - val_loss: 0.0108 - val_mse: 0.0108\n",
            "Epoch 84/100\n",
            "11/11 [==============================] - 0s 5ms/step - loss: 0.0101 - mse: 0.0101 - val_loss: 0.0113 - val_mse: 0.0113\n",
            "Epoch 85/100\n",
            "11/11 [==============================] - 0s 5ms/step - loss: 0.0126 - mse: 0.0126 - val_loss: 0.0112 - val_mse: 0.0112\n",
            "Epoch 86/100\n",
            "11/11 [==============================] - 0s 4ms/step - loss: 0.0089 - mse: 0.0089 - val_loss: 0.0103 - val_mse: 0.0103\n",
            "Epoch 87/100\n",
            "11/11 [==============================] - 0s 4ms/step - loss: 0.0092 - mse: 0.0092 - val_loss: 0.0106 - val_mse: 0.0106\n",
            "Epoch 88/100\n",
            "11/11 [==============================] - 0s 4ms/step - loss: 0.0102 - mse: 0.0102 - val_loss: 0.0103 - val_mse: 0.0103\n",
            "Epoch 89/100\n",
            "11/11 [==============================] - 0s 4ms/step - loss: 0.0127 - mse: 0.0127 - val_loss: 0.0102 - val_mse: 0.0102\n",
            "Epoch 90/100\n",
            "11/11 [==============================] - 0s 5ms/step - loss: 0.0109 - mse: 0.0109 - val_loss: 0.0101 - val_mse: 0.0101\n",
            "Epoch 91/100\n",
            "11/11 [==============================] - 0s 5ms/step - loss: 0.0135 - mse: 0.0135 - val_loss: 0.0111 - val_mse: 0.0111\n",
            "Epoch 92/100\n",
            "11/11 [==============================] - 0s 5ms/step - loss: 0.0082 - mse: 0.0082 - val_loss: 0.0102 - val_mse: 0.0102\n",
            "Epoch 93/100\n",
            "11/11 [==============================] - 0s 5ms/step - loss: 0.0087 - mse: 0.0087 - val_loss: 0.0096 - val_mse: 0.0096\n",
            "Epoch 94/100\n",
            "11/11 [==============================] - 0s 5ms/step - loss: 0.0082 - mse: 0.0082 - val_loss: 0.0103 - val_mse: 0.0103\n",
            "Epoch 95/100\n",
            "11/11 [==============================] - 0s 4ms/step - loss: 0.0094 - mse: 0.0094 - val_loss: 0.0104 - val_mse: 0.0104\n",
            "Epoch 96/100\n",
            "11/11 [==============================] - 0s 5ms/step - loss: 0.0106 - mse: 0.0106 - val_loss: 0.0098 - val_mse: 0.0098\n",
            "Epoch 97/100\n",
            "11/11 [==============================] - 0s 4ms/step - loss: 0.0116 - mse: 0.0116 - val_loss: 0.0100 - val_mse: 0.0100\n",
            "Epoch 98/100\n",
            "11/11 [==============================] - 0s 5ms/step - loss: 0.0097 - mse: 0.0097 - val_loss: 0.0093 - val_mse: 0.0093\n",
            "Epoch 99/100\n",
            "11/11 [==============================] - 0s 5ms/step - loss: 0.0090 - mse: 0.0090 - val_loss: 0.0105 - val_mse: 0.0105\n",
            "Epoch 100/100\n",
            "11/11 [==============================] - 0s 5ms/step - loss: 0.0101 - mse: 0.0101 - val_loss: 0.0093 - val_mse: 0.0093\n"
          ],
          "name": "stdout"
        }
      ]
    },
    {
      "cell_type": "markdown",
      "metadata": {
        "id": "b99V-kZCnPlW"
      },
      "source": [
        "Let's plot the  validation and training loss"
      ]
    },
    {
      "cell_type": "code",
      "metadata": {
        "id": "rC2n_0_wmcJH",
        "colab": {
          "base_uri": "https://localhost:8080/",
          "height": 659
        },
        "outputId": "d36ab697-1c6a-4009-b25f-480355857fa6"
      },
      "source": [
        "\n",
        "N = 100\n",
        "import pylab as plt\n",
        "plt.figure(figsize=(8,6))\n",
        "plt.plot(np.arange(0, N), history.history[\"loss\"], label=\"train_loss\")\n",
        "plt.plot(np.arange(0, N), history.history[\"val_loss\"], label=\"val_loss\")\n",
        "\n",
        "plt.title(\"Training Loss and Validation loss on the dataset\")\n",
        "plt.xlabel(\"Epoch #\")\n",
        "plt.ylabel(\"train_Loss/val_loss\")\n",
        "plt.legend(loc=\"middle\")\n",
        "plt.show()"
      ],
      "execution_count": null,
      "outputs": [
        {
          "output_type": "stream",
          "text": [
            "/usr/local/lib/python3.7/dist-packages/ipykernel_launcher.py:11: MatplotlibDeprecationWarning: Unrecognized location 'middle'. Falling back on 'best'; valid locations are\n",
            "\tbest\n",
            "\tupper right\n",
            "\tupper left\n",
            "\tlower left\n",
            "\tlower right\n",
            "\tright\n",
            "\tcenter left\n",
            "\tcenter right\n",
            "\tlower center\n",
            "\tupper center\n",
            "\tcenter\n",
            "This will raise an exception in 3.3.\n",
            "  # This is added back by InteractiveShellApp.init_path()\n"
          ],
          "name": "stderr"
        },
        {
          "output_type": "display_data",
          "data": {
            "image/png": "[encoded data removed]",
            "text/plain": [
              "<Figure size 576x432 with 1 Axes>"
            ]
          },
          "metadata": {
            "tags": [],
            "needs_background": "light"
          }
        }
      ]
    },
    {
      "cell_type": "code",
      "metadata": {
        "colab": {
          "base_uri": "https://localhost:8080/"
        },
        "id": "IFmCeKvZxe09",
        "outputId": "47927423-8820-473f-eee9-496d6d1b481a"
      },
      "source": [
        "model.evaluate(scaled_test_x , scaled_test_y)"
      ],
      "execution_count": null,
      "outputs": [
        {
          "output_type": "stream",
          "text": [
            "4/4 [==============================] - 0s 3ms/step - loss: 0.0094 - mse: 0.0094\n"
          ],
          "name": "stdout"
        },
        {
          "output_type": "execute_result",
          "data": {
            "text/plain": [
              "[0.009357094764709473, 0.009357094764709473]"
            ]
          },
          "metadata": {
            "tags": []
          },
          "execution_count": 80
        }
      ]
    },
    {
      "cell_type": "code",
      "metadata": {
        "id": "qEbvNEX_zQ0q"
      },
      "source": [
        "#Lets Print the predicted prices \n",
        "test_predictionsk=model.predict(scaled_test_x )\n",
        "y_pred1=scaler.inverse_transform(test_predictionsk.reshape(-1, 1))"
      ],
      "execution_count": null,
      "outputs": []
    },
    {
      "cell_type": "code",
      "metadata": {
        "id": "1yqE5309yxm8",
        "colab": {
          "base_uri": "https://localhost:8080/"
        },
        "outputId": "666cf9d5-7453-49c2-da1a-d056c1efe249"
      },
      "source": [
        "from sklearn.metrics import r2_score\n",
        "r2_score(scaler.inverse_transform(scaled_test_y.reshape(-1, 1)),y_pred1)"
      ],
      "execution_count": null,
      "outputs": [
        {
          "output_type": "execute_result",
          "data": {
            "text/plain": [
              "0.7723781596021885"
            ]
          },
          "metadata": {
            "tags": []
          },
          "execution_count": 82
        }
      ]
    },
    {
      "cell_type": "markdown",
      "metadata": {
        "id": "DRAb0pWveJtw"
      },
      "source": [
        "# Model-2 \n",
        "\n",
        "Let's do the weight initialization "
      ]
    },
    {
      "cell_type": "code",
      "metadata": {
        "id": "laHx5cuqli15"
      },
      "source": [
        "import keras # importing keras library\n",
        "from keras.models import Sequential  # importing the Sequential Model\n",
        "from keras.layers import Dense       # importing Dense layer\n",
        "def build_model():\n",
        "  ## Initializing the ANN\n",
        "    \n",
        "\n",
        "  model = Sequential() \n",
        "  # This adds the input layer (by specifying input dimension) AND the first hidden layer (units)\n",
        "  input_layer = Dense(8, input_shape=(X_train.shape[1],),activation='relu',kernel_initializer='he_normal')\n",
        "  model.add(input_layer) # \n",
        "  #Adding the hidden layer\n",
        "  # Notice that we do not need to specify input dim. \n",
        "  hidden_layer = Dense(16, activation='relu',kernel_initializer='he_normal'); # defining the weight initialiazer \n",
        "  model.add(hidden_layer) \n",
        "  #Adding the output layer\n",
        "  # Notice that we do not need to specify input dim. \n",
        "  # we have an output of 1 node, which is the the desired dimensions of our output (stay with the bank or not)\n",
        "  # We use the sigmoid because we want probability outcomes\n",
        "  output_layer = Dense(1,activation='relu',kernel_initializer='he_normal') \n",
        "  \n",
        "  model.add(output_layer)\n",
        "\n",
        "\n",
        "  optimizer = keras.optimizers.RMSprop(0.001)  # Defining the optimizer \n",
        " #Loss function \n",
        "  model.compile(loss='mse',\n",
        "                optimizer=optimizer,\n",
        "                metrics=[ 'mse'])  # Defining the loss function, optimizer and metrices \n",
        "  return model"
      ],
      "execution_count": null,
      "outputs": []
    },
    {
      "cell_type": "code",
      "metadata": {
        "colab": {
          "base_uri": "https://localhost:8080/"
        },
        "id": "aaUBvYtq0_Nm",
        "outputId": "a9b27d0d-e21c-4b35-9937-5c1428597bbf"
      },
      "source": [
        "#Getting the model summary. We are uisng standalone keras to build our model\n",
        "model2 = build_model()\n",
        "model2.summary()"
      ],
      "execution_count": null,
      "outputs": [
        {
          "output_type": "stream",
          "text": [
            "Model: \"sequential_5\"\n",
            "_________________________________________________________________\n",
            "Layer (type)                 Output Shape              Param #   \n",
            "=================================================================\n",
            "dense_13 (Dense)             (None, 8)                 112       \n",
            "_________________________________________________________________\n",
            "dense_14 (Dense)             (None, 16)                144       \n",
            "_________________________________________________________________\n",
            "dense_15 (Dense)             (None, 1)                 17        \n",
            "=================================================================\n",
            "Total params: 273\n",
            "Trainable params: 273\n",
            "Non-trainable params: 0\n",
            "_________________________________________________________________\n"
          ],
          "name": "stdout"
        }
      ]
    },
    {
      "cell_type": "code",
      "metadata": {
        "colab": {
          "base_uri": "https://localhost:8080/"
        },
        "id": "xUj7Hwf7qfUW",
        "outputId": "69a4bfee-5dd4-4ca8-da3c-424c4a8e618c"
      },
      "source": [
        "#Definign the number of epochs\n",
        "import numpy as np\n",
        "EPOCHS = 100\n",
        "#fitting the model\n",
        "history = model2.fit(\n",
        "  scaled_train_x , scaled_train_y,\n",
        "  epochs=EPOCHS, validation_split = 0.2, verbose=1,)"
      ],
      "execution_count": null,
      "outputs": [
        {
          "output_type": "stream",
          "text": [
            "Epoch 1/100\n",
            "11/11 [==============================] - 0s 7ms/step - loss: 0.1856 - mse: 0.1856 - val_loss: 0.2134 - val_mse: 0.2134\n",
            "Epoch 2/100\n",
            "11/11 [==============================] - 0s 5ms/step - loss: 0.1856 - mse: 0.1856 - val_loss: 0.2134 - val_mse: 0.2134\n",
            "Epoch 3/100\n",
            "11/11 [==============================] - 0s 4ms/step - loss: 0.1856 - mse: 0.1856 - val_loss: 0.2134 - val_mse: 0.2134\n",
            "Epoch 4/100\n",
            "11/11 [==============================] - 0s 4ms/step - loss: 0.1856 - mse: 0.1856 - val_loss: 0.2134 - val_mse: 0.2134\n",
            "Epoch 5/100\n",
            "11/11 [==============================] - 0s 5ms/step - loss: 0.1856 - mse: 0.1856 - val_loss: 0.2134 - val_mse: 0.2134\n",
            "Epoch 6/100\n",
            "11/11 [==============================] - 0s 4ms/step - loss: 0.1856 - mse: 0.1856 - val_loss: 0.2134 - val_mse: 0.2134\n",
            "Epoch 7/100\n",
            "11/11 [==============================] - 0s 4ms/step - loss: 0.1856 - mse: 0.1856 - val_loss: 0.2134 - val_mse: 0.2134\n",
            "Epoch 8/100\n",
            "11/11 [==============================] - 0s 4ms/step - loss: 0.1856 - mse: 0.1856 - val_loss: 0.2134 - val_mse: 0.2134\n",
            "Epoch 9/100\n",
            "11/11 [==============================] - 0s 4ms/step - loss: 0.1856 - mse: 0.1856 - val_loss: 0.2134 - val_mse: 0.2134\n",
            "Epoch 10/100\n",
            "11/11 [==============================] - 0s 4ms/step - loss: 0.1856 - mse: 0.1856 - val_loss: 0.2134 - val_mse: 0.2134\n",
            "Epoch 11/100\n",
            "11/11 [==============================] - 0s 4ms/step - loss: 0.1856 - mse: 0.1856 - val_loss: 0.2134 - val_mse: 0.2134\n",
            "Epoch 12/100\n",
            "11/11 [==============================] - 0s 6ms/step - loss: 0.1856 - mse: 0.1856 - val_loss: 0.2134 - val_mse: 0.2134\n",
            "Epoch 13/100\n",
            "11/11 [==============================] - 0s 4ms/step - loss: 0.1856 - mse: 0.1856 - val_loss: 0.2134 - val_mse: 0.2134\n",
            "Epoch 14/100\n",
            "11/11 [==============================] - 0s 6ms/step - loss: 0.1856 - mse: 0.1856 - val_loss: 0.2134 - val_mse: 0.2134\n",
            "Epoch 15/100\n",
            "11/11 [==============================] - 0s 6ms/step - loss: 0.1856 - mse: 0.1856 - val_loss: 0.2134 - val_mse: 0.2134\n",
            "Epoch 16/100\n",
            "11/11 [==============================] - 0s 6ms/step - loss: 0.1856 - mse: 0.1856 - val_loss: 0.2134 - val_mse: 0.2134\n",
            "Epoch 17/100\n",
            "11/11 [==============================] - 0s 6ms/step - loss: 0.1856 - mse: 0.1856 - val_loss: 0.2134 - val_mse: 0.2134\n",
            "Epoch 18/100\n",
            "11/11 [==============================] - 0s 4ms/step - loss: 0.1856 - mse: 0.1856 - val_loss: 0.2134 - val_mse: 0.2134\n",
            "Epoch 19/100\n",
            "11/11 [==============================] - 0s 6ms/step - loss: 0.1856 - mse: 0.1856 - val_loss: 0.2134 - val_mse: 0.2134\n",
            "Epoch 20/100\n",
            "11/11 [==============================] - 0s 4ms/step - loss: 0.1856 - mse: 0.1856 - val_loss: 0.2134 - val_mse: 0.2134\n",
            "Epoch 21/100\n",
            "11/11 [==============================] - 0s 4ms/step - loss: 0.1856 - mse: 0.1856 - val_loss: 0.2134 - val_mse: 0.2134\n",
            "Epoch 22/100\n",
            "11/11 [==============================] - 0s 5ms/step - loss: 0.1856 - mse: 0.1856 - val_loss: 0.2134 - val_mse: 0.2134\n",
            "Epoch 23/100\n",
            "11/11 [==============================] - 0s 5ms/step - loss: 0.1856 - mse: 0.1856 - val_loss: 0.2134 - val_mse: 0.2134\n",
            "Epoch 24/100\n",
            "11/11 [==============================] - 0s 5ms/step - loss: 0.1856 - mse: 0.1856 - val_loss: 0.2134 - val_mse: 0.2134\n",
            "Epoch 25/100\n",
            "11/11 [==============================] - 0s 4ms/step - loss: 0.1856 - mse: 0.1856 - val_loss: 0.2134 - val_mse: 0.2134\n",
            "Epoch 26/100\n",
            "11/11 [==============================] - 0s 4ms/step - loss: 0.1856 - mse: 0.1856 - val_loss: 0.2134 - val_mse: 0.2134\n",
            "Epoch 27/100\n",
            "11/11 [==============================] - 0s 4ms/step - loss: 0.1856 - mse: 0.1856 - val_loss: 0.2134 - val_mse: 0.2134\n",
            "Epoch 28/100\n",
            "11/11 [==============================] - 0s 4ms/step - loss: 0.1856 - mse: 0.1856 - val_loss: 0.2134 - val_mse: 0.2134\n",
            "Epoch 29/100\n",
            "11/11 [==============================] - 0s 4ms/step - loss: 0.1856 - mse: 0.1856 - val_loss: 0.2134 - val_mse: 0.2134\n",
            "Epoch 30/100\n",
            "11/11 [==============================] - 0s 6ms/step - loss: 0.1856 - mse: 0.1856 - val_loss: 0.2134 - val_mse: 0.2134\n",
            "Epoch 31/100\n",
            "11/11 [==============================] - 0s 5ms/step - loss: 0.1856 - mse: 0.1856 - val_loss: 0.2134 - val_mse: 0.2134\n",
            "Epoch 32/100\n",
            "11/11 [==============================] - 0s 4ms/step - loss: 0.1856 - mse: 0.1856 - val_loss: 0.2134 - val_mse: 0.2134\n",
            "Epoch 33/100\n",
            "11/11 [==============================] - 0s 4ms/step - loss: 0.1856 - mse: 0.1856 - val_loss: 0.2134 - val_mse: 0.2134\n",
            "Epoch 34/100\n",
            "11/11 [==============================] - 0s 4ms/step - loss: 0.1856 - mse: 0.1856 - val_loss: 0.2134 - val_mse: 0.2134\n",
            "Epoch 35/100\n",
            "11/11 [==============================] - 0s 4ms/step - loss: 0.1856 - mse: 0.1856 - val_loss: 0.2134 - val_mse: 0.2134\n",
            "Epoch 36/100\n",
            "11/11 [==============================] - 0s 4ms/step - loss: 0.1856 - mse: 0.1856 - val_loss: 0.2134 - val_mse: 0.2134\n",
            "Epoch 37/100\n",
            "11/11 [==============================] - 0s 4ms/step - loss: 0.1856 - mse: 0.1856 - val_loss: 0.2134 - val_mse: 0.2134\n",
            "Epoch 38/100\n",
            "11/11 [==============================] - 0s 5ms/step - loss: 0.1856 - mse: 0.1856 - val_loss: 0.2134 - val_mse: 0.2134\n",
            "Epoch 39/100\n",
            "11/11 [==============================] - 0s 4ms/step - loss: 0.1856 - mse: 0.1856 - val_loss: 0.2134 - val_mse: 0.2134\n",
            "Epoch 40/100\n",
            "11/11 [==============================] - 0s 4ms/step - loss: 0.1856 - mse: 0.1856 - val_loss: 0.2134 - val_mse: 0.2134\n",
            "Epoch 41/100\n",
            "11/11 [==============================] - 0s 5ms/step - loss: 0.1856 - mse: 0.1856 - val_loss: 0.2134 - val_mse: 0.2134\n",
            "Epoch 42/100\n",
            "11/11 [==============================] - 0s 4ms/step - loss: 0.1856 - mse: 0.1856 - val_loss: 0.2134 - val_mse: 0.2134\n",
            "Epoch 43/100\n",
            "11/11 [==============================] - 0s 4ms/step - loss: 0.1856 - mse: 0.1856 - val_loss: 0.2134 - val_mse: 0.2134\n",
            "Epoch 44/100\n",
            "11/11 [==============================] - 0s 5ms/step - loss: 0.1856 - mse: 0.1856 - val_loss: 0.2134 - val_mse: 0.2134\n",
            "Epoch 45/100\n",
            "11/11 [==============================] - 0s 5ms/step - loss: 0.1856 - mse: 0.1856 - val_loss: 0.2134 - val_mse: 0.2134\n",
            "Epoch 46/100\n",
            "11/11 [==============================] - 0s 6ms/step - loss: 0.1856 - mse: 0.1856 - val_loss: 0.2134 - val_mse: 0.2134\n",
            "Epoch 47/100\n",
            "11/11 [==============================] - 0s 5ms/step - loss: 0.1856 - mse: 0.1856 - val_loss: 0.2134 - val_mse: 0.2134\n",
            "Epoch 48/100\n",
            "11/11 [==============================] - 0s 5ms/step - loss: 0.1856 - mse: 0.1856 - val_loss: 0.2134 - val_mse: 0.2134\n",
            "Epoch 49/100\n",
            "11/11 [==============================] - 0s 4ms/step - loss: 0.1856 - mse: 0.1856 - val_loss: 0.2134 - val_mse: 0.2134\n",
            "Epoch 50/100\n",
            "11/11 [==============================] - 0s 4ms/step - loss: 0.1856 - mse: 0.1856 - val_loss: 0.2134 - val_mse: 0.2134\n",
            "Epoch 51/100\n",
            "11/11 [==============================] - 0s 4ms/step - loss: 0.1856 - mse: 0.1856 - val_loss: 0.2134 - val_mse: 0.2134\n",
            "Epoch 52/100\n",
            "11/11 [==============================] - 0s 4ms/step - loss: 0.1856 - mse: 0.1856 - val_loss: 0.2134 - val_mse: 0.2134\n",
            "Epoch 53/100\n",
            "11/11 [==============================] - 0s 5ms/step - loss: 0.1856 - mse: 0.1856 - val_loss: 0.2134 - val_mse: 0.2134\n",
            "Epoch 54/100\n",
            "11/11 [==============================] - 0s 4ms/step - loss: 0.1856 - mse: 0.1856 - val_loss: 0.2134 - val_mse: 0.2134\n",
            "Epoch 55/100\n",
            "11/11 [==============================] - 0s 5ms/step - loss: 0.1856 - mse: 0.1856 - val_loss: 0.2134 - val_mse: 0.2134\n",
            "Epoch 56/100\n",
            "11/11 [==============================] - 0s 5ms/step - loss: 0.1856 - mse: 0.1856 - val_loss: 0.2134 - val_mse: 0.2134\n",
            "Epoch 57/100\n",
            "11/11 [==============================] - 0s 4ms/step - loss: 0.1856 - mse: 0.1856 - val_loss: 0.2134 - val_mse: 0.2134\n",
            "Epoch 58/100\n",
            "11/11 [==============================] - 0s 5ms/step - loss: 0.1856 - mse: 0.1856 - val_loss: 0.2134 - val_mse: 0.2134\n",
            "Epoch 59/100\n",
            "11/11 [==============================] - 0s 5ms/step - loss: 0.1856 - mse: 0.1856 - val_loss: 0.2134 - val_mse: 0.2134\n",
            "Epoch 60/100\n",
            "11/11 [==============================] - 0s 5ms/step - loss: 0.1856 - mse: 0.1856 - val_loss: 0.2134 - val_mse: 0.2134\n",
            "Epoch 61/100\n",
            "11/11 [==============================] - 0s 5ms/step - loss: 0.1856 - mse: 0.1856 - val_loss: 0.2134 - val_mse: 0.2134\n",
            "Epoch 62/100\n",
            "11/11 [==============================] - 0s 5ms/step - loss: 0.1856 - mse: 0.1856 - val_loss: 0.2134 - val_mse: 0.2134\n",
            "Epoch 63/100\n",
            "11/11 [==============================] - 0s 5ms/step - loss: 0.1856 - mse: 0.1856 - val_loss: 0.2134 - val_mse: 0.2134\n",
            "Epoch 64/100\n",
            "11/11 [==============================] - 0s 4ms/step - loss: 0.1856 - mse: 0.1856 - val_loss: 0.2134 - val_mse: 0.2134\n",
            "Epoch 65/100\n",
            "11/11 [==============================] - 0s 4ms/step - loss: 0.1856 - mse: 0.1856 - val_loss: 0.2134 - val_mse: 0.2134\n",
            "Epoch 66/100\n",
            "11/11 [==============================] - 0s 4ms/step - loss: 0.1856 - mse: 0.1856 - val_loss: 0.2134 - val_mse: 0.2134\n",
            "Epoch 67/100\n",
            "11/11 [==============================] - 0s 4ms/step - loss: 0.1856 - mse: 0.1856 - val_loss: 0.2134 - val_mse: 0.2134\n",
            "Epoch 68/100\n",
            "11/11 [==============================] - 0s 5ms/step - loss: 0.1856 - mse: 0.1856 - val_loss: 0.2134 - val_mse: 0.2134\n",
            "Epoch 69/100\n",
            "11/11 [==============================] - 0s 5ms/step - loss: 0.1856 - mse: 0.1856 - val_loss: 0.2134 - val_mse: 0.2134\n",
            "Epoch 70/100\n",
            "11/11 [==============================] - 0s 4ms/step - loss: 0.1856 - mse: 0.1856 - val_loss: 0.2134 - val_mse: 0.2134\n",
            "Epoch 71/100\n",
            "11/11 [==============================] - 0s 4ms/step - loss: 0.1856 - mse: 0.1856 - val_loss: 0.2134 - val_mse: 0.2134\n",
            "Epoch 72/100\n",
            "11/11 [==============================] - 0s 5ms/step - loss: 0.1856 - mse: 0.1856 - val_loss: 0.2134 - val_mse: 0.2134\n",
            "Epoch 73/100\n",
            "11/11 [==============================] - 0s 5ms/step - loss: 0.1856 - mse: 0.1856 - val_loss: 0.2134 - val_mse: 0.2134\n",
            "Epoch 74/100\n",
            "11/11 [==============================] - 0s 8ms/step - loss: 0.1856 - mse: 0.1856 - val_loss: 0.2134 - val_mse: 0.2134\n",
            "Epoch 75/100\n",
            "11/11 [==============================] - 0s 5ms/step - loss: 0.1856 - mse: 0.1856 - val_loss: 0.2134 - val_mse: 0.2134\n",
            "Epoch 76/100\n",
            "11/11 [==============================] - 0s 4ms/step - loss: 0.1856 - mse: 0.1856 - val_loss: 0.2134 - val_mse: 0.2134\n",
            "Epoch 77/100\n",
            "11/11 [==============================] - 0s 4ms/step - loss: 0.1856 - mse: 0.1856 - val_loss: 0.2134 - val_mse: 0.2134\n",
            "Epoch 78/100\n",
            "11/11 [==============================] - 0s 4ms/step - loss: 0.1856 - mse: 0.1856 - val_loss: 0.2134 - val_mse: 0.2134\n",
            "Epoch 79/100\n",
            "11/11 [==============================] - 0s 5ms/step - loss: 0.1856 - mse: 0.1856 - val_loss: 0.2134 - val_mse: 0.2134\n",
            "Epoch 80/100\n",
            "11/11 [==============================] - 0s 6ms/step - loss: 0.1856 - mse: 0.1856 - val_loss: 0.2134 - val_mse: 0.2134\n",
            "Epoch 81/100\n",
            "11/11 [==============================] - 0s 4ms/step - loss: 0.1856 - mse: 0.1856 - val_loss: 0.2134 - val_mse: 0.2134\n",
            "Epoch 82/100\n",
            "11/11 [==============================] - 0s 4ms/step - loss: 0.1856 - mse: 0.1856 - val_loss: 0.2134 - val_mse: 0.2134\n",
            "Epoch 83/100\n",
            "11/11 [==============================] - 0s 5ms/step - loss: 0.1856 - mse: 0.1856 - val_loss: 0.2134 - val_mse: 0.2134\n",
            "Epoch 84/100\n",
            "11/11 [==============================] - 0s 5ms/step - loss: 0.1856 - mse: 0.1856 - val_loss: 0.2134 - val_mse: 0.2134\n",
            "Epoch 85/100\n",
            "11/11 [==============================] - 0s 4ms/step - loss: 0.1856 - mse: 0.1856 - val_loss: 0.2134 - val_mse: 0.2134\n",
            "Epoch 86/100\n",
            "11/11 [==============================] - 0s 4ms/step - loss: 0.1856 - mse: 0.1856 - val_loss: 0.2134 - val_mse: 0.2134\n",
            "Epoch 87/100\n",
            "11/11 [==============================] - 0s 4ms/step - loss: 0.1856 - mse: 0.1856 - val_loss: 0.2134 - val_mse: 0.2134\n",
            "Epoch 88/100\n",
            "11/11 [==============================] - 0s 4ms/step - loss: 0.1856 - mse: 0.1856 - val_loss: 0.2134 - val_mse: 0.2134\n",
            "Epoch 89/100\n",
            "11/11 [==============================] - 0s 6ms/step - loss: 0.1856 - mse: 0.1856 - val_loss: 0.2134 - val_mse: 0.2134\n",
            "Epoch 90/100\n",
            "11/11 [==============================] - 0s 5ms/step - loss: 0.1856 - mse: 0.1856 - val_loss: 0.2134 - val_mse: 0.2134\n",
            "Epoch 91/100\n",
            "11/11 [==============================] - 0s 5ms/step - loss: 0.1856 - mse: 0.1856 - val_loss: 0.2134 - val_mse: 0.2134\n",
            "Epoch 92/100\n",
            "11/11 [==============================] - 0s 6ms/step - loss: 0.1856 - mse: 0.1856 - val_loss: 0.2134 - val_mse: 0.2134\n",
            "Epoch 93/100\n",
            "11/11 [==============================] - 0s 5ms/step - loss: 0.1856 - mse: 0.1856 - val_loss: 0.2134 - val_mse: 0.2134\n",
            "Epoch 94/100\n",
            "11/11 [==============================] - 0s 4ms/step - loss: 0.1856 - mse: 0.1856 - val_loss: 0.2134 - val_mse: 0.2134\n",
            "Epoch 95/100\n",
            "11/11 [==============================] - 0s 4ms/step - loss: 0.1856 - mse: 0.1856 - val_loss: 0.2134 - val_mse: 0.2134\n",
            "Epoch 96/100\n",
            "11/11 [==============================] - 0s 4ms/step - loss: 0.1856 - mse: 0.1856 - val_loss: 0.2134 - val_mse: 0.2134\n",
            "Epoch 97/100\n",
            "11/11 [==============================] - 0s 5ms/step - loss: 0.1856 - mse: 0.1856 - val_loss: 0.2134 - val_mse: 0.2134\n",
            "Epoch 98/100\n",
            "11/11 [==============================] - 0s 4ms/step - loss: 0.1856 - mse: 0.1856 - val_loss: 0.2134 - val_mse: 0.2134\n",
            "Epoch 99/100\n",
            "11/11 [==============================] - 0s 4ms/step - loss: 0.1856 - mse: 0.1856 - val_loss: 0.2134 - val_mse: 0.2134\n",
            "Epoch 100/100\n",
            "11/11 [==============================] - 0s 5ms/step - loss: 0.1856 - mse: 0.1856 - val_loss: 0.2134 - val_mse: 0.2134\n"
          ],
          "name": "stdout"
        }
      ]
    },
    {
      "cell_type": "code",
      "metadata": {
        "colab": {
          "base_uri": "https://localhost:8080/",
          "height": 659
        },
        "id": "xQ38E-nvqrzt",
        "outputId": "0c9e60e5-2d9e-42e7-dfde-c36e2f0c110f"
      },
      "source": [
        "\n",
        "N = 100\n",
        "import pylab as plt\n",
        "plt.figure(figsize=(8,6))\n",
        "plt.plot(np.arange(0, N), history.history[\"loss\"], label=\"train_loss\")\n",
        "plt.plot(np.arange(0, N), history.history[\"val_loss\"], label=\"val_loss\")\n",
        "\n",
        "plt.title(\"Training Loss and Validation loss on the dataset\")\n",
        "plt.xlabel(\"Epoch #\")\n",
        "plt.ylabel(\"train_Loss/val_loss\")\n",
        "plt.legend(loc=\"middle\")\n",
        "plt.show()"
      ],
      "execution_count": null,
      "outputs": [
        {
          "output_type": "stream",
          "text": [
            "/usr/local/lib/python3.7/dist-packages/ipykernel_launcher.py:11: MatplotlibDeprecationWarning: Unrecognized location 'middle'. Falling back on 'best'; valid locations are\n",
            "\tbest\n",
            "\tupper right\n",
            "\tupper left\n",
            "\tlower left\n",
            "\tlower right\n",
            "\tright\n",
            "\tcenter left\n",
            "\tcenter right\n",
            "\tlower center\n",
            "\tupper center\n",
            "\tcenter\n",
            "This will raise an exception in 3.3.\n",
            "  # This is added back by InteractiveShellApp.init_path()\n"
          ],
          "name": "stderr"
        },
        {
          "output_type": "display_data",
          "data": {
            "image/png": "[encoded data removed]",
            "text/plain": [
              "<Figure size 576x432 with 1 Axes>"
            ]
          },
          "metadata": {
            "tags": [],
            "needs_background": "light"
          }
        }
      ]
    },
    {
      "cell_type": "markdown",
      "metadata": {
        "id": "zVVpKlqr4Oj-"
      },
      "source": [
        "As you can see , the above model is underfitting since it is not able to learn the training data. Here, model is not at all learning anything when we change the weight initializer to hue_normal from the default GlorotUniform, the model started underfitting. "
      ]
    },
    {
      "cell_type": "markdown",
      "metadata": {
        "id": "ny16YdKMEicj"
      },
      "source": [
        "\n",
        "##Testing the model\n",
        "\n"
      ]
    },
    {
      "cell_type": "code",
      "metadata": {
        "colab": {
          "base_uri": "https://localhost:8080/"
        },
        "id": "6MCL8Vyo1mO-",
        "outputId": "96a67157-e3ab-4a52-8e94-784c0bc5e874"
      },
      "source": [
        "model2.evaluate(scaled_test_x , scaled_test_y)"
      ],
      "execution_count": null,
      "outputs": [
        {
          "output_type": "stream",
          "text": [
            "4/4 [==============================] - 0s 3ms/step - loss: 0.2025 - mse: 0.2025\n"
          ],
          "name": "stdout"
        },
        {
          "output_type": "execute_result",
          "data": {
            "text/plain": [
              "[0.2025054544210434, 0.2025054544210434]"
            ]
          },
          "metadata": {
            "tags": []
          },
          "execution_count": 51
        }
      ]
    },
    {
      "cell_type": "code",
      "metadata": {
        "id": "JXnPOIrX1mPT"
      },
      "source": [
        "#Lets Print the predicted prices \n",
        "test_predictionsk=model2.predict(scaled_test_x )\n",
        "y_pred1=scaler.inverse_transform(test_predictionsk.reshape(-1, 1))"
      ],
      "execution_count": null,
      "outputs": []
    },
    {
      "cell_type": "code",
      "metadata": {
        "colab": {
          "base_uri": "https://localhost:8080/"
        },
        "id": "9bI55g571mPU",
        "outputId": "5524b74e-2529-47ad-9f5a-8fdac8f633ab"
      },
      "source": [
        "from sklearn.metrics import r2_score\n",
        "r2_score(scaler.inverse_transform(scaled_test_y.reshape(-1, 1)),y_pred1)"
      ],
      "execution_count": null,
      "outputs": [
        {
          "output_type": "execute_result",
          "data": {
            "text/plain": [
              "-3.9261721641116347"
            ]
          },
          "metadata": {
            "tags": []
          },
          "execution_count": 53
        }
      ]
    },
    {
      "cell_type": "markdown",
      "metadata": {
        "id": "c5qtWX2D_efk"
      },
      "source": [
        "#Model-**3**\n",
        "\n",
        "Adding Batch norm **layer**"
      ]
    },
    {
      "cell_type": "code",
      "metadata": {
        "id": "KgPy0twS6VOd"
      },
      "source": [
        "import keras # importing keras library\n",
        "from keras.models import Sequential  # importing the Sequential Model\n",
        "from keras.layers import Dense,Dropout,BatchNormalization       # importing Dense layer\n",
        "def build_model():\n",
        "  ## Initializing the ANN\n",
        "    \n",
        "\n",
        "  model = Sequential() \n",
        "  # This adds the input layer (by specifying input dimension) AND the first hidden layer (units)\n",
        "  input_layer = Dense(8, input_shape=(X_train.shape[1],),activation='relu',kernel_initializer='he_normal')\n",
        "  model.add(input_layer) # \n",
        "  #Adding the hidden layer\n",
        "  model.add(BatchNormalization())# defining the batchnorm\n",
        "  # Notice that we do not need to specify input dim. \n",
        "  hidden_layer = Dense(16, activation='relu',kernel_initializer='he_normal'); # defining the weight initialiazer \n",
        "  model.add(hidden_layer) \n",
        "  #Adding the output layer\n",
        "  # Notice that we do not need to specify input dim. \n",
        "  # we have an output of 1 node, which is the the desired dimensions of our output (stay with the bank or not)\n",
        "  # We use the sigmoid because we want probability outcomes\n",
        "  output_layer = Dense(1,activation='relu',kernel_initializer='he_normal') \n",
        "  \n",
        "  model.add(output_layer)\n",
        "\n",
        "\n",
        "  optimizer = keras.optimizers.RMSprop(0.001)  # Defining the optimizer \n",
        " #Loss function \n",
        "  model.compile(loss='mse',\n",
        "                optimizer=optimizer,\n",
        "                metrics=[ 'mse'])  # Defining the loss function, optimizer and metrices \n",
        "  return model"
      ],
      "execution_count": null,
      "outputs": []
    },
    {
      "cell_type": "code",
      "metadata": {
        "colab": {
          "base_uri": "https://localhost:8080/"
        },
        "id": "2jq5drAf_ojA",
        "outputId": "94e0b708-d209-460a-9d3b-1b72c17f160b"
      },
      "source": [
        "#Getting the model summary. We are uisng standalone keras to build our model\n",
        "model3 = build_model()\n",
        "model3.summary()"
      ],
      "execution_count": null,
      "outputs": [
        {
          "output_type": "stream",
          "text": [
            "Model: \"sequential_8\"\n",
            "_________________________________________________________________\n",
            "Layer (type)                 Output Shape              Param #   \n",
            "=================================================================\n",
            "dense_20 (Dense)             (None, 8)                 112       \n",
            "_________________________________________________________________\n",
            "batch_normalization (BatchNo (None, 8)                 32        \n",
            "_________________________________________________________________\n",
            "dense_21 (Dense)             (None, 16)                144       \n",
            "_________________________________________________________________\n",
            "dense_22 (Dense)             (None, 1)                 17        \n",
            "=================================================================\n",
            "Total params: 305\n",
            "Trainable params: 289\n",
            "Non-trainable params: 16\n",
            "_________________________________________________________________\n"
          ],
          "name": "stdout"
        }
      ]
    },
    {
      "cell_type": "code",
      "metadata": {
        "colab": {
          "base_uri": "https://localhost:8080/"
        },
        "id": "Mn1AevcH_scP",
        "outputId": "58639d28-17ac-4c74-a9c6-ca11f1601399"
      },
      "source": [
        "#Definign the number of epochs\n",
        "import numpy as np\n",
        "EPOCHS = 100\n",
        "#fitting the model\n",
        "history = model3.fit(\n",
        "  scaled_train_x , scaled_train_y,\n",
        "  epochs=EPOCHS, validation_split = 0.2, verbose=1,)"
      ],
      "execution_count": null,
      "outputs": [
        {
          "output_type": "stream",
          "text": [
            "Epoch 1/100\n",
            "11/11 [==============================] - 3s 28ms/step - loss: 0.3135 - mse: 0.3135 - val_loss: 0.2075 - val_mse: 0.2075\n",
            "Epoch 2/100\n",
            "11/11 [==============================] - 0s 5ms/step - loss: 0.1535 - mse: 0.1535 - val_loss: 0.2103 - val_mse: 0.2103\n",
            "Epoch 3/100\n",
            "11/11 [==============================] - 0s 5ms/step - loss: 0.1189 - mse: 0.1189 - val_loss: 0.2047 - val_mse: 0.2047\n",
            "Epoch 4/100\n",
            "11/11 [==============================] - 0s 5ms/step - loss: 0.1008 - mse: 0.1008 - val_loss: 0.1999 - val_mse: 0.1999\n",
            "Epoch 5/100\n",
            "11/11 [==============================] - 0s 5ms/step - loss: 0.1045 - mse: 0.1045 - val_loss: 0.2016 - val_mse: 0.2016\n",
            "Epoch 6/100\n",
            "11/11 [==============================] - 0s 6ms/step - loss: 0.0857 - mse: 0.0857 - val_loss: 0.1879 - val_mse: 0.1879\n",
            "Epoch 7/100\n",
            "11/11 [==============================] - 0s 5ms/step - loss: 0.0917 - mse: 0.0917 - val_loss: 0.1913 - val_mse: 0.1913\n",
            "Epoch 8/100\n",
            "11/11 [==============================] - 0s 5ms/step - loss: 0.0931 - mse: 0.0931 - val_loss: 0.1841 - val_mse: 0.1841\n",
            "Epoch 9/100\n",
            "11/11 [==============================] - 0s 5ms/step - loss: 0.0786 - mse: 0.0786 - val_loss: 0.1713 - val_mse: 0.1713\n",
            "Epoch 10/100\n",
            "11/11 [==============================] - 0s 5ms/step - loss: 0.0813 - mse: 0.0813 - val_loss: 0.1649 - val_mse: 0.1649\n",
            "Epoch 11/100\n",
            "11/11 [==============================] - 0s 5ms/step - loss: 0.0826 - mse: 0.0826 - val_loss: 0.1530 - val_mse: 0.1530\n",
            "Epoch 12/100\n",
            "11/11 [==============================] - 0s 5ms/step - loss: 0.0721 - mse: 0.0721 - val_loss: 0.1515 - val_mse: 0.1515\n",
            "Epoch 13/100\n",
            "11/11 [==============================] - 0s 5ms/step - loss: 0.0674 - mse: 0.0674 - val_loss: 0.1499 - val_mse: 0.1499\n",
            "Epoch 14/100\n",
            "11/11 [==============================] - 0s 5ms/step - loss: 0.0580 - mse: 0.0580 - val_loss: 0.1435 - val_mse: 0.1435\n",
            "Epoch 15/100\n",
            "11/11 [==============================] - 0s 5ms/step - loss: 0.0530 - mse: 0.0530 - val_loss: 0.1439 - val_mse: 0.1439\n",
            "Epoch 16/100\n",
            "11/11 [==============================] - 0s 5ms/step - loss: 0.0615 - mse: 0.0615 - val_loss: 0.1326 - val_mse: 0.1326\n",
            "Epoch 17/100\n",
            "11/11 [==============================] - 0s 5ms/step - loss: 0.0559 - mse: 0.0559 - val_loss: 0.1316 - val_mse: 0.1316\n",
            "Epoch 18/100\n",
            "11/11 [==============================] - 0s 5ms/step - loss: 0.0473 - mse: 0.0473 - val_loss: 0.1279 - val_mse: 0.1279\n",
            "Epoch 19/100\n",
            "11/11 [==============================] - 0s 5ms/step - loss: 0.0508 - mse: 0.0508 - val_loss: 0.1264 - val_mse: 0.1264\n",
            "Epoch 20/100\n",
            "11/11 [==============================] - 0s 5ms/step - loss: 0.0629 - mse: 0.0629 - val_loss: 0.1213 - val_mse: 0.1213\n",
            "Epoch 21/100\n",
            "11/11 [==============================] - 0s 5ms/step - loss: 0.0536 - mse: 0.0536 - val_loss: 0.1207 - val_mse: 0.1207\n",
            "Epoch 22/100\n",
            "11/11 [==============================] - 0s 5ms/step - loss: 0.0447 - mse: 0.0447 - val_loss: 0.1220 - val_mse: 0.1220\n",
            "Epoch 23/100\n",
            "11/11 [==============================] - 0s 5ms/step - loss: 0.0477 - mse: 0.0477 - val_loss: 0.1121 - val_mse: 0.1121\n",
            "Epoch 24/100\n",
            "11/11 [==============================] - 0s 6ms/step - loss: 0.0435 - mse: 0.0435 - val_loss: 0.1138 - val_mse: 0.1138\n",
            "Epoch 25/100\n",
            "11/11 [==============================] - 0s 5ms/step - loss: 0.0561 - mse: 0.0561 - val_loss: 0.1131 - val_mse: 0.1131\n",
            "Epoch 26/100\n",
            "11/11 [==============================] - 0s 5ms/step - loss: 0.0480 - mse: 0.0480 - val_loss: 0.1093 - val_mse: 0.1093\n",
            "Epoch 27/100\n",
            "11/11 [==============================] - 0s 5ms/step - loss: 0.0507 - mse: 0.0507 - val_loss: 0.1105 - val_mse: 0.1105\n",
            "Epoch 28/100\n",
            "11/11 [==============================] - 0s 5ms/step - loss: 0.0493 - mse: 0.0493 - val_loss: 0.1045 - val_mse: 0.1045\n",
            "Epoch 29/100\n",
            "11/11 [==============================] - 0s 5ms/step - loss: 0.0563 - mse: 0.0563 - val_loss: 0.1012 - val_mse: 0.1012\n",
            "Epoch 30/100\n",
            "11/11 [==============================] - 0s 5ms/step - loss: 0.0472 - mse: 0.0472 - val_loss: 0.0950 - val_mse: 0.0950\n",
            "Epoch 31/100\n",
            "11/11 [==============================] - 0s 5ms/step - loss: 0.0485 - mse: 0.0485 - val_loss: 0.0950 - val_mse: 0.0950\n",
            "Epoch 32/100\n",
            "11/11 [==============================] - 0s 5ms/step - loss: 0.0494 - mse: 0.0494 - val_loss: 0.0946 - val_mse: 0.0946\n",
            "Epoch 33/100\n",
            "11/11 [==============================] - 0s 6ms/step - loss: 0.0460 - mse: 0.0460 - val_loss: 0.0946 - val_mse: 0.0946\n",
            "Epoch 34/100\n",
            "11/11 [==============================] - 0s 5ms/step - loss: 0.0457 - mse: 0.0457 - val_loss: 0.0918 - val_mse: 0.0918\n",
            "Epoch 35/100\n",
            "11/11 [==============================] - 0s 5ms/step - loss: 0.0419 - mse: 0.0419 - val_loss: 0.0900 - val_mse: 0.0900\n",
            "Epoch 36/100\n",
            "11/11 [==============================] - 0s 5ms/step - loss: 0.0459 - mse: 0.0459 - val_loss: 0.0865 - val_mse: 0.0865\n",
            "Epoch 37/100\n",
            "11/11 [==============================] - 0s 5ms/step - loss: 0.0515 - mse: 0.0515 - val_loss: 0.0856 - val_mse: 0.0856\n",
            "Epoch 38/100\n",
            "11/11 [==============================] - 0s 6ms/step - loss: 0.0388 - mse: 0.0388 - val_loss: 0.0814 - val_mse: 0.0814\n",
            "Epoch 39/100\n",
            "11/11 [==============================] - 0s 5ms/step - loss: 0.0377 - mse: 0.0377 - val_loss: 0.0805 - val_mse: 0.0805\n",
            "Epoch 40/100\n",
            "11/11 [==============================] - 0s 5ms/step - loss: 0.0416 - mse: 0.0416 - val_loss: 0.0749 - val_mse: 0.0749\n",
            "Epoch 41/100\n",
            "11/11 [==============================] - 0s 7ms/step - loss: 0.0440 - mse: 0.0440 - val_loss: 0.0737 - val_mse: 0.0737\n",
            "Epoch 42/100\n",
            "11/11 [==============================] - 0s 5ms/step - loss: 0.0401 - mse: 0.0401 - val_loss: 0.0697 - val_mse: 0.0697\n",
            "Epoch 43/100\n",
            "11/11 [==============================] - 0s 5ms/step - loss: 0.0443 - mse: 0.0443 - val_loss: 0.0699 - val_mse: 0.0699\n",
            "Epoch 44/100\n",
            "11/11 [==============================] - 0s 5ms/step - loss: 0.0337 - mse: 0.0337 - val_loss: 0.0695 - val_mse: 0.0695\n",
            "Epoch 45/100\n",
            "11/11 [==============================] - 0s 5ms/step - loss: 0.0353 - mse: 0.0353 - val_loss: 0.0695 - val_mse: 0.0695\n",
            "Epoch 46/100\n",
            "11/11 [==============================] - 0s 5ms/step - loss: 0.0323 - mse: 0.0323 - val_loss: 0.0660 - val_mse: 0.0660\n",
            "Epoch 47/100\n",
            "11/11 [==============================] - 0s 5ms/step - loss: 0.0366 - mse: 0.0366 - val_loss: 0.0667 - val_mse: 0.0667\n",
            "Epoch 48/100\n",
            "11/11 [==============================] - 0s 5ms/step - loss: 0.0315 - mse: 0.0315 - val_loss: 0.0673 - val_mse: 0.0673\n",
            "Epoch 49/100\n",
            "11/11 [==============================] - 0s 5ms/step - loss: 0.0314 - mse: 0.0314 - val_loss: 0.0676 - val_mse: 0.0676\n",
            "Epoch 50/100\n",
            "11/11 [==============================] - 0s 5ms/step - loss: 0.0288 - mse: 0.0288 - val_loss: 0.0669 - val_mse: 0.0669\n",
            "Epoch 51/100\n",
            "11/11 [==============================] - 0s 5ms/step - loss: 0.0287 - mse: 0.0287 - val_loss: 0.0672 - val_mse: 0.0672\n",
            "Epoch 52/100\n",
            "11/11 [==============================] - 0s 5ms/step - loss: 0.0261 - mse: 0.0261 - val_loss: 0.0648 - val_mse: 0.0648\n",
            "Epoch 53/100\n",
            "11/11 [==============================] - 0s 5ms/step - loss: 0.0315 - mse: 0.0315 - val_loss: 0.0654 - val_mse: 0.0654\n",
            "Epoch 54/100\n",
            "11/11 [==============================] - 0s 5ms/step - loss: 0.0332 - mse: 0.0332 - val_loss: 0.0670 - val_mse: 0.0670\n",
            "Epoch 55/100\n",
            "11/11 [==============================] - 0s 5ms/step - loss: 0.0289 - mse: 0.0289 - val_loss: 0.0652 - val_mse: 0.0652\n",
            "Epoch 56/100\n",
            "11/11 [==============================] - 0s 5ms/step - loss: 0.0295 - mse: 0.0295 - val_loss: 0.0676 - val_mse: 0.0676\n",
            "Epoch 57/100\n",
            "11/11 [==============================] - 0s 5ms/step - loss: 0.0308 - mse: 0.0308 - val_loss: 0.0670 - val_mse: 0.0670\n",
            "Epoch 58/100\n",
            "11/11 [==============================] - 0s 5ms/step - loss: 0.0265 - mse: 0.0265 - val_loss: 0.0716 - val_mse: 0.0716\n",
            "Epoch 59/100\n",
            "11/11 [==============================] - 0s 6ms/step - loss: 0.0306 - mse: 0.0306 - val_loss: 0.0669 - val_mse: 0.0669\n",
            "Epoch 60/100\n",
            "11/11 [==============================] - 0s 5ms/step - loss: 0.0341 - mse: 0.0341 - val_loss: 0.0702 - val_mse: 0.0702\n",
            "Epoch 61/100\n",
            "11/11 [==============================] - 0s 5ms/step - loss: 0.0241 - mse: 0.0241 - val_loss: 0.0695 - val_mse: 0.0695\n",
            "Epoch 62/100\n",
            "11/11 [==============================] - 0s 5ms/step - loss: 0.0280 - mse: 0.0280 - val_loss: 0.0744 - val_mse: 0.0744\n",
            "Epoch 63/100\n",
            "11/11 [==============================] - 0s 5ms/step - loss: 0.0282 - mse: 0.0282 - val_loss: 0.0670 - val_mse: 0.0670\n",
            "Epoch 64/100\n",
            "11/11 [==============================] - 0s 7ms/step - loss: 0.0304 - mse: 0.0304 - val_loss: 0.0649 - val_mse: 0.0649\n",
            "Epoch 65/100\n",
            "11/11 [==============================] - 0s 5ms/step - loss: 0.0275 - mse: 0.0275 - val_loss: 0.0653 - val_mse: 0.0653\n",
            "Epoch 66/100\n",
            "11/11 [==============================] - 0s 5ms/step - loss: 0.0217 - mse: 0.0217 - val_loss: 0.0644 - val_mse: 0.0644\n",
            "Epoch 67/100\n",
            "11/11 [==============================] - 0s 5ms/step - loss: 0.0240 - mse: 0.0240 - val_loss: 0.0677 - val_mse: 0.0677\n",
            "Epoch 68/100\n",
            "11/11 [==============================] - 0s 5ms/step - loss: 0.0235 - mse: 0.0235 - val_loss: 0.0653 - val_mse: 0.0653\n",
            "Epoch 69/100\n",
            "11/11 [==============================] - 0s 5ms/step - loss: 0.0240 - mse: 0.0240 - val_loss: 0.0648 - val_mse: 0.0648\n",
            "Epoch 70/100\n",
            "11/11 [==============================] - 0s 5ms/step - loss: 0.0280 - mse: 0.0280 - val_loss: 0.0620 - val_mse: 0.0620\n",
            "Epoch 71/100\n",
            "11/11 [==============================] - 0s 5ms/step - loss: 0.0277 - mse: 0.0277 - val_loss: 0.0627 - val_mse: 0.0627\n",
            "Epoch 72/100\n",
            "11/11 [==============================] - 0s 5ms/step - loss: 0.0242 - mse: 0.0242 - val_loss: 0.0649 - val_mse: 0.0649\n",
            "Epoch 73/100\n",
            "11/11 [==============================] - 0s 5ms/step - loss: 0.0316 - mse: 0.0316 - val_loss: 0.0649 - val_mse: 0.0649\n",
            "Epoch 74/100\n",
            "11/11 [==============================] - 0s 5ms/step - loss: 0.0244 - mse: 0.0244 - val_loss: 0.0676 - val_mse: 0.0676\n",
            "Epoch 75/100\n",
            "11/11 [==============================] - 0s 5ms/step - loss: 0.0283 - mse: 0.0283 - val_loss: 0.0628 - val_mse: 0.0628\n",
            "Epoch 76/100\n",
            "11/11 [==============================] - 0s 6ms/step - loss: 0.0271 - mse: 0.0271 - val_loss: 0.0625 - val_mse: 0.0625\n",
            "Epoch 77/100\n",
            "11/11 [==============================] - 0s 5ms/step - loss: 0.0388 - mse: 0.0388 - val_loss: 0.0623 - val_mse: 0.0623\n",
            "Epoch 78/100\n",
            "11/11 [==============================] - 0s 5ms/step - loss: 0.0239 - mse: 0.0239 - val_loss: 0.0566 - val_mse: 0.0566\n",
            "Epoch 79/100\n",
            "11/11 [==============================] - 0s 5ms/step - loss: 0.0264 - mse: 0.0264 - val_loss: 0.0586 - val_mse: 0.0586\n",
            "Epoch 80/100\n",
            "11/11 [==============================] - 0s 5ms/step - loss: 0.0311 - mse: 0.0311 - val_loss: 0.0612 - val_mse: 0.0612\n",
            "Epoch 81/100\n",
            "11/11 [==============================] - 0s 5ms/step - loss: 0.0294 - mse: 0.0294 - val_loss: 0.0557 - val_mse: 0.0557\n",
            "Epoch 82/100\n",
            "11/11 [==============================] - 0s 5ms/step - loss: 0.0288 - mse: 0.0288 - val_loss: 0.0588 - val_mse: 0.0588\n",
            "Epoch 83/100\n",
            "11/11 [==============================] - 0s 5ms/step - loss: 0.0229 - mse: 0.0229 - val_loss: 0.0579 - val_mse: 0.0579\n",
            "Epoch 84/100\n",
            "11/11 [==============================] - 0s 5ms/step - loss: 0.0284 - mse: 0.0284 - val_loss: 0.0575 - val_mse: 0.0575\n",
            "Epoch 85/100\n",
            "11/11 [==============================] - 0s 5ms/step - loss: 0.0259 - mse: 0.0259 - val_loss: 0.0572 - val_mse: 0.0572\n",
            "Epoch 86/100\n",
            "11/11 [==============================] - 0s 6ms/step - loss: 0.0188 - mse: 0.0188 - val_loss: 0.0554 - val_mse: 0.0554\n",
            "Epoch 87/100\n",
            "11/11 [==============================] - 0s 5ms/step - loss: 0.0248 - mse: 0.0248 - val_loss: 0.0525 - val_mse: 0.0525\n",
            "Epoch 88/100\n",
            "11/11 [==============================] - 0s 5ms/step - loss: 0.0250 - mse: 0.0250 - val_loss: 0.0563 - val_mse: 0.0563\n",
            "Epoch 89/100\n",
            "11/11 [==============================] - 0s 5ms/step - loss: 0.0205 - mse: 0.0205 - val_loss: 0.0556 - val_mse: 0.0556\n",
            "Epoch 90/100\n",
            "11/11 [==============================] - 0s 5ms/step - loss: 0.0239 - mse: 0.0239 - val_loss: 0.0576 - val_mse: 0.0576\n",
            "Epoch 91/100\n",
            "11/11 [==============================] - 0s 5ms/step - loss: 0.0265 - mse: 0.0265 - val_loss: 0.0585 - val_mse: 0.0585\n",
            "Epoch 92/100\n",
            "11/11 [==============================] - 0s 6ms/step - loss: 0.0211 - mse: 0.0211 - val_loss: 0.0574 - val_mse: 0.0574\n",
            "Epoch 93/100\n",
            "11/11 [==============================] - 0s 5ms/step - loss: 0.0252 - mse: 0.0252 - val_loss: 0.0544 - val_mse: 0.0544\n",
            "Epoch 94/100\n",
            "11/11 [==============================] - 0s 5ms/step - loss: 0.0212 - mse: 0.0212 - val_loss: 0.0573 - val_mse: 0.0573\n",
            "Epoch 95/100\n",
            "11/11 [==============================] - 0s 5ms/step - loss: 0.0199 - mse: 0.0199 - val_loss: 0.0537 - val_mse: 0.0537\n",
            "Epoch 96/100\n",
            "11/11 [==============================] - 0s 7ms/step - loss: 0.0228 - mse: 0.0228 - val_loss: 0.0575 - val_mse: 0.0575\n",
            "Epoch 97/100\n",
            "11/11 [==============================] - 0s 5ms/step - loss: 0.0201 - mse: 0.0201 - val_loss: 0.0562 - val_mse: 0.0562\n",
            "Epoch 98/100\n",
            "11/11 [==============================] - 0s 5ms/step - loss: 0.0254 - mse: 0.0254 - val_loss: 0.0562 - val_mse: 0.0562\n",
            "Epoch 99/100\n",
            "11/11 [==============================] - 0s 5ms/step - loss: 0.0163 - mse: 0.0163 - val_loss: 0.0553 - val_mse: 0.0553\n",
            "Epoch 100/100\n",
            "11/11 [==============================] - 0s 5ms/step - loss: 0.0235 - mse: 0.0235 - val_loss: 0.0564 - val_mse: 0.0564\n"
          ],
          "name": "stdout"
        }
      ]
    },
    {
      "cell_type": "code",
      "metadata": {
        "colab": {
          "base_uri": "https://localhost:8080/",
          "height": 659
        },
        "id": "J6FOqymY_xzm",
        "outputId": "a3f788d8-adb5-4504-aff5-95add4236f9b"
      },
      "source": [
        "\n",
        "N = 100\n",
        "import pylab as plt\n",
        "plt.figure(figsize=(8,6))\n",
        "plt.plot(np.arange(0, N), history.history[\"loss\"], label=\"train_loss\")\n",
        "plt.plot(np.arange(0, N), history.history[\"val_loss\"], label=\"val_loss\")\n",
        "\n",
        "plt.title(\"Training Loss and Validation loss on the dataset\")\n",
        "plt.xlabel(\"Epoch #\")\n",
        "plt.ylabel(\"train_Loss/val_loss\")\n",
        "plt.legend(loc=\"middle\")\n",
        "plt.show()"
      ],
      "execution_count": null,
      "outputs": [
        {
          "output_type": "stream",
          "text": [
            "/usr/local/lib/python3.7/dist-packages/ipykernel_launcher.py:11: MatplotlibDeprecationWarning: Unrecognized location 'middle'. Falling back on 'best'; valid locations are\n",
            "\tbest\n",
            "\tupper right\n",
            "\tupper left\n",
            "\tlower left\n",
            "\tlower right\n",
            "\tright\n",
            "\tcenter left\n",
            "\tcenter right\n",
            "\tlower center\n",
            "\tupper center\n",
            "\tcenter\n",
            "This will raise an exception in 3.3.\n",
            "  # This is added back by InteractiveShellApp.init_path()\n"
          ],
          "name": "stderr"
        },
        {
          "output_type": "display_data",
          "data": {
            "image/png": "[encoded data removed]",
            "text/plain": [
              "<Figure size 576x432 with 1 Axes>"
            ]
          },
          "metadata": {
            "tags": [],
            "needs_background": "light"
          }
        }
      ]
    },
    {
      "cell_type": "markdown",
      "metadata": {
        "id": "CBmrDmWkATJi"
      },
      "source": [
        "As you can see the model is learning now and learning curves are decreasing but there is some noise in training but previously for model-2, the curves were constant and that might be due to vanishing gradients. Batch norm reduces the vanishing gradient problem"
      ]
    },
    {
      "cell_type": "code",
      "metadata": {
        "colab": {
          "base_uri": "https://localhost:8080/"
        },
        "id": "E30_bVshCCrE",
        "outputId": "dd725260-3b38-43c0-c903-a00f07d803dd"
      },
      "source": [
        "model3.evaluate(scaled_test_x , scaled_test_y)"
      ],
      "execution_count": null,
      "outputs": [
        {
          "output_type": "stream",
          "text": [
            "4/4 [==============================] - 0s 3ms/step - loss: 0.0688 - mse: 0.0688\n"
          ],
          "name": "stdout"
        },
        {
          "output_type": "execute_result",
          "data": {
            "text/plain": [
              "[0.06882213801145554, 0.06882213801145554]"
            ]
          },
          "metadata": {
            "tags": []
          },
          "execution_count": 74
        }
      ]
    },
    {
      "cell_type": "code",
      "metadata": {
        "id": "X36q9VcDCCrp"
      },
      "source": [
        "#Lets Print the predicted prices \n",
        "test_predictionsk=model3.predict(scaled_test_x )\n",
        "y_pred1=scaler.inverse_transform(test_predictionsk.reshape(-1, 1))"
      ],
      "execution_count": null,
      "outputs": []
    },
    {
      "cell_type": "code",
      "metadata": {
        "colab": {
          "base_uri": "https://localhost:8080/"
        },
        "id": "HQleIm8rCCrq",
        "outputId": "2d0ae708-6368-4466-9a30-16b8780f69d3"
      },
      "source": [
        "from sklearn.metrics import r2_score\n",
        "r2_score(scaler.inverse_transform(scaled_test_y.reshape(-1, 1)),y_pred1)"
      ],
      "execution_count": null,
      "outputs": [
        {
          "output_type": "execute_result",
          "data": {
            "text/plain": [
              "-0.6741757721296566"
            ]
          },
          "metadata": {
            "tags": []
          },
          "execution_count": 76
        }
      ]
    },
    {
      "cell_type": "markdown",
      "metadata": {
        "id": "nxfXxGY5_tm_"
      },
      "source": [
        "# Model-4"
      ]
    },
    {
      "cell_type": "code",
      "metadata": {
        "id": "CFdY1TVv1r0_"
      },
      "source": [
        "import keras # importing keras library\n",
        "from keras.models import Sequential  # importing the Sequential Model\n",
        "from keras.layers import Dense,Dropout       # importing Dense layer\n",
        "def build_model():\n",
        "  ## Initializing the ANN\n",
        "    \n",
        "\n",
        "  model = Sequential() \n",
        "  # This adds the input layer (by specifying input dimension) AND the first hidden layer (units)\n",
        "  input_layer = Dense(8, input_shape=(X_train.shape[1],),activation='relu',kernel_initializer='he_normal')\n",
        "  model.add(input_layer) # \n",
        "  #Adding the hidden layer\n",
        "  model.add(BatchNormalization())# defining the batchnorm\n",
        "  model.add(Dropout(0.1))# defining the dropout \n",
        "  # Notice that we do not need to specify input dim. \n",
        "  hidden_layer = Dense(16, activation='relu',kernel_initializer='he_normal'); # defining the weight initialiazer \n",
        "  model.add(hidden_layer) \n",
        "  #Adding the output layer\n",
        "  # Notice that we do not need to specify input dim. \n",
        "  # we have an output of 1 node, which is the the desired dimensions of our output (stay with the bank or not)\n",
        "  # We use the sigmoid because we want probability outcomes\n",
        "  output_layer = Dense(1,activation='relu',kernel_initializer='he_normal') \n",
        "  \n",
        "  model.add(output_layer)\n",
        "\n",
        "\n",
        "  optimizer = keras.optimizers.RMSprop(0.001)  # Defining the optimizer \n",
        " #Loss function \n",
        "  model.compile(loss='mse',\n",
        "                optimizer=optimizer,\n",
        "                metrics=[ 'mse'])  # Defining the loss function, optimizer and metrices \n",
        "  return model"
      ],
      "execution_count": null,
      "outputs": []
    },
    {
      "cell_type": "code",
      "metadata": {
        "colab": {
          "base_uri": "https://localhost:8080/"
        },
        "id": "kf1_9M_e-r46",
        "outputId": "903332e2-8c94-4f28-f721-be2958f71573"
      },
      "source": [
        "#Getting the model summary. We are uisng standalone keras to build our model\n",
        "model4 = build_model()\n",
        "model4.summary()"
      ],
      "execution_count": null,
      "outputs": [
        {
          "output_type": "stream",
          "text": [
            "Model: \"sequential_9\"\n",
            "_________________________________________________________________\n",
            "Layer (type)                 Output Shape              Param #   \n",
            "=================================================================\n",
            "dense_23 (Dense)             (None, 8)                 112       \n",
            "_________________________________________________________________\n",
            "batch_normalization_1 (Batch (None, 8)                 32        \n",
            "_________________________________________________________________\n",
            "dropout_1 (Dropout)          (None, 8)                 0         \n",
            "_________________________________________________________________\n",
            "dense_24 (Dense)             (None, 16)                144       \n",
            "_________________________________________________________________\n",
            "dense_25 (Dense)             (None, 1)                 17        \n",
            "=================================================================\n",
            "Total params: 305\n",
            "Trainable params: 289\n",
            "Non-trainable params: 16\n",
            "_________________________________________________________________\n"
          ],
          "name": "stdout"
        }
      ]
    },
    {
      "cell_type": "code",
      "metadata": {
        "colab": {
          "base_uri": "https://localhost:8080/"
        },
        "id": "EmJ28tJR-3ay",
        "outputId": "fb82f581-80b0-469c-9541-6b4d1d894813"
      },
      "source": [
        "#Definign the number of epochs\n",
        "import numpy as np\n",
        "EPOCHS = 100\n",
        "#fitting the model\n",
        "history = model3.fit(\n",
        "  scaled_train_x , scaled_train_y,\n",
        "  epochs=EPOCHS, validation_split = 0.2, verbose=1,)"
      ],
      "execution_count": null,
      "outputs": [
        {
          "output_type": "stream",
          "text": [
            "Epoch 1/100\n",
            "11/11 [==============================] - 0s 7ms/step - loss: 0.0220 - mse: 0.0220 - val_loss: 0.0525 - val_mse: 0.0525\n",
            "Epoch 2/100\n",
            "11/11 [==============================] - 0s 5ms/step - loss: 0.0224 - mse: 0.0224 - val_loss: 0.0510 - val_mse: 0.0510\n",
            "Epoch 3/100\n",
            "11/11 [==============================] - 0s 5ms/step - loss: 0.0225 - mse: 0.0225 - val_loss: 0.0508 - val_mse: 0.0508\n",
            "Epoch 4/100\n",
            "11/11 [==============================] - 0s 5ms/step - loss: 0.0216 - mse: 0.0216 - val_loss: 0.0531 - val_mse: 0.0531\n",
            "Epoch 5/100\n",
            "11/11 [==============================] - 0s 5ms/step - loss: 0.0214 - mse: 0.0214 - val_loss: 0.0502 - val_mse: 0.0502\n",
            "Epoch 6/100\n",
            "11/11 [==============================] - 0s 5ms/step - loss: 0.0221 - mse: 0.0221 - val_loss: 0.0513 - val_mse: 0.0513\n",
            "Epoch 7/100\n",
            "11/11 [==============================] - 0s 5ms/step - loss: 0.0225 - mse: 0.0225 - val_loss: 0.0520 - val_mse: 0.0520\n",
            "Epoch 8/100\n",
            "11/11 [==============================] - 0s 5ms/step - loss: 0.0220 - mse: 0.0220 - val_loss: 0.0521 - val_mse: 0.0521\n",
            "Epoch 9/100\n",
            "11/11 [==============================] - 0s 5ms/step - loss: 0.0217 - mse: 0.0217 - val_loss: 0.0535 - val_mse: 0.0535\n",
            "Epoch 10/100\n",
            "11/11 [==============================] - 0s 5ms/step - loss: 0.0206 - mse: 0.0206 - val_loss: 0.0523 - val_mse: 0.0523\n",
            "Epoch 11/100\n",
            "11/11 [==============================] - 0s 5ms/step - loss: 0.0224 - mse: 0.0224 - val_loss: 0.0541 - val_mse: 0.0541\n",
            "Epoch 12/100\n",
            "11/11 [==============================] - 0s 5ms/step - loss: 0.0218 - mse: 0.0218 - val_loss: 0.0512 - val_mse: 0.0512\n",
            "Epoch 13/100\n",
            "11/11 [==============================] - 0s 5ms/step - loss: 0.0214 - mse: 0.0214 - val_loss: 0.0530 - val_mse: 0.0530\n",
            "Epoch 14/100\n",
            "11/11 [==============================] - 0s 5ms/step - loss: 0.0208 - mse: 0.0208 - val_loss: 0.0541 - val_mse: 0.0541\n",
            "Epoch 15/100\n",
            "11/11 [==============================] - 0s 5ms/step - loss: 0.0236 - mse: 0.0236 - val_loss: 0.0511 - val_mse: 0.0511\n",
            "Epoch 16/100\n",
            "11/11 [==============================] - 0s 5ms/step - loss: 0.0187 - mse: 0.0187 - val_loss: 0.0442 - val_mse: 0.0442\n",
            "Epoch 17/100\n",
            "11/11 [==============================] - 0s 5ms/step - loss: 0.0200 - mse: 0.0200 - val_loss: 0.0388 - val_mse: 0.0388\n",
            "Epoch 18/100\n",
            "11/11 [==============================] - 0s 5ms/step - loss: 0.0199 - mse: 0.0199 - val_loss: 0.0380 - val_mse: 0.0380\n",
            "Epoch 19/100\n",
            "11/11 [==============================] - 0s 6ms/step - loss: 0.0197 - mse: 0.0197 - val_loss: 0.0384 - val_mse: 0.0384\n",
            "Epoch 20/100\n",
            "11/11 [==============================] - 0s 6ms/step - loss: 0.0194 - mse: 0.0194 - val_loss: 0.0344 - val_mse: 0.0344\n",
            "Epoch 21/100\n",
            "11/11 [==============================] - 0s 5ms/step - loss: 0.0187 - mse: 0.0187 - val_loss: 0.0338 - val_mse: 0.0338\n",
            "Epoch 22/100\n",
            "11/11 [==============================] - 0s 5ms/step - loss: 0.0181 - mse: 0.0181 - val_loss: 0.0307 - val_mse: 0.0307\n",
            "Epoch 23/100\n",
            "11/11 [==============================] - 0s 5ms/step - loss: 0.0187 - mse: 0.0187 - val_loss: 0.0302 - val_mse: 0.0302\n",
            "Epoch 24/100\n",
            "11/11 [==============================] - 0s 5ms/step - loss: 0.0187 - mse: 0.0187 - val_loss: 0.0300 - val_mse: 0.0300\n",
            "Epoch 25/100\n",
            "11/11 [==============================] - 0s 5ms/step - loss: 0.0178 - mse: 0.0178 - val_loss: 0.0269 - val_mse: 0.0269\n",
            "Epoch 26/100\n",
            "11/11 [==============================] - 0s 5ms/step - loss: 0.0171 - mse: 0.0171 - val_loss: 0.0267 - val_mse: 0.0267\n",
            "Epoch 27/100\n",
            "11/11 [==============================] - 0s 5ms/step - loss: 0.0178 - mse: 0.0178 - val_loss: 0.0259 - val_mse: 0.0259\n",
            "Epoch 28/100\n",
            "11/11 [==============================] - 0s 5ms/step - loss: 0.0173 - mse: 0.0173 - val_loss: 0.0280 - val_mse: 0.0280\n",
            "Epoch 29/100\n",
            "11/11 [==============================] - 0s 5ms/step - loss: 0.0185 - mse: 0.0185 - val_loss: 0.0250 - val_mse: 0.0250\n",
            "Epoch 30/100\n",
            "11/11 [==============================] - 0s 6ms/step - loss: 0.0174 - mse: 0.0174 - val_loss: 0.0253 - val_mse: 0.0253\n",
            "Epoch 31/100\n",
            "11/11 [==============================] - 0s 5ms/step - loss: 0.0180 - mse: 0.0180 - val_loss: 0.0263 - val_mse: 0.0263\n",
            "Epoch 32/100\n",
            "11/11 [==============================] - 0s 5ms/step - loss: 0.0177 - mse: 0.0177 - val_loss: 0.0282 - val_mse: 0.0282\n",
            "Epoch 33/100\n",
            "11/11 [==============================] - 0s 7ms/step - loss: 0.0177 - mse: 0.0177 - val_loss: 0.0292 - val_mse: 0.0292\n",
            "Epoch 34/100\n",
            "11/11 [==============================] - 0s 5ms/step - loss: 0.0175 - mse: 0.0175 - val_loss: 0.0280 - val_mse: 0.0280\n",
            "Epoch 35/100\n",
            "11/11 [==============================] - 0s 7ms/step - loss: 0.0168 - mse: 0.0168 - val_loss: 0.0278 - val_mse: 0.0278\n",
            "Epoch 36/100\n",
            "11/11 [==============================] - 0s 5ms/step - loss: 0.0176 - mse: 0.0176 - val_loss: 0.0302 - val_mse: 0.0302\n",
            "Epoch 37/100\n",
            "11/11 [==============================] - 0s 5ms/step - loss: 0.0171 - mse: 0.0171 - val_loss: 0.0313 - val_mse: 0.0313\n",
            "Epoch 38/100\n",
            "11/11 [==============================] - 0s 5ms/step - loss: 0.0184 - mse: 0.0184 - val_loss: 0.0271 - val_mse: 0.0271\n",
            "Epoch 39/100\n",
            "11/11 [==============================] - 0s 5ms/step - loss: 0.0169 - mse: 0.0169 - val_loss: 0.0280 - val_mse: 0.0280\n",
            "Epoch 40/100\n",
            "11/11 [==============================] - 0s 5ms/step - loss: 0.0177 - mse: 0.0177 - val_loss: 0.0253 - val_mse: 0.0253\n",
            "Epoch 41/100\n",
            "11/11 [==============================] - 0s 5ms/step - loss: 0.0169 - mse: 0.0169 - val_loss: 0.0240 - val_mse: 0.0240\n",
            "Epoch 42/100\n",
            "11/11 [==============================] - 0s 5ms/step - loss: 0.0162 - mse: 0.0162 - val_loss: 0.0239 - val_mse: 0.0239\n",
            "Epoch 43/100\n",
            "11/11 [==============================] - 0s 5ms/step - loss: 0.0171 - mse: 0.0171 - val_loss: 0.0245 - val_mse: 0.0245\n",
            "Epoch 44/100\n",
            "11/11 [==============================] - 0s 5ms/step - loss: 0.0177 - mse: 0.0177 - val_loss: 0.0261 - val_mse: 0.0261\n",
            "Epoch 45/100\n",
            "11/11 [==============================] - 0s 5ms/step - loss: 0.0165 - mse: 0.0165 - val_loss: 0.0288 - val_mse: 0.0288\n",
            "Epoch 46/100\n",
            "11/11 [==============================] - 0s 5ms/step - loss: 0.0169 - mse: 0.0169 - val_loss: 0.0285 - val_mse: 0.0285\n",
            "Epoch 47/100\n",
            "11/11 [==============================] - 0s 5ms/step - loss: 0.0182 - mse: 0.0182 - val_loss: 0.0287 - val_mse: 0.0287\n",
            "Epoch 48/100\n",
            "11/11 [==============================] - 0s 5ms/step - loss: 0.0170 - mse: 0.0170 - val_loss: 0.0263 - val_mse: 0.0263\n",
            "Epoch 49/100\n",
            "11/11 [==============================] - 0s 5ms/step - loss: 0.0162 - mse: 0.0162 - val_loss: 0.0270 - val_mse: 0.0270\n",
            "Epoch 50/100\n",
            "11/11 [==============================] - 0s 5ms/step - loss: 0.0161 - mse: 0.0161 - val_loss: 0.0275 - val_mse: 0.0275\n",
            "Epoch 51/100\n",
            "11/11 [==============================] - 0s 5ms/step - loss: 0.0165 - mse: 0.0165 - val_loss: 0.0266 - val_mse: 0.0266\n",
            "Epoch 52/100\n",
            "11/11 [==============================] - 0s 5ms/step - loss: 0.0170 - mse: 0.0170 - val_loss: 0.0319 - val_mse: 0.0319\n",
            "Epoch 53/100\n",
            "11/11 [==============================] - 0s 5ms/step - loss: 0.0164 - mse: 0.0164 - val_loss: 0.0288 - val_mse: 0.0288\n",
            "Epoch 54/100\n",
            "11/11 [==============================] - 0s 5ms/step - loss: 0.0157 - mse: 0.0157 - val_loss: 0.0251 - val_mse: 0.0251\n",
            "Epoch 55/100\n",
            "11/11 [==============================] - 0s 5ms/step - loss: 0.0173 - mse: 0.0173 - val_loss: 0.0247 - val_mse: 0.0247\n",
            "Epoch 56/100\n",
            "11/11 [==============================] - 0s 7ms/step - loss: 0.0166 - mse: 0.0166 - val_loss: 0.0262 - val_mse: 0.0262\n",
            "Epoch 57/100\n",
            "11/11 [==============================] - 0s 5ms/step - loss: 0.0169 - mse: 0.0169 - val_loss: 0.0260 - val_mse: 0.0260\n",
            "Epoch 58/100\n",
            "11/11 [==============================] - 0s 5ms/step - loss: 0.0157 - mse: 0.0157 - val_loss: 0.0269 - val_mse: 0.0269\n",
            "Epoch 59/100\n",
            "11/11 [==============================] - 0s 5ms/step - loss: 0.0163 - mse: 0.0163 - val_loss: 0.0260 - val_mse: 0.0260\n",
            "Epoch 60/100\n",
            "11/11 [==============================] - 0s 5ms/step - loss: 0.0167 - mse: 0.0167 - val_loss: 0.0270 - val_mse: 0.0270\n",
            "Epoch 61/100\n",
            "11/11 [==============================] - 0s 5ms/step - loss: 0.0159 - mse: 0.0159 - val_loss: 0.0274 - val_mse: 0.0274\n",
            "Epoch 62/100\n",
            "11/11 [==============================] - 0s 5ms/step - loss: 0.0184 - mse: 0.0184 - val_loss: 0.0278 - val_mse: 0.0278\n",
            "Epoch 63/100\n",
            "11/11 [==============================] - 0s 5ms/step - loss: 0.0161 - mse: 0.0161 - val_loss: 0.0272 - val_mse: 0.0272\n",
            "Epoch 64/100\n",
            "11/11 [==============================] - 0s 5ms/step - loss: 0.0172 - mse: 0.0172 - val_loss: 0.0259 - val_mse: 0.0259\n",
            "Epoch 65/100\n",
            "11/11 [==============================] - 0s 5ms/step - loss: 0.0145 - mse: 0.0145 - val_loss: 0.0250 - val_mse: 0.0250\n",
            "Epoch 66/100\n",
            "11/11 [==============================] - 0s 6ms/step - loss: 0.0158 - mse: 0.0158 - val_loss: 0.0273 - val_mse: 0.0273\n",
            "Epoch 67/100\n",
            "11/11 [==============================] - 0s 5ms/step - loss: 0.0154 - mse: 0.0154 - val_loss: 0.0244 - val_mse: 0.0244\n",
            "Epoch 68/100\n",
            "11/11 [==============================] - 0s 5ms/step - loss: 0.0146 - mse: 0.0146 - val_loss: 0.0264 - val_mse: 0.0264\n",
            "Epoch 69/100\n",
            "11/11 [==============================] - 0s 5ms/step - loss: 0.0154 - mse: 0.0154 - val_loss: 0.0243 - val_mse: 0.0243\n",
            "Epoch 70/100\n",
            "11/11 [==============================] - 0s 5ms/step - loss: 0.0149 - mse: 0.0149 - val_loss: 0.0228 - val_mse: 0.0228\n",
            "Epoch 71/100\n",
            "11/11 [==============================] - 0s 5ms/step - loss: 0.0151 - mse: 0.0151 - val_loss: 0.0238 - val_mse: 0.0238\n",
            "Epoch 72/100\n",
            "11/11 [==============================] - 0s 5ms/step - loss: 0.0166 - mse: 0.0166 - val_loss: 0.0257 - val_mse: 0.0257\n",
            "Epoch 73/100\n",
            "11/11 [==============================] - 0s 5ms/step - loss: 0.0160 - mse: 0.0160 - val_loss: 0.0277 - val_mse: 0.0277\n",
            "Epoch 74/100\n",
            "11/11 [==============================] - 0s 5ms/step - loss: 0.0174 - mse: 0.0174 - val_loss: 0.0279 - val_mse: 0.0279\n",
            "Epoch 75/100\n",
            "11/11 [==============================] - 0s 5ms/step - loss: 0.0149 - mse: 0.0149 - val_loss: 0.0252 - val_mse: 0.0252\n",
            "Epoch 76/100\n",
            "11/11 [==============================] - 0s 5ms/step - loss: 0.0169 - mse: 0.0169 - val_loss: 0.0255 - val_mse: 0.0255\n",
            "Epoch 77/100\n",
            "11/11 [==============================] - 0s 5ms/step - loss: 0.0160 - mse: 0.0160 - val_loss: 0.0284 - val_mse: 0.0284\n",
            "Epoch 78/100\n",
            "11/11 [==============================] - 0s 5ms/step - loss: 0.0163 - mse: 0.0163 - val_loss: 0.0257 - val_mse: 0.0257\n",
            "Epoch 79/100\n",
            "11/11 [==============================] - 0s 5ms/step - loss: 0.0145 - mse: 0.0145 - val_loss: 0.0254 - val_mse: 0.0254\n",
            "Epoch 80/100\n",
            "11/11 [==============================] - 0s 5ms/step - loss: 0.0170 - mse: 0.0170 - val_loss: 0.0256 - val_mse: 0.0256\n",
            "Epoch 81/100\n",
            "11/11 [==============================] - 0s 5ms/step - loss: 0.0147 - mse: 0.0147 - val_loss: 0.0257 - val_mse: 0.0257\n",
            "Epoch 82/100\n",
            "11/11 [==============================] - 0s 5ms/step - loss: 0.0173 - mse: 0.0173 - val_loss: 0.0228 - val_mse: 0.0228\n",
            "Epoch 83/100\n",
            "11/11 [==============================] - 0s 7ms/step - loss: 0.0151 - mse: 0.0151 - val_loss: 0.0259 - val_mse: 0.0259\n",
            "Epoch 84/100\n",
            "11/11 [==============================] - 0s 5ms/step - loss: 0.0162 - mse: 0.0162 - val_loss: 0.0241 - val_mse: 0.0241\n",
            "Epoch 85/100\n",
            "11/11 [==============================] - 0s 5ms/step - loss: 0.0148 - mse: 0.0148 - val_loss: 0.0232 - val_mse: 0.0232\n",
            "Epoch 86/100\n",
            "11/11 [==============================] - 0s 5ms/step - loss: 0.0151 - mse: 0.0151 - val_loss: 0.0236 - val_mse: 0.0236\n",
            "Epoch 87/100\n",
            "11/11 [==============================] - 0s 5ms/step - loss: 0.0160 - mse: 0.0160 - val_loss: 0.0248 - val_mse: 0.0248\n",
            "Epoch 88/100\n",
            "11/11 [==============================] - 0s 7ms/step - loss: 0.0153 - mse: 0.0153 - val_loss: 0.0227 - val_mse: 0.0227\n",
            "Epoch 89/100\n",
            "11/11 [==============================] - 0s 5ms/step - loss: 0.0156 - mse: 0.0156 - val_loss: 0.0237 - val_mse: 0.0237\n",
            "Epoch 90/100\n",
            "11/11 [==============================] - 0s 5ms/step - loss: 0.0145 - mse: 0.0145 - val_loss: 0.0243 - val_mse: 0.0243\n",
            "Epoch 91/100\n",
            "11/11 [==============================] - 0s 5ms/step - loss: 0.0152 - mse: 0.0152 - val_loss: 0.0240 - val_mse: 0.0240\n",
            "Epoch 92/100\n",
            "11/11 [==============================] - 0s 5ms/step - loss: 0.0150 - mse: 0.0150 - val_loss: 0.0255 - val_mse: 0.0255\n",
            "Epoch 93/100\n",
            "11/11 [==============================] - 0s 5ms/step - loss: 0.0154 - mse: 0.0154 - val_loss: 0.0275 - val_mse: 0.0275\n",
            "Epoch 94/100\n",
            "11/11 [==============================] - 0s 5ms/step - loss: 0.0147 - mse: 0.0147 - val_loss: 0.0241 - val_mse: 0.0241\n",
            "Epoch 95/100\n",
            "11/11 [==============================] - 0s 6ms/step - loss: 0.0158 - mse: 0.0158 - val_loss: 0.0285 - val_mse: 0.0285\n",
            "Epoch 96/100\n",
            "11/11 [==============================] - 0s 5ms/step - loss: 0.0158 - mse: 0.0158 - val_loss: 0.0232 - val_mse: 0.0232\n",
            "Epoch 97/100\n",
            "11/11 [==============================] - 0s 6ms/step - loss: 0.0149 - mse: 0.0149 - val_loss: 0.0229 - val_mse: 0.0229\n",
            "Epoch 98/100\n",
            "11/11 [==============================] - 0s 5ms/step - loss: 0.0155 - mse: 0.0155 - val_loss: 0.0228 - val_mse: 0.0228\n",
            "Epoch 99/100\n",
            "11/11 [==============================] - 0s 7ms/step - loss: 0.0175 - mse: 0.0175 - val_loss: 0.0250 - val_mse: 0.0250\n",
            "Epoch 100/100\n",
            "11/11 [==============================] - 0s 5ms/step - loss: 0.0150 - mse: 0.0150 - val_loss: 0.0227 - val_mse: 0.0227\n"
          ],
          "name": "stdout"
        }
      ]
    },
    {
      "cell_type": "code",
      "metadata": {
        "colab": {
          "base_uri": "https://localhost:8080/",
          "height": 659
        },
        "id": "zqijD28h-_5o",
        "outputId": "f89d12a1-5c5c-46b6-8b30-d0814ec90a93"
      },
      "source": [
        "\n",
        "N = 100\n",
        "import pylab as plt\n",
        "plt.figure(figsize=(8,6))\n",
        "plt.plot(np.arange(0, N), history.history[\"loss\"], label=\"train_loss\")\n",
        "plt.plot(np.arange(0, N), history.history[\"val_loss\"], label=\"val_loss\")\n",
        "\n",
        "plt.title(\"Training Loss and Validation loss on the dataset\")\n",
        "plt.xlabel(\"Epoch #\")\n",
        "plt.ylabel(\"train_Loss/val_loss\")\n",
        "plt.legend(loc=\"middle\")\n",
        "plt.show()"
      ],
      "execution_count": null,
      "outputs": [
        {
          "output_type": "stream",
          "text": [
            "/usr/local/lib/python3.7/dist-packages/ipykernel_launcher.py:11: MatplotlibDeprecationWarning: Unrecognized location 'middle'. Falling back on 'best'; valid locations are\n",
            "\tbest\n",
            "\tupper right\n",
            "\tupper left\n",
            "\tlower left\n",
            "\tlower right\n",
            "\tright\n",
            "\tcenter left\n",
            "\tcenter right\n",
            "\tlower center\n",
            "\tupper center\n",
            "\tcenter\n",
            "This will raise an exception in 3.3.\n",
            "  # This is added back by InteractiveShellApp.init_path()\n"
          ],
          "name": "stderr"
        },
        {
          "output_type": "display_data",
          "data": {
            "image/png": "[encoded data removed]",
            "text/plain": [
              "<Figure size 576x432 with 1 Axes>"
            ]
          },
          "metadata": {
            "tags": [],
            "needs_background": "light"
          }
        }
      ]
    },
    {
      "cell_type": "markdown",
      "metadata": {
        "id": "FyCgmHQ9BnyD"
      },
      "source": [
        "As you see, when we have used batchnorm and dropout together then the model is underfitting. since model is not learning well on training data  "
      ]
    },
    {
      "cell_type": "code",
      "metadata": {
        "colab": {
          "base_uri": "https://localhost:8080/"
        },
        "id": "2a_mMgpHCUfA",
        "outputId": "d7342507-b1f9-4308-83d6-5545391df5fa"
      },
      "source": [
        "model4.evaluate(scaled_test_x , scaled_test_y)"
      ],
      "execution_count": null,
      "outputs": [
        {
          "output_type": "stream",
          "text": [
            "4/4 [==============================] - 0s 3ms/step - loss: 0.0855 - mse: 0.0855\n"
          ],
          "name": "stdout"
        },
        {
          "output_type": "execute_result",
          "data": {
            "text/plain": [
              "[0.091799296438694, 0.091799296438694]"
            ]
          },
          "metadata": {
            "tags": []
          },
          "execution_count": 77
        }
      ]
    },
    {
      "cell_type": "code",
      "metadata": {
        "id": "ya6ByiZXCUfc"
      },
      "source": [
        "#Lets Print the predicted prices \n",
        "test_predictionsk=model4.predict(scaled_test_x )\n",
        "y_pred1=scaler.inverse_transform(test_predictionsk.reshape(-1, 1))"
      ],
      "execution_count": null,
      "outputs": []
    },
    {
      "cell_type": "code",
      "metadata": {
        "colab": {
          "base_uri": "https://localhost:8080/"
        },
        "id": "n-EWZrf4CUfd",
        "outputId": "32737580-5bf0-4564-9d81-f153e58d4b72"
      },
      "source": [
        "from sklearn.metrics import r2_score\n",
        "r2_score(scaler.inverse_transform(scaled_test_y.reshape(-1, 1)),y_pred1)"
      ],
      "execution_count": null,
      "outputs": [
        {
          "output_type": "execute_result",
          "data": {
            "text/plain": [
              "-1.233120698932919"
            ]
          },
          "metadata": {
            "tags": []
          },
          "execution_count": 79
        }
      ]
    },
    {
      "cell_type": "markdown",
      "metadata": {
        "id": "ba693WqMFZuM"
      },
      "source": [
        "Conclusion:\n",
        "\n",
        "We can see that the skeleton model is working fine here for this problem. As you see , we have the best r2 and test error for the skeleton model. \n",
        "\n",
        "But the different combination of weight initialization and dropout rate might work , if we tune these hyperparameters."
      ]
    }
  ]
}