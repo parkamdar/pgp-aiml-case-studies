{
 "cells": [
  {
   "cell_type": "markdown",
   "id": "bee32589",
   "metadata": {
    "id": "bee32589"
   },
   "source": [
    "# Flight Price Prediction Case Study\n",
    "\n",
    "## Context and Problem\n",
    " - The objective of this project is to predict the price of a flight with a set of relevant flight details is provided\n",
    " - The flight details have information related to flight timings, source and destination details, route details, stops in       between, etc.\n",
    " - The dataset consists of about one year of information about various flights and their respective prices.\n",
    " \n",
    "## Data Information\n",
    "\n",
    "The data at hand has eleven features about the spending on advertising and the target variable is the net sales. Attributes are:\n",
    "\n",
    "- Airline - Company that provides air transport services for traveling passengers. (Independent Variable)\n",
    "- Source  - From where the flight is takes off.(Independent Variable)\n",
    "- Destination - To where the flight is going.(Independent Variable)\n",
    "- Route   - What is the route of each flight.(Independent Variable)\n",
    "- Dep Time - Departure Time of the flight.(Independent Variable)\n",
    "- Arrival Time - Arrival Time of the flight.(Independent Variable)\n",
    "- Duration - Total duration of the flight.(Independent Variable)\n",
    "- Total Stops - Number of stops between source and destination.(Independent Variable)\n",
    "- Additional info - Additional information about the flight is given.(Independent Variable)\n",
    "- Price - Price of each flight.(Dependent Variable)"
   ]
  },
  {
   "cell_type": "code",
   "execution_count": 133,
   "id": "bWIUp4WZBZ0r",
   "metadata": {
    "colab": {
     "base_uri": "https://localhost:8080/"
    },
    "id": "bWIUp4WZBZ0r",
    "outputId": "cf032116-a28e-46ec-d919-79cd0d4923e0"
   },
   "outputs": [
    {
     "name": "stdout",
     "output_type": "stream",
     "text": [
      "Drive already mounted at /content/drive; to attempt to forcibly remount, call drive.mount(\"/content/drive\", force_remount=True).\n"
     ]
    }
   ],
   "source": [
    "from google.colab import drive\n",
    "drive.mount('/content/drive')"
   ]
  },
  {
   "cell_type": "markdown",
   "id": "8612eb2e",
   "metadata": {
    "id": "8612eb2e"
   },
   "source": [
    "### Loading the required libraries "
   ]
  },
  {
   "cell_type": "code",
   "execution_count": 1,
   "id": "f1c8c027",
   "metadata": {
    "id": "f1c8c027"
   },
   "outputs": [
    {
     "ename": "KeyboardInterrupt",
     "evalue": "",
     "output_type": "error",
     "traceback": [
      "\u001b[1;31m---------------------------------------------------------------------------\u001b[0m",
      "\u001b[1;31mKeyboardInterrupt\u001b[0m                         Traceback (most recent call last)",
      "\u001b[1;32m<ipython-input-1-6402b309f182>\u001b[0m in \u001b[0;36m<module>\u001b[1;34m\u001b[0m\n\u001b[0;32m     11\u001b[0m \u001b[1;32mfrom\u001b[0m \u001b[0msklearn\u001b[0m\u001b[1;33m.\u001b[0m\u001b[0mmetrics\u001b[0m \u001b[1;32mimport\u001b[0m \u001b[0mexplained_variance_score\u001b[0m\u001b[1;33m,\u001b[0m \u001b[0mmean_squared_error\u001b[0m\u001b[1;33m,\u001b[0m \u001b[0mr2_score\u001b[0m\u001b[1;33m,\u001b[0m \u001b[0mmean_absolute_error\u001b[0m\u001b[1;33m\u001b[0m\u001b[1;33m\u001b[0m\u001b[0m\n\u001b[0;32m     12\u001b[0m \u001b[1;32mfrom\u001b[0m \u001b[0mcollections\u001b[0m \u001b[1;32mimport\u001b[0m \u001b[0mCounter\u001b[0m\u001b[1;33m\u001b[0m\u001b[1;33m\u001b[0m\u001b[0m\n\u001b[1;32m---> 13\u001b[1;33m \u001b[1;32mfrom\u001b[0m \u001b[0mkeras\u001b[0m \u001b[1;32mimport\u001b[0m \u001b[0mcallbacks\u001b[0m\u001b[1;33m\u001b[0m\u001b[1;33m\u001b[0m\u001b[0m\n\u001b[0m\u001b[0;32m     14\u001b[0m \u001b[1;32mimport\u001b[0m \u001b[0mtensorflow\u001b[0m \u001b[1;32mas\u001b[0m \u001b[0mtf\u001b[0m\u001b[1;33m\u001b[0m\u001b[1;33m\u001b[0m\u001b[0m\n\u001b[0;32m     15\u001b[0m \u001b[1;32mfrom\u001b[0m \u001b[0mtensorflow\u001b[0m\u001b[1;33m.\u001b[0m\u001b[0mkeras\u001b[0m\u001b[1;33m.\u001b[0m\u001b[0mlayers\u001b[0m \u001b[1;32mimport\u001b[0m \u001b[0mDense\u001b[0m\u001b[1;33m,\u001b[0m \u001b[0mDropout\u001b[0m\u001b[1;33m,\u001b[0m\u001b[0mInputLayer\u001b[0m\u001b[1;33m\u001b[0m\u001b[1;33m\u001b[0m\u001b[0m\n",
      "\u001b[1;32m~\\anaconda_3\\lib\\site-packages\\keras\\__init__.py\u001b[0m in \u001b[0;36m<module>\u001b[1;34m\u001b[0m\n\u001b[0;32m     19\u001b[0m \"\"\"\n\u001b[0;32m     20\u001b[0m \u001b[1;31m# pylint: disable=unused-import\u001b[0m\u001b[1;33m\u001b[0m\u001b[1;33m\u001b[0m\u001b[1;33m\u001b[0m\u001b[0m\n\u001b[1;32m---> 21\u001b[1;33m \u001b[1;32mfrom\u001b[0m \u001b[0mtensorflow\u001b[0m\u001b[1;33m.\u001b[0m\u001b[0mpython\u001b[0m \u001b[1;32mimport\u001b[0m \u001b[0mtf2\u001b[0m\u001b[1;33m\u001b[0m\u001b[1;33m\u001b[0m\u001b[0m\n\u001b[0m\u001b[0;32m     22\u001b[0m \u001b[1;32mfrom\u001b[0m \u001b[0mkeras\u001b[0m \u001b[1;32mimport\u001b[0m \u001b[0mdistribute\u001b[0m\u001b[1;33m\u001b[0m\u001b[1;33m\u001b[0m\u001b[0m\n\u001b[0;32m     23\u001b[0m \u001b[1;33m\u001b[0m\u001b[0m\n",
      "\u001b[1;32m~\\AppData\\Roaming\\Python\\Python38\\site-packages\\tensorflow\\__init__.py\u001b[0m in \u001b[0;36m<module>\u001b[1;34m\u001b[0m\n\u001b[0;32m     39\u001b[0m \u001b[1;32mimport\u001b[0m \u001b[0msys\u001b[0m \u001b[1;32mas\u001b[0m \u001b[0m_sys\u001b[0m\u001b[1;33m\u001b[0m\u001b[1;33m\u001b[0m\u001b[0m\n\u001b[0;32m     40\u001b[0m \u001b[1;33m\u001b[0m\u001b[0m\n\u001b[1;32m---> 41\u001b[1;33m \u001b[1;32mfrom\u001b[0m \u001b[0mtensorflow\u001b[0m\u001b[1;33m.\u001b[0m\u001b[0mpython\u001b[0m\u001b[1;33m.\u001b[0m\u001b[0mtools\u001b[0m \u001b[1;32mimport\u001b[0m \u001b[0mmodule_util\u001b[0m \u001b[1;32mas\u001b[0m \u001b[0m_module_util\u001b[0m\u001b[1;33m\u001b[0m\u001b[1;33m\u001b[0m\u001b[0m\n\u001b[0m\u001b[0;32m     42\u001b[0m \u001b[1;32mfrom\u001b[0m \u001b[0mtensorflow\u001b[0m\u001b[1;33m.\u001b[0m\u001b[0mpython\u001b[0m\u001b[1;33m.\u001b[0m\u001b[0mutil\u001b[0m\u001b[1;33m.\u001b[0m\u001b[0mlazy_loader\u001b[0m \u001b[1;32mimport\u001b[0m \u001b[0mLazyLoader\u001b[0m \u001b[1;32mas\u001b[0m \u001b[0m_LazyLoader\u001b[0m\u001b[1;33m\u001b[0m\u001b[1;33m\u001b[0m\u001b[0m\n\u001b[0;32m     43\u001b[0m \u001b[1;33m\u001b[0m\u001b[0m\n",
      "\u001b[1;32m~\\AppData\\Roaming\\Python\\Python38\\site-packages\\tensorflow\\python\\__init__.py\u001b[0m in \u001b[0;36m<module>\u001b[1;34m\u001b[0m\n\u001b[0;32m     44\u001b[0m \u001b[1;33m\u001b[0m\u001b[0m\n\u001b[0;32m     45\u001b[0m \u001b[1;31m# Bring in subpackages.\u001b[0m\u001b[1;33m\u001b[0m\u001b[1;33m\u001b[0m\u001b[1;33m\u001b[0m\u001b[0m\n\u001b[1;32m---> 46\u001b[1;33m \u001b[1;32mfrom\u001b[0m \u001b[0mtensorflow\u001b[0m\u001b[1;33m.\u001b[0m\u001b[0mpython\u001b[0m \u001b[1;32mimport\u001b[0m \u001b[0mdata\u001b[0m\u001b[1;33m\u001b[0m\u001b[1;33m\u001b[0m\u001b[0m\n\u001b[0m\u001b[0;32m     47\u001b[0m \u001b[1;32mfrom\u001b[0m \u001b[0mtensorflow\u001b[0m\u001b[1;33m.\u001b[0m\u001b[0mpython\u001b[0m \u001b[1;32mimport\u001b[0m \u001b[0mdistribute\u001b[0m\u001b[1;33m\u001b[0m\u001b[1;33m\u001b[0m\u001b[0m\n\u001b[0;32m     48\u001b[0m \u001b[1;31m# from tensorflow.python import keras\u001b[0m\u001b[1;33m\u001b[0m\u001b[1;33m\u001b[0m\u001b[1;33m\u001b[0m\u001b[0m\n",
      "\u001b[1;32m~\\AppData\\Roaming\\Python\\Python38\\site-packages\\tensorflow\\python\\data\\__init__.py\u001b[0m in \u001b[0;36m<module>\u001b[1;34m\u001b[0m\n\u001b[0;32m     23\u001b[0m \u001b[1;33m\u001b[0m\u001b[0m\n\u001b[0;32m     24\u001b[0m \u001b[1;31m# pylint: disable=unused-import\u001b[0m\u001b[1;33m\u001b[0m\u001b[1;33m\u001b[0m\u001b[1;33m\u001b[0m\u001b[0m\n\u001b[1;32m---> 25\u001b[1;33m \u001b[1;32mfrom\u001b[0m \u001b[0mtensorflow\u001b[0m\u001b[1;33m.\u001b[0m\u001b[0mpython\u001b[0m\u001b[1;33m.\u001b[0m\u001b[0mdata\u001b[0m \u001b[1;32mimport\u001b[0m \u001b[0mexperimental\u001b[0m\u001b[1;33m\u001b[0m\u001b[1;33m\u001b[0m\u001b[0m\n\u001b[0m\u001b[0;32m     26\u001b[0m \u001b[1;32mfrom\u001b[0m \u001b[0mtensorflow\u001b[0m\u001b[1;33m.\u001b[0m\u001b[0mpython\u001b[0m\u001b[1;33m.\u001b[0m\u001b[0mdata\u001b[0m\u001b[1;33m.\u001b[0m\u001b[0mops\u001b[0m\u001b[1;33m.\u001b[0m\u001b[0mdataset_ops\u001b[0m \u001b[1;32mimport\u001b[0m \u001b[0mAUTOTUNE\u001b[0m\u001b[1;33m\u001b[0m\u001b[1;33m\u001b[0m\u001b[0m\n\u001b[0;32m     27\u001b[0m \u001b[1;32mfrom\u001b[0m \u001b[0mtensorflow\u001b[0m\u001b[1;33m.\u001b[0m\u001b[0mpython\u001b[0m\u001b[1;33m.\u001b[0m\u001b[0mdata\u001b[0m\u001b[1;33m.\u001b[0m\u001b[0mops\u001b[0m\u001b[1;33m.\u001b[0m\u001b[0mdataset_ops\u001b[0m \u001b[1;32mimport\u001b[0m \u001b[0mDataset\u001b[0m\u001b[1;33m\u001b[0m\u001b[1;33m\u001b[0m\u001b[0m\n",
      "\u001b[1;32m~\\AppData\\Roaming\\Python\\Python38\\site-packages\\tensorflow\\python\\data\\experimental\\__init__.py\u001b[0m in \u001b[0;36m<module>\u001b[1;34m\u001b[0m\n\u001b[0;32m    125\u001b[0m \u001b[1;32mfrom\u001b[0m \u001b[0mtensorflow\u001b[0m\u001b[1;33m.\u001b[0m\u001b[0mpython\u001b[0m\u001b[1;33m.\u001b[0m\u001b[0mdata\u001b[0m\u001b[1;33m.\u001b[0m\u001b[0mexperimental\u001b[0m\u001b[1;33m.\u001b[0m\u001b[0mops\u001b[0m\u001b[1;33m.\u001b[0m\u001b[0mlookup_ops\u001b[0m \u001b[1;32mimport\u001b[0m \u001b[0mindex_table_from_dataset\u001b[0m\u001b[1;33m\u001b[0m\u001b[1;33m\u001b[0m\u001b[0m\n\u001b[0;32m    126\u001b[0m \u001b[1;32mfrom\u001b[0m \u001b[0mtensorflow\u001b[0m\u001b[1;33m.\u001b[0m\u001b[0mpython\u001b[0m\u001b[1;33m.\u001b[0m\u001b[0mdata\u001b[0m\u001b[1;33m.\u001b[0m\u001b[0mexperimental\u001b[0m\u001b[1;33m.\u001b[0m\u001b[0mops\u001b[0m\u001b[1;33m.\u001b[0m\u001b[0mlookup_ops\u001b[0m \u001b[1;32mimport\u001b[0m \u001b[0mtable_from_dataset\u001b[0m\u001b[1;33m\u001b[0m\u001b[1;33m\u001b[0m\u001b[0m\n\u001b[1;32m--> 127\u001b[1;33m \u001b[1;32mfrom\u001b[0m \u001b[0mtensorflow\u001b[0m\u001b[1;33m.\u001b[0m\u001b[0mpython\u001b[0m\u001b[1;33m.\u001b[0m\u001b[0mdata\u001b[0m\u001b[1;33m.\u001b[0m\u001b[0mexperimental\u001b[0m\u001b[1;33m.\u001b[0m\u001b[0mops\u001b[0m\u001b[1;33m.\u001b[0m\u001b[0mparsing_ops\u001b[0m \u001b[1;32mimport\u001b[0m \u001b[0mparse_example_dataset\u001b[0m\u001b[1;33m\u001b[0m\u001b[1;33m\u001b[0m\u001b[0m\n\u001b[0m\u001b[0;32m    128\u001b[0m \u001b[1;32mfrom\u001b[0m \u001b[0mtensorflow\u001b[0m\u001b[1;33m.\u001b[0m\u001b[0mpython\u001b[0m\u001b[1;33m.\u001b[0m\u001b[0mdata\u001b[0m\u001b[1;33m.\u001b[0m\u001b[0mexperimental\u001b[0m\u001b[1;33m.\u001b[0m\u001b[0mops\u001b[0m\u001b[1;33m.\u001b[0m\u001b[0mprefetching_ops\u001b[0m \u001b[1;32mimport\u001b[0m \u001b[0mcopy_to_device\u001b[0m\u001b[1;33m\u001b[0m\u001b[1;33m\u001b[0m\u001b[0m\n\u001b[0;32m    129\u001b[0m \u001b[1;32mfrom\u001b[0m \u001b[0mtensorflow\u001b[0m\u001b[1;33m.\u001b[0m\u001b[0mpython\u001b[0m\u001b[1;33m.\u001b[0m\u001b[0mdata\u001b[0m\u001b[1;33m.\u001b[0m\u001b[0mexperimental\u001b[0m\u001b[1;33m.\u001b[0m\u001b[0mops\u001b[0m\u001b[1;33m.\u001b[0m\u001b[0mprefetching_ops\u001b[0m \u001b[1;32mimport\u001b[0m \u001b[0mprefetch_to_device\u001b[0m\u001b[1;33m\u001b[0m\u001b[1;33m\u001b[0m\u001b[0m\n",
      "\u001b[1;32m~\\AppData\\Roaming\\Python\\Python38\\site-packages\\tensorflow\\python\\data\\experimental\\ops\\parsing_ops.py\u001b[0m in \u001b[0;36m<module>\u001b[1;34m\u001b[0m\n\u001b[0;32m     24\u001b[0m \u001b[1;32mfrom\u001b[0m \u001b[0mtensorflow\u001b[0m\u001b[1;33m.\u001b[0m\u001b[0mpython\u001b[0m\u001b[1;33m.\u001b[0m\u001b[0mframework\u001b[0m \u001b[1;32mimport\u001b[0m \u001b[0mtensor_spec\u001b[0m\u001b[1;33m\u001b[0m\u001b[1;33m\u001b[0m\u001b[0m\n\u001b[0;32m     25\u001b[0m \u001b[1;32mfrom\u001b[0m \u001b[0mtensorflow\u001b[0m\u001b[1;33m.\u001b[0m\u001b[0mpython\u001b[0m\u001b[1;33m.\u001b[0m\u001b[0mops\u001b[0m \u001b[1;32mimport\u001b[0m \u001b[0mgen_experimental_dataset_ops\u001b[0m\u001b[1;33m\u001b[0m\u001b[1;33m\u001b[0m\u001b[0m\n\u001b[1;32m---> 26\u001b[1;33m \u001b[1;32mfrom\u001b[0m \u001b[0mtensorflow\u001b[0m\u001b[1;33m.\u001b[0m\u001b[0mpython\u001b[0m\u001b[1;33m.\u001b[0m\u001b[0mops\u001b[0m \u001b[1;32mimport\u001b[0m \u001b[0mparsing_ops\u001b[0m\u001b[1;33m\u001b[0m\u001b[1;33m\u001b[0m\u001b[0m\n\u001b[0m\u001b[0;32m     27\u001b[0m \u001b[1;32mfrom\u001b[0m \u001b[0mtensorflow\u001b[0m\u001b[1;33m.\u001b[0m\u001b[0mpython\u001b[0m\u001b[1;33m.\u001b[0m\u001b[0mops\u001b[0m\u001b[1;33m.\u001b[0m\u001b[0mragged\u001b[0m \u001b[1;32mimport\u001b[0m \u001b[0mragged_tensor\u001b[0m\u001b[1;33m\u001b[0m\u001b[1;33m\u001b[0m\u001b[0m\n\u001b[0;32m     28\u001b[0m \u001b[1;32mfrom\u001b[0m \u001b[0mtensorflow\u001b[0m\u001b[1;33m.\u001b[0m\u001b[0mpython\u001b[0m\u001b[1;33m.\u001b[0m\u001b[0mutil\u001b[0m\u001b[1;33m.\u001b[0m\u001b[0mtf_export\u001b[0m \u001b[1;32mimport\u001b[0m \u001b[0mtf_export\u001b[0m\u001b[1;33m\u001b[0m\u001b[1;33m\u001b[0m\u001b[0m\n",
      "\u001b[1;32m~\\AppData\\Roaming\\Python\\Python38\\site-packages\\tensorflow\\python\\ops\\parsing_ops.py\u001b[0m in \u001b[0;36m<module>\u001b[1;34m\u001b[0m\n\u001b[0;32m     25\u001b[0m \u001b[1;32mfrom\u001b[0m \u001b[0mtensorflow\u001b[0m\u001b[1;33m.\u001b[0m\u001b[0mpython\u001b[0m\u001b[1;33m.\u001b[0m\u001b[0mops\u001b[0m \u001b[1;32mimport\u001b[0m \u001b[0mgen_parsing_ops\u001b[0m\u001b[1;33m\u001b[0m\u001b[1;33m\u001b[0m\u001b[0m\n\u001b[0;32m     26\u001b[0m \u001b[1;32mfrom\u001b[0m \u001b[0mtensorflow\u001b[0m\u001b[1;33m.\u001b[0m\u001b[0mpython\u001b[0m\u001b[1;33m.\u001b[0m\u001b[0mops\u001b[0m \u001b[1;32mimport\u001b[0m \u001b[0mmath_ops\u001b[0m\u001b[1;33m\u001b[0m\u001b[1;33m\u001b[0m\u001b[0m\n\u001b[1;32m---> 27\u001b[1;33m \u001b[1;32mfrom\u001b[0m \u001b[0mtensorflow\u001b[0m\u001b[1;33m.\u001b[0m\u001b[0mpython\u001b[0m\u001b[1;33m.\u001b[0m\u001b[0mops\u001b[0m \u001b[1;32mimport\u001b[0m \u001b[0mparsing_config\u001b[0m\u001b[1;33m\u001b[0m\u001b[1;33m\u001b[0m\u001b[0m\n\u001b[0m\u001b[0;32m     28\u001b[0m \u001b[1;31m# go/tf-wildcard-import\u001b[0m\u001b[1;33m\u001b[0m\u001b[1;33m\u001b[0m\u001b[1;33m\u001b[0m\u001b[0m\n\u001b[0;32m     29\u001b[0m \u001b[1;31m# pylint: disable=wildcard-import,undefined-variable\u001b[0m\u001b[1;33m\u001b[0m\u001b[1;33m\u001b[0m\u001b[1;33m\u001b[0m\u001b[0m\n",
      "\u001b[1;32m~\\AppData\\Roaming\\Python\\Python38\\site-packages\\tensorflow\\python\\ops\\parsing_config.py\u001b[0m in \u001b[0;36m<module>\u001b[1;34m\u001b[0m\n\u001b[0;32m     30\u001b[0m \u001b[1;32mfrom\u001b[0m \u001b[0mtensorflow\u001b[0m\u001b[1;33m.\u001b[0m\u001b[0mpython\u001b[0m\u001b[1;33m.\u001b[0m\u001b[0mops\u001b[0m \u001b[1;32mimport\u001b[0m \u001b[0mmath_ops\u001b[0m\u001b[1;33m\u001b[0m\u001b[1;33m\u001b[0m\u001b[0m\n\u001b[0;32m     31\u001b[0m \u001b[1;32mfrom\u001b[0m \u001b[0mtensorflow\u001b[0m\u001b[1;33m.\u001b[0m\u001b[0mpython\u001b[0m\u001b[1;33m.\u001b[0m\u001b[0mops\u001b[0m \u001b[1;32mimport\u001b[0m \u001b[0msparse_ops\u001b[0m\u001b[1;33m\u001b[0m\u001b[1;33m\u001b[0m\u001b[0m\n\u001b[1;32m---> 32\u001b[1;33m \u001b[1;32mfrom\u001b[0m \u001b[0mtensorflow\u001b[0m\u001b[1;33m.\u001b[0m\u001b[0mpython\u001b[0m\u001b[1;33m.\u001b[0m\u001b[0mops\u001b[0m\u001b[1;33m.\u001b[0m\u001b[0mragged\u001b[0m \u001b[1;32mimport\u001b[0m \u001b[0mragged_math_ops\u001b[0m\u001b[1;33m\u001b[0m\u001b[1;33m\u001b[0m\u001b[0m\n\u001b[0m\u001b[0;32m     33\u001b[0m \u001b[1;32mfrom\u001b[0m \u001b[0mtensorflow\u001b[0m\u001b[1;33m.\u001b[0m\u001b[0mpython\u001b[0m\u001b[1;33m.\u001b[0m\u001b[0mops\u001b[0m\u001b[1;33m.\u001b[0m\u001b[0mragged\u001b[0m \u001b[1;32mimport\u001b[0m \u001b[0mragged_tensor\u001b[0m\u001b[1;33m\u001b[0m\u001b[1;33m\u001b[0m\u001b[0m\n\u001b[0;32m     34\u001b[0m \u001b[1;32mfrom\u001b[0m \u001b[0mtensorflow\u001b[0m\u001b[1;33m.\u001b[0m\u001b[0mpython\u001b[0m\u001b[1;33m.\u001b[0m\u001b[0mplatform\u001b[0m \u001b[1;32mimport\u001b[0m \u001b[0mtf_logging\u001b[0m\u001b[1;33m\u001b[0m\u001b[1;33m\u001b[0m\u001b[0m\n",
      "\u001b[1;32m~\\AppData\\Roaming\\Python\\Python38\\site-packages\\tensorflow\\python\\ops\\ragged\\ragged_math_ops.py\u001b[0m in \u001b[0;36m<module>\u001b[1;34m\u001b[0m\n\u001b[0;32m     29\u001b[0m \u001b[1;32mfrom\u001b[0m \u001b[0mtensorflow\u001b[0m\u001b[1;33m.\u001b[0m\u001b[0mpython\u001b[0m\u001b[1;33m.\u001b[0m\u001b[0mops\u001b[0m \u001b[1;32mimport\u001b[0m \u001b[0mcheck_ops\u001b[0m\u001b[1;33m\u001b[0m\u001b[1;33m\u001b[0m\u001b[0m\n\u001b[0;32m     30\u001b[0m \u001b[1;32mfrom\u001b[0m \u001b[0mtensorflow\u001b[0m\u001b[1;33m.\u001b[0m\u001b[0mpython\u001b[0m\u001b[1;33m.\u001b[0m\u001b[0mops\u001b[0m \u001b[1;32mimport\u001b[0m \u001b[0mgen_ragged_math_ops\u001b[0m\u001b[1;33m\u001b[0m\u001b[1;33m\u001b[0m\u001b[0m\n\u001b[1;32m---> 31\u001b[1;33m \u001b[1;32mfrom\u001b[0m \u001b[0mtensorflow\u001b[0m\u001b[1;33m.\u001b[0m\u001b[0mpython\u001b[0m\u001b[1;33m.\u001b[0m\u001b[0mops\u001b[0m \u001b[1;32mimport\u001b[0m \u001b[0mmap_fn\u001b[0m\u001b[1;33m\u001b[0m\u001b[1;33m\u001b[0m\u001b[0m\n\u001b[0m\u001b[0;32m     32\u001b[0m \u001b[1;32mfrom\u001b[0m \u001b[0mtensorflow\u001b[0m\u001b[1;33m.\u001b[0m\u001b[0mpython\u001b[0m\u001b[1;33m.\u001b[0m\u001b[0mops\u001b[0m \u001b[1;32mimport\u001b[0m \u001b[0mmath_ops\u001b[0m\u001b[1;33m\u001b[0m\u001b[1;33m\u001b[0m\u001b[0m\n\u001b[0;32m     33\u001b[0m \u001b[1;32mfrom\u001b[0m \u001b[0mtensorflow\u001b[0m\u001b[1;33m.\u001b[0m\u001b[0mpython\u001b[0m\u001b[1;33m.\u001b[0m\u001b[0mops\u001b[0m \u001b[1;32mimport\u001b[0m \u001b[0mnn_ops\u001b[0m\u001b[1;33m\u001b[0m\u001b[1;33m\u001b[0m\u001b[0m\n",
      "\u001b[1;32m~\\AppData\\Roaming\\Python\\Python38\\site-packages\\tensorflow\\python\\ops\\map_fn.py\u001b[0m in \u001b[0;36m<module>\u001b[1;34m\u001b[0m\n\u001b[0;32m     23\u001b[0m \u001b[1;32mimport\u001b[0m \u001b[0mre\u001b[0m\u001b[1;33m\u001b[0m\u001b[1;33m\u001b[0m\u001b[0m\n\u001b[0;32m     24\u001b[0m \u001b[1;33m\u001b[0m\u001b[0m\n\u001b[1;32m---> 25\u001b[1;33m \u001b[1;32mfrom\u001b[0m \u001b[0mtensorflow\u001b[0m\u001b[1;33m.\u001b[0m\u001b[0mpython\u001b[0m\u001b[1;33m.\u001b[0m\u001b[0mautograph\u001b[0m\u001b[1;33m.\u001b[0m\u001b[0mcore\u001b[0m \u001b[1;32mimport\u001b[0m \u001b[0mag_ctx\u001b[0m \u001b[1;32mas\u001b[0m \u001b[0mautograph_ctx\u001b[0m\u001b[1;33m\u001b[0m\u001b[1;33m\u001b[0m\u001b[0m\n\u001b[0m\u001b[0;32m     26\u001b[0m \u001b[1;32mfrom\u001b[0m \u001b[0mtensorflow\u001b[0m\u001b[1;33m.\u001b[0m\u001b[0mpython\u001b[0m\u001b[1;33m.\u001b[0m\u001b[0mautograph\u001b[0m\u001b[1;33m.\u001b[0m\u001b[0mimpl\u001b[0m \u001b[1;32mimport\u001b[0m \u001b[0mapi\u001b[0m \u001b[1;32mas\u001b[0m \u001b[0mautograph\u001b[0m\u001b[1;33m\u001b[0m\u001b[1;33m\u001b[0m\u001b[0m\n\u001b[0;32m     27\u001b[0m \u001b[1;32mfrom\u001b[0m \u001b[0mtensorflow\u001b[0m\u001b[1;33m.\u001b[0m\u001b[0mpython\u001b[0m\u001b[1;33m.\u001b[0m\u001b[0meager\u001b[0m \u001b[1;32mimport\u001b[0m \u001b[0mcontext\u001b[0m\u001b[1;33m\u001b[0m\u001b[1;33m\u001b[0m\u001b[0m\n",
      "\u001b[1;32m~\\AppData\\Roaming\\Python\\Python38\\site-packages\\tensorflow\\python\\autograph\\__init__.py\u001b[0m in \u001b[0;36m<module>\u001b[1;34m\u001b[0m\n\u001b[0;32m     39\u001b[0m \u001b[1;32mfrom\u001b[0m \u001b[0mtensorflow\u001b[0m\u001b[1;33m.\u001b[0m\u001b[0mpython\u001b[0m\u001b[1;33m.\u001b[0m\u001b[0mautograph\u001b[0m\u001b[1;33m.\u001b[0m\u001b[0mcore\u001b[0m\u001b[1;33m.\u001b[0m\u001b[0mconverter\u001b[0m \u001b[1;32mimport\u001b[0m \u001b[0mConversionOptions\u001b[0m\u001b[1;33m\u001b[0m\u001b[1;33m\u001b[0m\u001b[0m\n\u001b[0;32m     40\u001b[0m \u001b[1;32mfrom\u001b[0m \u001b[0mtensorflow\u001b[0m\u001b[1;33m.\u001b[0m\u001b[0mpython\u001b[0m\u001b[1;33m.\u001b[0m\u001b[0mautograph\u001b[0m\u001b[1;33m.\u001b[0m\u001b[0mcore\u001b[0m\u001b[1;33m.\u001b[0m\u001b[0mconverter\u001b[0m \u001b[1;32mimport\u001b[0m \u001b[0mFeature\u001b[0m\u001b[1;33m\u001b[0m\u001b[1;33m\u001b[0m\u001b[0m\n\u001b[1;32m---> 41\u001b[1;33m \u001b[1;32mfrom\u001b[0m \u001b[0mtensorflow\u001b[0m\u001b[1;33m.\u001b[0m\u001b[0mpython\u001b[0m\u001b[1;33m.\u001b[0m\u001b[0mautograph\u001b[0m\u001b[1;33m.\u001b[0m\u001b[0mimpl\u001b[0m\u001b[1;33m.\u001b[0m\u001b[0mapi\u001b[0m \u001b[1;32mimport\u001b[0m \u001b[0mAutoGraphError\u001b[0m\u001b[1;33m\u001b[0m\u001b[1;33m\u001b[0m\u001b[0m\n\u001b[0m\u001b[0;32m     42\u001b[0m \u001b[1;32mfrom\u001b[0m \u001b[0mtensorflow\u001b[0m\u001b[1;33m.\u001b[0m\u001b[0mpython\u001b[0m\u001b[1;33m.\u001b[0m\u001b[0mautograph\u001b[0m\u001b[1;33m.\u001b[0m\u001b[0mimpl\u001b[0m\u001b[1;33m.\u001b[0m\u001b[0mapi\u001b[0m \u001b[1;32mimport\u001b[0m \u001b[0mconvert\u001b[0m\u001b[1;33m\u001b[0m\u001b[1;33m\u001b[0m\u001b[0m\n\u001b[0;32m     43\u001b[0m \u001b[1;32mfrom\u001b[0m \u001b[0mtensorflow\u001b[0m\u001b[1;33m.\u001b[0m\u001b[0mpython\u001b[0m\u001b[1;33m.\u001b[0m\u001b[0mautograph\u001b[0m\u001b[1;33m.\u001b[0m\u001b[0mimpl\u001b[0m\u001b[1;33m.\u001b[0m\u001b[0mapi\u001b[0m \u001b[1;32mimport\u001b[0m \u001b[0mconverted_call\u001b[0m\u001b[1;33m\u001b[0m\u001b[1;33m\u001b[0m\u001b[0m\n",
      "\u001b[1;32m~\\AppData\\Roaming\\Python\\Python38\\site-packages\\tensorflow\\python\\autograph\\impl\\api.py\u001b[0m in \u001b[0;36m<module>\u001b[1;34m\u001b[0m\n\u001b[0;32m     48\u001b[0m \u001b[1;32mfrom\u001b[0m \u001b[0mtensorflow\u001b[0m\u001b[1;33m.\u001b[0m\u001b[0mpython\u001b[0m\u001b[1;33m.\u001b[0m\u001b[0mautograph\u001b[0m\u001b[1;33m.\u001b[0m\u001b[0mcore\u001b[0m \u001b[1;32mimport\u001b[0m \u001b[0mfunction_wrappers\u001b[0m\u001b[1;33m\u001b[0m\u001b[1;33m\u001b[0m\u001b[0m\n\u001b[0;32m     49\u001b[0m \u001b[1;32mfrom\u001b[0m \u001b[0mtensorflow\u001b[0m\u001b[1;33m.\u001b[0m\u001b[0mpython\u001b[0m\u001b[1;33m.\u001b[0m\u001b[0mautograph\u001b[0m\u001b[1;33m.\u001b[0m\u001b[0mcore\u001b[0m \u001b[1;32mimport\u001b[0m \u001b[0munsupported_features_checker\u001b[0m\u001b[1;33m\u001b[0m\u001b[1;33m\u001b[0m\u001b[0m\n\u001b[1;32m---> 50\u001b[1;33m \u001b[1;32mfrom\u001b[0m \u001b[0mtensorflow\u001b[0m\u001b[1;33m.\u001b[0m\u001b[0mpython\u001b[0m\u001b[1;33m.\u001b[0m\u001b[0mautograph\u001b[0m\u001b[1;33m.\u001b[0m\u001b[0mimpl\u001b[0m \u001b[1;32mimport\u001b[0m \u001b[0mconversion\u001b[0m\u001b[1;33m\u001b[0m\u001b[1;33m\u001b[0m\u001b[0m\n\u001b[0m\u001b[0;32m     51\u001b[0m \u001b[1;32mfrom\u001b[0m \u001b[0mtensorflow\u001b[0m\u001b[1;33m.\u001b[0m\u001b[0mpython\u001b[0m\u001b[1;33m.\u001b[0m\u001b[0mautograph\u001b[0m\u001b[1;33m.\u001b[0m\u001b[0mlang\u001b[0m \u001b[1;32mimport\u001b[0m \u001b[0mspecial_functions\u001b[0m\u001b[1;33m\u001b[0m\u001b[1;33m\u001b[0m\u001b[0m\n\u001b[0;32m     52\u001b[0m \u001b[1;32mfrom\u001b[0m \u001b[0mtensorflow\u001b[0m\u001b[1;33m.\u001b[0m\u001b[0mpython\u001b[0m\u001b[1;33m.\u001b[0m\u001b[0mautograph\u001b[0m\u001b[1;33m.\u001b[0m\u001b[0moperators\u001b[0m \u001b[1;32mimport\u001b[0m \u001b[0mpy_builtins\u001b[0m\u001b[1;33m\u001b[0m\u001b[1;33m\u001b[0m\u001b[0m\n",
      "\u001b[1;32m~\\AppData\\Roaming\\Python\\Python38\\site-packages\\tensorflow\\python\\autograph\\impl\\conversion.py\u001b[0m in \u001b[0;36m<module>\u001b[1;34m\u001b[0m\n\u001b[0;32m     24\u001b[0m \u001b[1;32mimport\u001b[0m \u001b[0munittest\u001b[0m\u001b[1;33m\u001b[0m\u001b[1;33m\u001b[0m\u001b[0m\n\u001b[0;32m     25\u001b[0m \u001b[1;33m\u001b[0m\u001b[0m\n\u001b[1;32m---> 26\u001b[1;33m \u001b[1;32mfrom\u001b[0m \u001b[0mtensorflow\u001b[0m\u001b[1;33m.\u001b[0m\u001b[0mpython\u001b[0m\u001b[1;33m.\u001b[0m\u001b[0mautograph\u001b[0m\u001b[1;33m.\u001b[0m\u001b[0mcore\u001b[0m \u001b[1;32mimport\u001b[0m \u001b[0mconfig\u001b[0m\u001b[1;33m\u001b[0m\u001b[1;33m\u001b[0m\u001b[0m\n\u001b[0m\u001b[0;32m     27\u001b[0m \u001b[1;32mfrom\u001b[0m \u001b[0mtensorflow\u001b[0m\u001b[1;33m.\u001b[0m\u001b[0mpython\u001b[0m\u001b[1;33m.\u001b[0m\u001b[0mautograph\u001b[0m\u001b[1;33m.\u001b[0m\u001b[0mpyct\u001b[0m \u001b[1;32mimport\u001b[0m \u001b[0mcache\u001b[0m\u001b[1;33m\u001b[0m\u001b[1;33m\u001b[0m\u001b[0m\n\u001b[0;32m     28\u001b[0m \u001b[1;32mfrom\u001b[0m \u001b[0mtensorflow\u001b[0m\u001b[1;33m.\u001b[0m\u001b[0mpython\u001b[0m\u001b[1;33m.\u001b[0m\u001b[0mautograph\u001b[0m\u001b[1;33m.\u001b[0m\u001b[0mpyct\u001b[0m \u001b[1;32mimport\u001b[0m \u001b[0minspect_utils\u001b[0m\u001b[1;33m\u001b[0m\u001b[1;33m\u001b[0m\u001b[0m\n",
      "\u001b[1;32m~\\anaconda_3\\lib\\importlib\\_bootstrap.py\u001b[0m in \u001b[0;36m_find_and_load\u001b[1;34m(name, import_)\u001b[0m\n",
      "\u001b[1;32m~\\anaconda_3\\lib\\importlib\\_bootstrap.py\u001b[0m in \u001b[0;36m_find_and_load_unlocked\u001b[1;34m(name, import_)\u001b[0m\n",
      "\u001b[1;32m~\\anaconda_3\\lib\\importlib\\_bootstrap.py\u001b[0m in \u001b[0;36m_find_spec\u001b[1;34m(name, path, target)\u001b[0m\n",
      "\u001b[1;32m~\\anaconda_3\\lib\\importlib\\_bootstrap_external.py\u001b[0m in \u001b[0;36mfind_spec\u001b[1;34m(cls, fullname, path, target)\u001b[0m\n",
      "\u001b[1;32m~\\anaconda_3\\lib\\importlib\\_bootstrap_external.py\u001b[0m in \u001b[0;36m_get_spec\u001b[1;34m(cls, fullname, path, target)\u001b[0m\n",
      "\u001b[1;32m~\\anaconda_3\\lib\\importlib\\_bootstrap_external.py\u001b[0m in \u001b[0;36mfind_spec\u001b[1;34m(self, fullname, target)\u001b[0m\n",
      "\u001b[1;32m~\\anaconda_3\\lib\\importlib\\_bootstrap_external.py\u001b[0m in \u001b[0;36m_path_stat\u001b[1;34m(path)\u001b[0m\n",
      "\u001b[1;31mKeyboardInterrupt\u001b[0m: "
     ]
    }
   ],
   "source": [
    "import numpy as np\n",
    "import pandas as pd\n",
    "import matplotlib.pyplot as plt\n",
    "import seaborn as sns\n",
    "sns.set()\n",
    "from matplotlib import pyplot\n",
    "from scipy import stats\n",
    "from sklearn.model_selection import train_test_split\n",
    "from sklearn import preprocessing\n",
    "from sklearn.preprocessing import StandardScaler\n",
    "from sklearn.metrics import explained_variance_score, mean_squared_error, r2_score, mean_absolute_error\n",
    "from collections import Counter\n",
    "from keras import callbacks\n",
    "import tensorflow as tf\n",
    "from tensorflow.keras.layers import Dense, Dropout,InputLayer\n",
    "from tensorflow.keras.models import Sequential\n",
    "from keras.layers import BatchNormalization\n",
    "from tensorflow.keras import regularizers\n",
    "from tensorflow.keras import backend\n",
    "from random import shuffle\n",
    "from keras.callbacks import ModelCheckpoint\n",
    "from tensorflow.keras.optimizers import Adam\n",
    "from tensorflow.keras.optimizers import RMSprop\n",
    "import warnings\n",
    "warnings.filterwarnings(\"ignore\")"
   ]
  },
  {
   "cell_type": "markdown",
   "id": "255ff0c3",
   "metadata": {
    "id": "255ff0c3"
   },
   "source": [
    "#### Reading the Dataset "
   ]
  },
  {
   "cell_type": "code",
   "execution_count": 135,
   "id": "f4843f95",
   "metadata": {
    "id": "f4843f95"
   },
   "outputs": [],
   "source": [
    "#Since data is in form of excel file we have to use pandas pd.read_excel to load the data.\n",
    "data = pd.read_excel('/content/drive/MyDrive/Data.xlsx')"
   ]
  },
  {
   "cell_type": "markdown",
   "id": "02bf07e4",
   "metadata": {
    "id": "02bf07e4"
   },
   "source": [
    "#### Print the first five rows of the data"
   ]
  },
  {
   "cell_type": "code",
   "execution_count": 136,
   "id": "fe693428",
   "metadata": {
    "colab": {
     "base_uri": "https://localhost:8080/",
     "height": 250
    },
    "id": "fe693428",
    "outputId": "d0f675d3-402e-4627-8348-7eabdb4e1206"
   },
   "outputs": [
    {
     "data": {
      "text/html": [
       "\n",
       "  <div id=\"df-d866a6ff-8665-4c75-b551-a2f4e20256b9\">\n",
       "    <div class=\"colab-df-container\">\n",
       "      <div>\n",
       "<style scoped>\n",
       "    .dataframe tbody tr th:only-of-type {\n",
       "        vertical-align: middle;\n",
       "    }\n",
       "\n",
       "    .dataframe tbody tr th {\n",
       "        vertical-align: top;\n",
       "    }\n",
       "\n",
       "    .dataframe thead th {\n",
       "        text-align: right;\n",
       "    }\n",
       "</style>\n",
       "<table border=\"1\" class=\"dataframe\">\n",
       "  <thead>\n",
       "    <tr style=\"text-align: right;\">\n",
       "      <th></th>\n",
       "      <th>Airline</th>\n",
       "      <th>Date_of_Journey</th>\n",
       "      <th>Source</th>\n",
       "      <th>Destination</th>\n",
       "      <th>Route</th>\n",
       "      <th>Dep_Time</th>\n",
       "      <th>Arrival_Time</th>\n",
       "      <th>Duration</th>\n",
       "      <th>Total_Stops</th>\n",
       "      <th>Additional_Info</th>\n",
       "      <th>Price</th>\n",
       "    </tr>\n",
       "  </thead>\n",
       "  <tbody>\n",
       "    <tr>\n",
       "      <th>0</th>\n",
       "      <td>IndiGo</td>\n",
       "      <td>24/03/2019</td>\n",
       "      <td>Banglore</td>\n",
       "      <td>New Delhi</td>\n",
       "      <td>BLR → DEL</td>\n",
       "      <td>22:20</td>\n",
       "      <td>01:10 22 Mar</td>\n",
       "      <td>2h 50m</td>\n",
       "      <td>non-stop</td>\n",
       "      <td>No info</td>\n",
       "      <td>3897</td>\n",
       "    </tr>\n",
       "    <tr>\n",
       "      <th>1</th>\n",
       "      <td>Air India</td>\n",
       "      <td>1/05/2019</td>\n",
       "      <td>Kolkata</td>\n",
       "      <td>Banglore</td>\n",
       "      <td>CCU → IXR → BBI → BLR</td>\n",
       "      <td>05:50</td>\n",
       "      <td>13:15</td>\n",
       "      <td>7h 25m</td>\n",
       "      <td>2 stops</td>\n",
       "      <td>No info</td>\n",
       "      <td>7662</td>\n",
       "    </tr>\n",
       "    <tr>\n",
       "      <th>2</th>\n",
       "      <td>Jet Airways</td>\n",
       "      <td>9/06/2019</td>\n",
       "      <td>Delhi</td>\n",
       "      <td>Cochin</td>\n",
       "      <td>DEL → LKO → BOM → COK</td>\n",
       "      <td>09:25</td>\n",
       "      <td>04:25 10 Jun</td>\n",
       "      <td>19h</td>\n",
       "      <td>2 stops</td>\n",
       "      <td>No info</td>\n",
       "      <td>13882</td>\n",
       "    </tr>\n",
       "    <tr>\n",
       "      <th>3</th>\n",
       "      <td>IndiGo</td>\n",
       "      <td>12/05/2019</td>\n",
       "      <td>Kolkata</td>\n",
       "      <td>Banglore</td>\n",
       "      <td>CCU → NAG → BLR</td>\n",
       "      <td>18:05</td>\n",
       "      <td>23:30</td>\n",
       "      <td>5h 25m</td>\n",
       "      <td>1 stop</td>\n",
       "      <td>No info</td>\n",
       "      <td>6218</td>\n",
       "    </tr>\n",
       "    <tr>\n",
       "      <th>4</th>\n",
       "      <td>IndiGo</td>\n",
       "      <td>01/03/2019</td>\n",
       "      <td>Banglore</td>\n",
       "      <td>New Delhi</td>\n",
       "      <td>BLR → NAG → DEL</td>\n",
       "      <td>16:50</td>\n",
       "      <td>21:35</td>\n",
       "      <td>4h 45m</td>\n",
       "      <td>1 stop</td>\n",
       "      <td>No info</td>\n",
       "      <td>13302</td>\n",
       "    </tr>\n",
       "  </tbody>\n",
       "</table>\n",
       "</div>\n",
       "      <button class=\"colab-df-convert\" onclick=\"convertToInteractive('df-d866a6ff-8665-4c75-b551-a2f4e20256b9')\"\n",
       "              title=\"Convert this dataframe to an interactive table.\"\n",
       "              style=\"display:none;\">\n",
       "        \n",
       "  <svg xmlns=\"http://www.w3.org/2000/svg\" height=\"24px\"viewBox=\"0 0 24 24\"\n",
       "       width=\"24px\">\n",
       "    <path d=\"M0 0h24v24H0V0z\" fill=\"none\"/>\n",
       "    <path d=\"M18.56 5.44l.94 2.06.94-2.06 2.06-.94-2.06-.94-.94-2.06-.94 2.06-2.06.94zm-11 1L8.5 8.5l.94-2.06 2.06-.94-2.06-.94L8.5 2.5l-.94 2.06-2.06.94zm10 10l.94 2.06.94-2.06 2.06-.94-2.06-.94-.94-2.06-.94 2.06-2.06.94z\"/><path d=\"M17.41 7.96l-1.37-1.37c-.4-.4-.92-.59-1.43-.59-.52 0-1.04.2-1.43.59L10.3 9.45l-7.72 7.72c-.78.78-.78 2.05 0 2.83L4 21.41c.39.39.9.59 1.41.59.51 0 1.02-.2 1.41-.59l7.78-7.78 2.81-2.81c.8-.78.8-2.07 0-2.86zM5.41 20L4 18.59l7.72-7.72 1.47 1.35L5.41 20z\"/>\n",
       "  </svg>\n",
       "      </button>\n",
       "      \n",
       "  <style>\n",
       "    .colab-df-container {\n",
       "      display:flex;\n",
       "      flex-wrap:wrap;\n",
       "      gap: 12px;\n",
       "    }\n",
       "\n",
       "    .colab-df-convert {\n",
       "      background-color: #E8F0FE;\n",
       "      border: none;\n",
       "      border-radius: 50%;\n",
       "      cursor: pointer;\n",
       "      display: none;\n",
       "      fill: #1967D2;\n",
       "      height: 32px;\n",
       "      padding: 0 0 0 0;\n",
       "      width: 32px;\n",
       "    }\n",
       "\n",
       "    .colab-df-convert:hover {\n",
       "      background-color: #E2EBFA;\n",
       "      box-shadow: 0px 1px 2px rgba(60, 64, 67, 0.3), 0px 1px 3px 1px rgba(60, 64, 67, 0.15);\n",
       "      fill: #174EA6;\n",
       "    }\n",
       "\n",
       "    [theme=dark] .colab-df-convert {\n",
       "      background-color: #3B4455;\n",
       "      fill: #D2E3FC;\n",
       "    }\n",
       "\n",
       "    [theme=dark] .colab-df-convert:hover {\n",
       "      background-color: #434B5C;\n",
       "      box-shadow: 0px 1px 3px 1px rgba(0, 0, 0, 0.15);\n",
       "      filter: drop-shadow(0px 1px 2px rgba(0, 0, 0, 0.3));\n",
       "      fill: #FFFFFF;\n",
       "    }\n",
       "  </style>\n",
       "\n",
       "      <script>\n",
       "        const buttonEl =\n",
       "          document.querySelector('#df-d866a6ff-8665-4c75-b551-a2f4e20256b9 button.colab-df-convert');\n",
       "        buttonEl.style.display =\n",
       "          google.colab.kernel.accessAllowed ? 'block' : 'none';\n",
       "\n",
       "        async function convertToInteractive(key) {\n",
       "          const element = document.querySelector('#df-d866a6ff-8665-4c75-b551-a2f4e20256b9');\n",
       "          const dataTable =\n",
       "            await google.colab.kernel.invokeFunction('convertToInteractive',\n",
       "                                                     [key], {});\n",
       "          if (!dataTable) return;\n",
       "\n",
       "          const docLinkHtml = 'Like what you see? Visit the ' +\n",
       "            '<a target=\"_blank\" href=https://colab.research.google.com/notebooks/data_table.ipynb>data table notebook</a>'\n",
       "            + ' to learn more about interactive tables.';\n",
       "          element.innerHTML = '';\n",
       "          dataTable['output_type'] = 'display_data';\n",
       "          await google.colab.output.renderOutput(dataTable, element);\n",
       "          const docLink = document.createElement('div');\n",
       "          docLink.innerHTML = docLinkHtml;\n",
       "          element.appendChild(docLink);\n",
       "        }\n",
       "      </script>\n",
       "    </div>\n",
       "  </div>\n",
       "  "
      ],
      "text/plain": [
       "       Airline Date_of_Journey    Source  ... Total_Stops Additional_Info  Price\n",
       "0       IndiGo      24/03/2019  Banglore  ...    non-stop         No info   3897\n",
       "1    Air India       1/05/2019   Kolkata  ...     2 stops         No info   7662\n",
       "2  Jet Airways       9/06/2019     Delhi  ...     2 stops         No info  13882\n",
       "3       IndiGo      12/05/2019   Kolkata  ...      1 stop         No info   6218\n",
       "4       IndiGo      01/03/2019  Banglore  ...      1 stop         No info  13302\n",
       "\n",
       "[5 rows x 11 columns]"
      ]
     },
     "execution_count": 136,
     "metadata": {},
     "output_type": "execute_result"
    }
   ],
   "source": [
    "data.head()"
   ]
  },
  {
   "cell_type": "code",
   "execution_count": 137,
   "id": "8e9ae0b7",
   "metadata": {
    "colab": {
     "base_uri": "https://localhost:8080/"
    },
    "id": "8e9ae0b7",
    "outputId": "d1b3f938-0de0-4f39-e41b-ac6f038a9052"
   },
   "outputs": [
    {
     "name": "stdout",
     "output_type": "stream",
     "text": [
      "<class 'pandas.core.frame.DataFrame'>\n",
      "RangeIndex: 10682 entries, 0 to 10681\n",
      "Data columns (total 11 columns):\n",
      " #   Column           Non-Null Count  Dtype \n",
      "---  ------           --------------  ----- \n",
      " 0   Airline          10682 non-null  object\n",
      " 1   Date_of_Journey  10682 non-null  object\n",
      " 2   Source           10682 non-null  object\n",
      " 3   Destination      10682 non-null  object\n",
      " 4   Route            10681 non-null  object\n",
      " 5   Dep_Time         10682 non-null  object\n",
      " 6   Arrival_Time     10682 non-null  object\n",
      " 7   Duration         10682 non-null  object\n",
      " 8   Total_Stops      10681 non-null  object\n",
      " 9   Additional_Info  10682 non-null  object\n",
      " 10  Price            10682 non-null  int64 \n",
      "dtypes: int64(1), object(10)\n",
      "memory usage: 918.1+ KB\n"
     ]
    }
   ],
   "source": [
    "#Information about the data\n",
    "data.info() "
   ]
  },
  {
   "cell_type": "code",
   "execution_count": 138,
   "id": "d0bcad9a",
   "metadata": {
    "colab": {
     "base_uri": "https://localhost:8080/"
    },
    "id": "d0bcad9a",
    "outputId": "c477d51d-98b0-46d7-cf22-62b920dad16a"
   },
   "outputs": [
    {
     "data": {
      "text/plain": [
       "(10682, 11)"
      ]
     },
     "execution_count": 138,
     "metadata": {},
     "output_type": "execute_result"
    }
   ],
   "source": [
    "#Checking the shape of the data\n",
    "data.shape"
   ]
  },
  {
   "cell_type": "code",
   "execution_count": 139,
   "id": "f8f58a15",
   "metadata": {
    "colab": {
     "base_uri": "https://localhost:8080/"
    },
    "id": "f8f58a15",
    "outputId": "d88623ec-156e-4b59-ea37-054c99608a7e"
   },
   "outputs": [
    {
     "data": {
      "text/plain": [
       "Airline            0\n",
       "Date_of_Journey    0\n",
       "Source             0\n",
       "Destination        0\n",
       "Route              1\n",
       "Dep_Time           0\n",
       "Arrival_Time       0\n",
       "Duration           0\n",
       "Total_Stops        1\n",
       "Additional_Info    0\n",
       "Price              0\n",
       "dtype: int64"
      ]
     },
     "execution_count": 139,
     "metadata": {},
     "output_type": "execute_result"
    }
   ],
   "source": [
    "#finding the null values\n",
    "data.isnull().sum()"
   ]
  },
  {
   "cell_type": "code",
   "execution_count": 140,
   "id": "b0b813cd",
   "metadata": {
    "colab": {
     "base_uri": "https://localhost:8080/",
     "height": 81
    },
    "id": "b0b813cd",
    "outputId": "426d80b1-14f6-4201-c076-3031bfa8a4d1"
   },
   "outputs": [
    {
     "data": {
      "text/html": [
       "\n",
       "  <div id=\"df-0f682fcb-f39f-450d-a02a-d09c1f389ee9\">\n",
       "    <div class=\"colab-df-container\">\n",
       "      <div>\n",
       "<style scoped>\n",
       "    .dataframe tbody tr th:only-of-type {\n",
       "        vertical-align: middle;\n",
       "    }\n",
       "\n",
       "    .dataframe tbody tr th {\n",
       "        vertical-align: top;\n",
       "    }\n",
       "\n",
       "    .dataframe thead th {\n",
       "        text-align: right;\n",
       "    }\n",
       "</style>\n",
       "<table border=\"1\" class=\"dataframe\">\n",
       "  <thead>\n",
       "    <tr style=\"text-align: right;\">\n",
       "      <th></th>\n",
       "      <th>Airline</th>\n",
       "      <th>Date_of_Journey</th>\n",
       "      <th>Source</th>\n",
       "      <th>Destination</th>\n",
       "      <th>Route</th>\n",
       "      <th>Dep_Time</th>\n",
       "      <th>Arrival_Time</th>\n",
       "      <th>Duration</th>\n",
       "      <th>Total_Stops</th>\n",
       "      <th>Additional_Info</th>\n",
       "      <th>Price</th>\n",
       "    </tr>\n",
       "  </thead>\n",
       "  <tbody>\n",
       "    <tr>\n",
       "      <th>9038</th>\n",
       "      <td>Air India</td>\n",
       "      <td>6/05/2019</td>\n",
       "      <td>Delhi</td>\n",
       "      <td>Cochin</td>\n",
       "      <td>NaN</td>\n",
       "      <td>09:45</td>\n",
       "      <td>09:25 07 May</td>\n",
       "      <td>23h 40m</td>\n",
       "      <td>NaN</td>\n",
       "      <td>No info</td>\n",
       "      <td>7480</td>\n",
       "    </tr>\n",
       "  </tbody>\n",
       "</table>\n",
       "</div>\n",
       "      <button class=\"colab-df-convert\" onclick=\"convertToInteractive('df-0f682fcb-f39f-450d-a02a-d09c1f389ee9')\"\n",
       "              title=\"Convert this dataframe to an interactive table.\"\n",
       "              style=\"display:none;\">\n",
       "        \n",
       "  <svg xmlns=\"http://www.w3.org/2000/svg\" height=\"24px\"viewBox=\"0 0 24 24\"\n",
       "       width=\"24px\">\n",
       "    <path d=\"M0 0h24v24H0V0z\" fill=\"none\"/>\n",
       "    <path d=\"M18.56 5.44l.94 2.06.94-2.06 2.06-.94-2.06-.94-.94-2.06-.94 2.06-2.06.94zm-11 1L8.5 8.5l.94-2.06 2.06-.94-2.06-.94L8.5 2.5l-.94 2.06-2.06.94zm10 10l.94 2.06.94-2.06 2.06-.94-2.06-.94-.94-2.06-.94 2.06-2.06.94z\"/><path d=\"M17.41 7.96l-1.37-1.37c-.4-.4-.92-.59-1.43-.59-.52 0-1.04.2-1.43.59L10.3 9.45l-7.72 7.72c-.78.78-.78 2.05 0 2.83L4 21.41c.39.39.9.59 1.41.59.51 0 1.02-.2 1.41-.59l7.78-7.78 2.81-2.81c.8-.78.8-2.07 0-2.86zM5.41 20L4 18.59l7.72-7.72 1.47 1.35L5.41 20z\"/>\n",
       "  </svg>\n",
       "      </button>\n",
       "      \n",
       "  <style>\n",
       "    .colab-df-container {\n",
       "      display:flex;\n",
       "      flex-wrap:wrap;\n",
       "      gap: 12px;\n",
       "    }\n",
       "\n",
       "    .colab-df-convert {\n",
       "      background-color: #E8F0FE;\n",
       "      border: none;\n",
       "      border-radius: 50%;\n",
       "      cursor: pointer;\n",
       "      display: none;\n",
       "      fill: #1967D2;\n",
       "      height: 32px;\n",
       "      padding: 0 0 0 0;\n",
       "      width: 32px;\n",
       "    }\n",
       "\n",
       "    .colab-df-convert:hover {\n",
       "      background-color: #E2EBFA;\n",
       "      box-shadow: 0px 1px 2px rgba(60, 64, 67, 0.3), 0px 1px 3px 1px rgba(60, 64, 67, 0.15);\n",
       "      fill: #174EA6;\n",
       "    }\n",
       "\n",
       "    [theme=dark] .colab-df-convert {\n",
       "      background-color: #3B4455;\n",
       "      fill: #D2E3FC;\n",
       "    }\n",
       "\n",
       "    [theme=dark] .colab-df-convert:hover {\n",
       "      background-color: #434B5C;\n",
       "      box-shadow: 0px 1px 3px 1px rgba(0, 0, 0, 0.15);\n",
       "      filter: drop-shadow(0px 1px 2px rgba(0, 0, 0, 0.3));\n",
       "      fill: #FFFFFF;\n",
       "    }\n",
       "  </style>\n",
       "\n",
       "      <script>\n",
       "        const buttonEl =\n",
       "          document.querySelector('#df-0f682fcb-f39f-450d-a02a-d09c1f389ee9 button.colab-df-convert');\n",
       "        buttonEl.style.display =\n",
       "          google.colab.kernel.accessAllowed ? 'block' : 'none';\n",
       "\n",
       "        async function convertToInteractive(key) {\n",
       "          const element = document.querySelector('#df-0f682fcb-f39f-450d-a02a-d09c1f389ee9');\n",
       "          const dataTable =\n",
       "            await google.colab.kernel.invokeFunction('convertToInteractive',\n",
       "                                                     [key], {});\n",
       "          if (!dataTable) return;\n",
       "\n",
       "          const docLinkHtml = 'Like what you see? Visit the ' +\n",
       "            '<a target=\"_blank\" href=https://colab.research.google.com/notebooks/data_table.ipynb>data table notebook</a>'\n",
       "            + ' to learn more about interactive tables.';\n",
       "          element.innerHTML = '';\n",
       "          dataTable['output_type'] = 'display_data';\n",
       "          await google.colab.output.renderOutput(dataTable, element);\n",
       "          const docLink = document.createElement('div');\n",
       "          docLink.innerHTML = docLinkHtml;\n",
       "          element.appendChild(docLink);\n",
       "        }\n",
       "      </script>\n",
       "    </div>\n",
       "  </div>\n",
       "  "
      ],
      "text/plain": [
       "        Airline Date_of_Journey Source  ... Total_Stops Additional_Info Price\n",
       "9038  Air India       6/05/2019  Delhi  ...         NaN         No info  7480\n",
       "\n",
       "[1 rows x 11 columns]"
      ]
     },
     "execution_count": 140,
     "metadata": {},
     "output_type": "execute_result"
    }
   ],
   "source": [
    "data[data['Route'].isna()]"
   ]
  },
  {
   "cell_type": "markdown",
   "id": "fdaa95bf",
   "metadata": {
    "id": "fdaa95bf"
   },
   "source": [
    "* Those 2 values belong to a single row so we can drop that row"
   ]
  },
  {
   "cell_type": "code",
   "execution_count": 141,
   "id": "08e436c2",
   "metadata": {
    "id": "08e436c2"
   },
   "outputs": [],
   "source": [
    "#drop the nullvalues\n",
    "data.dropna(inplace=True)"
   ]
  },
  {
   "cell_type": "code",
   "execution_count": 142,
   "id": "3b804825",
   "metadata": {
    "colab": {
     "base_uri": "https://localhost:8080/"
    },
    "id": "3b804825",
    "outputId": "183588a7-461b-48d0-aa0d-bf28970b9aec"
   },
   "outputs": [
    {
     "data": {
      "text/plain": [
       "Airline            0\n",
       "Date_of_Journey    0\n",
       "Source             0\n",
       "Destination        0\n",
       "Route              0\n",
       "Dep_Time           0\n",
       "Arrival_Time       0\n",
       "Duration           0\n",
       "Total_Stops        0\n",
       "Additional_Info    0\n",
       "Price              0\n",
       "dtype: int64"
      ]
     },
     "execution_count": 142,
     "metadata": {},
     "output_type": "execute_result"
    }
   ],
   "source": [
    "data.isnull().sum()"
   ]
  },
  {
   "cell_type": "code",
   "execution_count": 143,
   "id": "1f7ee352",
   "metadata": {
    "colab": {
     "base_uri": "https://localhost:8080/"
    },
    "id": "1f7ee352",
    "outputId": "b79113cc-509b-467b-b2a7-e3eef2918c93"
   },
   "outputs": [
    {
     "data": {
      "text/plain": [
       "Airline            object\n",
       "Date_of_Journey    object\n",
       "Source             object\n",
       "Destination        object\n",
       "Route              object\n",
       "Dep_Time           object\n",
       "Arrival_Time       object\n",
       "Duration           object\n",
       "Total_Stops        object\n",
       "Additional_Info    object\n",
       "Price               int64\n",
       "dtype: object"
      ]
     },
     "execution_count": 143,
     "metadata": {},
     "output_type": "execute_result"
    }
   ],
   "source": [
    "#Checking the dtypes of the variables in the data\n",
    "data.dtypes"
   ]
  },
  {
   "cell_type": "markdown",
   "id": "c3369c31",
   "metadata": {
    "id": "c3369c31"
   },
   "source": [
    "* The dtypes of 'Date_of_Journey','Dep_Time',and 'Arrival_Time' is in object, so firstly converting it into datetime dtype "
   ]
  },
  {
   "cell_type": "code",
   "execution_count": 144,
   "id": "f5afaba4",
   "metadata": {
    "id": "f5afaba4"
   },
   "outputs": [],
   "source": [
    "# Creating a function to convert those columns into datetime dtype\n",
    "def To_Datetime(data,column):\n",
    "    data[column] = pd.to_datetime(data[column])\n",
    "    return data[column]"
   ]
  },
  {
   "cell_type": "code",
   "execution_count": 145,
   "id": "86b3650a",
   "metadata": {
    "colab": {
     "base_uri": "https://localhost:8080/"
    },
    "id": "86b3650a",
    "outputId": "7910a9cc-18fe-4b1d-d136-88b8aac7e7e7"
   },
   "outputs": [
    {
     "data": {
      "text/plain": [
       "0       2022-03-22 01:10:00\n",
       "1       2022-01-24 13:15:00\n",
       "2       2022-06-10 04:25:00\n",
       "3       2022-01-24 23:30:00\n",
       "4       2022-01-24 21:35:00\n",
       "                ...        \n",
       "10677   2022-01-24 22:25:00\n",
       "10678   2022-01-24 23:20:00\n",
       "10679   2022-01-24 11:20:00\n",
       "10680   2022-01-24 14:10:00\n",
       "10681   2022-01-24 19:15:00\n",
       "Name: Arrival_Time, Length: 10681, dtype: datetime64[ns]"
      ]
     },
     "execution_count": 145,
     "metadata": {},
     "output_type": "execute_result"
    }
   ],
   "source": [
    "# convert the columns we want into datetime\n",
    "To_Datetime(data,'Date_of_Journey')\n",
    "To_Datetime(data,'Dep_Time')\n",
    "To_Datetime(data,'Arrival_Time')"
   ]
  },
  {
   "cell_type": "markdown",
   "id": "56bc77f2",
   "metadata": {
    "id": "56bc77f2"
   },
   "source": [
    "* We can extract day and month from Date_of_journey and store it in two other columns."
   ]
  },
  {
   "cell_type": "code",
   "execution_count": 146,
   "id": "ca10d927",
   "metadata": {
    "id": "ca10d927"
   },
   "outputs": [],
   "source": [
    "# creating new columns\n",
    "data['Day_of_Journey'] = data['Date_of_Journey'].dt.day\n",
    "data['Month_of_Journey'] = data['Date_of_Journey'].dt.month"
   ]
  },
  {
   "cell_type": "markdown",
   "id": "950f2a7d",
   "metadata": {
    "id": "950f2a7d"
   },
   "source": [
    "* Now using Dep_Time and Arrival_Time we can extract hour and minute from both the variables"
   ]
  },
  {
   "cell_type": "raw",
   "id": "0571d2ea",
   "metadata": {
    "id": "0571d2ea"
   },
   "source": [
    ".dt.hour method will extract only day of that Hour\n",
    "\n",
    ".dt.minute method will extract only month of that Minute"
   ]
  },
  {
   "cell_type": "code",
   "execution_count": 147,
   "id": "c4ae93c7",
   "metadata": {
    "id": "c4ae93c7"
   },
   "outputs": [],
   "source": [
    "data['Dep_hour'] = data['Dep_Time'].dt.hour\n",
    "data['Dep_minute'] = data['Dep_Time'].dt.minute\n",
    "\n",
    "data['Arrival_hour'] = data['Arrival_Time'].dt.hour\n",
    "data['Arrival_minute'] = data['Arrival_Time'].dt.minute"
   ]
  },
  {
   "cell_type": "markdown",
   "id": "36137fe3",
   "metadata": {
    "id": "36137fe3"
   },
   "source": [
    "* After extacting required data from Date_of_Journey, Dep_Time, and Arrival_Time we can drop these variables "
   ]
  },
  {
   "cell_type": "code",
   "execution_count": 148,
   "id": "46dae511",
   "metadata": {
    "id": "46dae511"
   },
   "outputs": [],
   "source": [
    "data.drop(['Date_of_Journey','Dep_Time','Arrival_Time'],axis=1,inplace=True)"
   ]
  },
  {
   "cell_type": "markdown",
   "id": "433479f2",
   "metadata": {
    "id": "433479f2"
   },
   "source": [
    "* Lets Apply pre-processing on duration column,Separate Duration hours and minute from duration"
   ]
  },
  {
   "cell_type": "code",
   "execution_count": 149,
   "id": "35c58789",
   "metadata": {
    "id": "35c58789"
   },
   "outputs": [],
   "source": [
    "duration=list(data['Duration'])\n",
    "for i in range(len(duration)):\n",
    "    if len(duration[i].split(' '))==2:\n",
    "        pass\n",
    "    else:\n",
    "        if 'h' in duration[i]: # Check if duration contains only hour\n",
    "             duration[i]=duration[i] + ' 0m' # Adds 0 minute\n",
    "        else:\n",
    "             duration[i]='0h '+ duration[i]\n",
    "            \n",
    "duration_hours = []\n",
    "duration_mins = []\n",
    "for i in range(len(duration)):\n",
    "    duration_hours.append(int(duration[i].split(sep = \"h\")[0]))    # Extract hours from duration\n",
    "    duration_mins.append(int(duration[i].split(sep = \"m\")[0].split()[-1]))   # Extracts only minutes from duration"
   ]
  },
  {
   "cell_type": "code",
   "execution_count": 150,
   "id": "a6b98aca",
   "metadata": {
    "id": "a6b98aca"
   },
   "outputs": [],
   "source": [
    "# Adding duration_hours and duration_mins list to train_data dataframe\n",
    "\n",
    "data[\"Duration_hours\"] = duration_hours\n",
    "data[\"Duration_mins\"] = duration_mins"
   ]
  },
  {
   "cell_type": "code",
   "execution_count": 151,
   "id": "1f90ae17",
   "metadata": {
    "id": "1f90ae17"
   },
   "outputs": [],
   "source": [
    "#Dropping Duration variable as we have extracted both hours and mins from it\n",
    "data.drop([\"Duration\"], axis = 1, inplace = True)"
   ]
  },
  {
   "cell_type": "code",
   "execution_count": 152,
   "id": "b741e77d",
   "metadata": {
    "colab": {
     "base_uri": "https://localhost:8080/",
     "height": 652
    },
    "id": "b741e77d",
    "outputId": "9e4fc27b-320b-4021-edb9-a2c904ec5c4f"
   },
   "outputs": [
    {
     "data": {
      "text/html": [
       "\n",
       "  <div id=\"df-aa8dc76b-fb4f-45c2-afbd-aba96307c78b\">\n",
       "    <div class=\"colab-df-container\">\n",
       "      <div>\n",
       "<style scoped>\n",
       "    .dataframe tbody tr th:only-of-type {\n",
       "        vertical-align: middle;\n",
       "    }\n",
       "\n",
       "    .dataframe tbody tr th {\n",
       "        vertical-align: top;\n",
       "    }\n",
       "\n",
       "    .dataframe thead th {\n",
       "        text-align: right;\n",
       "    }\n",
       "</style>\n",
       "<table border=\"1\" class=\"dataframe\">\n",
       "  <thead>\n",
       "    <tr style=\"text-align: right;\">\n",
       "      <th></th>\n",
       "      <th>Airline</th>\n",
       "      <th>Source</th>\n",
       "      <th>Destination</th>\n",
       "      <th>Route</th>\n",
       "      <th>Total_Stops</th>\n",
       "      <th>Additional_Info</th>\n",
       "      <th>Price</th>\n",
       "      <th>Day_of_Journey</th>\n",
       "      <th>Month_of_Journey</th>\n",
       "      <th>Dep_hour</th>\n",
       "      <th>Dep_minute</th>\n",
       "      <th>Arrival_hour</th>\n",
       "      <th>Arrival_minute</th>\n",
       "      <th>Duration_hours</th>\n",
       "      <th>Duration_mins</th>\n",
       "    </tr>\n",
       "  </thead>\n",
       "  <tbody>\n",
       "    <tr>\n",
       "      <th>0</th>\n",
       "      <td>IndiGo</td>\n",
       "      <td>Banglore</td>\n",
       "      <td>New Delhi</td>\n",
       "      <td>BLR → DEL</td>\n",
       "      <td>non-stop</td>\n",
       "      <td>No info</td>\n",
       "      <td>3897</td>\n",
       "      <td>24</td>\n",
       "      <td>3</td>\n",
       "      <td>22</td>\n",
       "      <td>20</td>\n",
       "      <td>1</td>\n",
       "      <td>10</td>\n",
       "      <td>2</td>\n",
       "      <td>50</td>\n",
       "    </tr>\n",
       "    <tr>\n",
       "      <th>1</th>\n",
       "      <td>Air India</td>\n",
       "      <td>Kolkata</td>\n",
       "      <td>Banglore</td>\n",
       "      <td>CCU → IXR → BBI → BLR</td>\n",
       "      <td>2 stops</td>\n",
       "      <td>No info</td>\n",
       "      <td>7662</td>\n",
       "      <td>5</td>\n",
       "      <td>1</td>\n",
       "      <td>5</td>\n",
       "      <td>50</td>\n",
       "      <td>13</td>\n",
       "      <td>15</td>\n",
       "      <td>7</td>\n",
       "      <td>25</td>\n",
       "    </tr>\n",
       "    <tr>\n",
       "      <th>2</th>\n",
       "      <td>Jet Airways</td>\n",
       "      <td>Delhi</td>\n",
       "      <td>Cochin</td>\n",
       "      <td>DEL → LKO → BOM → COK</td>\n",
       "      <td>2 stops</td>\n",
       "      <td>No info</td>\n",
       "      <td>13882</td>\n",
       "      <td>6</td>\n",
       "      <td>9</td>\n",
       "      <td>9</td>\n",
       "      <td>25</td>\n",
       "      <td>4</td>\n",
       "      <td>25</td>\n",
       "      <td>19</td>\n",
       "      <td>0</td>\n",
       "    </tr>\n",
       "    <tr>\n",
       "      <th>3</th>\n",
       "      <td>IndiGo</td>\n",
       "      <td>Kolkata</td>\n",
       "      <td>Banglore</td>\n",
       "      <td>CCU → NAG → BLR</td>\n",
       "      <td>1 stop</td>\n",
       "      <td>No info</td>\n",
       "      <td>6218</td>\n",
       "      <td>5</td>\n",
       "      <td>12</td>\n",
       "      <td>18</td>\n",
       "      <td>5</td>\n",
       "      <td>23</td>\n",
       "      <td>30</td>\n",
       "      <td>5</td>\n",
       "      <td>25</td>\n",
       "    </tr>\n",
       "    <tr>\n",
       "      <th>4</th>\n",
       "      <td>IndiGo</td>\n",
       "      <td>Banglore</td>\n",
       "      <td>New Delhi</td>\n",
       "      <td>BLR → NAG → DEL</td>\n",
       "      <td>1 stop</td>\n",
       "      <td>No info</td>\n",
       "      <td>13302</td>\n",
       "      <td>3</td>\n",
       "      <td>1</td>\n",
       "      <td>16</td>\n",
       "      <td>50</td>\n",
       "      <td>21</td>\n",
       "      <td>35</td>\n",
       "      <td>4</td>\n",
       "      <td>45</td>\n",
       "    </tr>\n",
       "  </tbody>\n",
       "</table>\n",
       "</div>\n",
       "      <button class=\"colab-df-convert\" onclick=\"convertToInteractive('df-aa8dc76b-fb4f-45c2-afbd-aba96307c78b')\"\n",
       "              title=\"Convert this dataframe to an interactive table.\"\n",
       "              style=\"display:none;\">\n",
       "        \n",
       "  <svg xmlns=\"http://www.w3.org/2000/svg\" height=\"24px\"viewBox=\"0 0 24 24\"\n",
       "       width=\"24px\">\n",
       "    <path d=\"M0 0h24v24H0V0z\" fill=\"none\"/>\n",
       "    <path d=\"M18.56 5.44l.94 2.06.94-2.06 2.06-.94-2.06-.94-.94-2.06-.94 2.06-2.06.94zm-11 1L8.5 8.5l.94-2.06 2.06-.94-2.06-.94L8.5 2.5l-.94 2.06-2.06.94zm10 10l.94 2.06.94-2.06 2.06-.94-2.06-.94-.94-2.06-.94 2.06-2.06.94z\"/><path d=\"M17.41 7.96l-1.37-1.37c-.4-.4-.92-.59-1.43-.59-.52 0-1.04.2-1.43.59L10.3 9.45l-7.72 7.72c-.78.78-.78 2.05 0 2.83L4 21.41c.39.39.9.59 1.41.59.51 0 1.02-.2 1.41-.59l7.78-7.78 2.81-2.81c.8-.78.8-2.07 0-2.86zM5.41 20L4 18.59l7.72-7.72 1.47 1.35L5.41 20z\"/>\n",
       "  </svg>\n",
       "      </button>\n",
       "      \n",
       "  <style>\n",
       "    .colab-df-container {\n",
       "      display:flex;\n",
       "      flex-wrap:wrap;\n",
       "      gap: 12px;\n",
       "    }\n",
       "\n",
       "    .colab-df-convert {\n",
       "      background-color: #E8F0FE;\n",
       "      border: none;\n",
       "      border-radius: 50%;\n",
       "      cursor: pointer;\n",
       "      display: none;\n",
       "      fill: #1967D2;\n",
       "      height: 32px;\n",
       "      padding: 0 0 0 0;\n",
       "      width: 32px;\n",
       "    }\n",
       "\n",
       "    .colab-df-convert:hover {\n",
       "      background-color: #E2EBFA;\n",
       "      box-shadow: 0px 1px 2px rgba(60, 64, 67, 0.3), 0px 1px 3px 1px rgba(60, 64, 67, 0.15);\n",
       "      fill: #174EA6;\n",
       "    }\n",
       "\n",
       "    [theme=dark] .colab-df-convert {\n",
       "      background-color: #3B4455;\n",
       "      fill: #D2E3FC;\n",
       "    }\n",
       "\n",
       "    [theme=dark] .colab-df-convert:hover {\n",
       "      background-color: #434B5C;\n",
       "      box-shadow: 0px 1px 3px 1px rgba(0, 0, 0, 0.15);\n",
       "      filter: drop-shadow(0px 1px 2px rgba(0, 0, 0, 0.3));\n",
       "      fill: #FFFFFF;\n",
       "    }\n",
       "  </style>\n",
       "\n",
       "      <script>\n",
       "        const buttonEl =\n",
       "          document.querySelector('#df-aa8dc76b-fb4f-45c2-afbd-aba96307c78b button.colab-df-convert');\n",
       "        buttonEl.style.display =\n",
       "          google.colab.kernel.accessAllowed ? 'block' : 'none';\n",
       "\n",
       "        async function convertToInteractive(key) {\n",
       "          const element = document.querySelector('#df-aa8dc76b-fb4f-45c2-afbd-aba96307c78b');\n",
       "          const dataTable =\n",
       "            await google.colab.kernel.invokeFunction('convertToInteractive',\n",
       "                                                     [key], {});\n",
       "          if (!dataTable) return;\n",
       "\n",
       "          const docLinkHtml = 'Like what you see? Visit the ' +\n",
       "            '<a target=\"_blank\" href=https://colab.research.google.com/notebooks/data_table.ipynb>data table notebook</a>'\n",
       "            + ' to learn more about interactive tables.';\n",
       "          element.innerHTML = '';\n",
       "          dataTable['output_type'] = 'display_data';\n",
       "          await google.colab.output.renderOutput(dataTable, element);\n",
       "          const docLink = document.createElement('div');\n",
       "          docLink.innerHTML = docLinkHtml;\n",
       "          element.appendChild(docLink);\n",
       "        }\n",
       "      </script>\n",
       "    </div>\n",
       "  </div>\n",
       "  "
      ],
      "text/plain": [
       "       Airline    Source  ... Duration_hours Duration_mins\n",
       "0       IndiGo  Banglore  ...              2            50\n",
       "1    Air India   Kolkata  ...              7            25\n",
       "2  Jet Airways     Delhi  ...             19             0\n",
       "3       IndiGo   Kolkata  ...              5            25\n",
       "4       IndiGo  Banglore  ...              4            45\n",
       "\n",
       "[5 rows x 15 columns]"
      ]
     },
     "execution_count": 152,
     "metadata": {},
     "output_type": "execute_result"
    }
   ],
   "source": [
    "data.head()"
   ]
  },
  {
   "cell_type": "code",
   "execution_count": 153,
   "id": "6b13910f",
   "metadata": {
    "colab": {
     "base_uri": "https://localhost:8080/"
    },
    "id": "6b13910f",
    "outputId": "0e22554e-c792-433d-cb5d-c66e3c6236c6"
   },
   "outputs": [
    {
     "data": {
      "text/plain": [
       "Airline             object\n",
       "Source              object\n",
       "Destination         object\n",
       "Route               object\n",
       "Total_Stops         object\n",
       "Additional_Info     object\n",
       "Price                int64\n",
       "Day_of_Journey       int64\n",
       "Month_of_Journey     int64\n",
       "Dep_hour             int64\n",
       "Dep_minute           int64\n",
       "Arrival_hour         int64\n",
       "Arrival_minute       int64\n",
       "Duration_hours       int64\n",
       "Duration_mins        int64\n",
       "dtype: object"
      ]
     },
     "execution_count": 153,
     "metadata": {},
     "output_type": "execute_result"
    }
   ],
   "source": [
    "data.dtypes"
   ]
  },
  {
   "cell_type": "markdown",
   "id": "d666a43f",
   "metadata": {
    "id": "d666a43f"
   },
   "source": [
    "### Exploratory Data Analysis"
   ]
  },
  {
   "cell_type": "markdown",
   "id": "f7j_-2-GNL_Q",
   "metadata": {
    "id": "f7j_-2-GNL_Q"
   },
   "source": [
    "#### Univariate Analysis"
   ]
  },
  {
   "cell_type": "code",
   "execution_count": 154,
   "id": "WzR5TWMqPifn",
   "metadata": {
    "id": "WzR5TWMqPifn"
   },
   "outputs": [],
   "source": [
    "# function to create labeled barplots\n",
    "\n",
    "\n",
    "def labeled_barplot(data, feature, perc=False, n=None):\n",
    "    \"\"\"\n",
    "    Barplot with percentage at the top\n",
    "\n",
    "    data: dataframe\n",
    "    feature: dataframe column\n",
    "    perc: whether to display percentages instead of count (default is False)\n",
    "    n: displays the top n category levels (default is None, i.e., display all levels)\n",
    "    \"\"\"\n",
    "\n",
    "    total = len(data[feature])  # length of the column\n",
    "    count = data[feature].nunique()\n",
    "    if n is None:\n",
    "        plt.figure(figsize=(count + 1, 5))\n",
    "    else:\n",
    "        plt.figure(figsize=(n + 1, 5))\n",
    "\n",
    "    plt.xticks(rotation=90, fontsize=15)\n",
    "    ax = sns.countplot(\n",
    "        data=data,\n",
    "        x=feature,\n",
    "        palette=\"Paired\",\n",
    "        order=data[feature].value_counts().index[:n].sort_values(),\n",
    "    )\n",
    "\n",
    "    for p in ax.patches:\n",
    "        if perc == True:\n",
    "            label = \"{:.1f}%\".format(\n",
    "                100 * p.get_height() / total\n",
    "            )  # percentage of each class of the category\n",
    "        else:\n",
    "            label = p.get_height()  # count of each level of the category\n",
    "\n",
    "        x = p.get_x() + p.get_width() / 2  # width of the plot\n",
    "        y = p.get_height()  # height of the plot\n",
    "\n",
    "        ax.annotate(\n",
    "            label,\n",
    "            (x, y),\n",
    "            ha=\"center\",\n",
    "            va=\"center\",\n",
    "            size=12,\n",
    "            xytext=(0, 5),\n",
    "            textcoords=\"offset points\",\n",
    "        )  # annotate the percentage\n",
    "\n",
    "    plt.show()  # show the plot"
   ]
  },
  {
   "cell_type": "markdown",
   "id": "yg2wea5IP1gN",
   "metadata": {
    "id": "yg2wea5IP1gN"
   },
   "source": [
    "### `Airline`"
   ]
  },
  {
   "cell_type": "code",
   "execution_count": 155,
   "id": "g4bEXLHWPkGg",
   "metadata": {
    "colab": {
     "base_uri": "https://localhost:8080/",
     "height": 598
    },
    "id": "g4bEXLHWPkGg",
    "outputId": "c8349f97-956a-436e-da26-cb2bb1967643"
   },
   "outputs": [
    {
     "data": {
      "image/png": "[encoded data removed]",
      "text/plain": [
       "<Figure size 864x360 with 1 Axes>"
      ]
     },
     "metadata": {},
     "output_type": "display_data"
    }
   ],
   "source": [
    "labeled_barplot(data, \"Airline\", perc=True)"
   ]
  },
  {
   "cell_type": "markdown",
   "id": "209854f9",
   "metadata": {
    "id": "209854f9"
   },
   "source": [
    "* From the above bar plot we can see most of them have opted Jet Airways as their Airline for transportation"
   ]
  },
  {
   "cell_type": "markdown",
   "id": "7CXyzR5kQc-N",
   "metadata": {
    "id": "7CXyzR5kQc-N"
   },
   "source": [
    "### `Total Stops`"
   ]
  },
  {
   "cell_type": "code",
   "execution_count": 158,
   "id": "J7s7hUc0QDMs",
   "metadata": {
    "colab": {
     "base_uri": "https://localhost:8080/",
     "height": 396
    },
    "id": "J7s7hUc0QDMs",
    "outputId": "23df72c6-c117-4509-a1e8-5690aec2e351"
   },
   "outputs": [
    {
     "data": {
      "image/png": "[encoded data removed]",
      "text/plain": [
       "<Figure size 432x360 with 1 Axes>"
      ]
     },
     "metadata": {},
     "output_type": "display_data"
    }
   ],
   "source": [
    "labeled_barplot(data, \"Total_Stops\", perc=True)"
   ]
  },
  {
   "cell_type": "markdown",
   "id": "48883b8a",
   "metadata": {
    "id": "48883b8a"
   },
   "source": [
    "* Most of the airlines runs with maximum of single stop during the journey  "
   ]
  },
  {
   "cell_type": "markdown",
   "id": "09YwuDoXQuYZ",
   "metadata": {
    "id": "09YwuDoXQuYZ"
   },
   "source": [
    "### `Source`"
   ]
  },
  {
   "cell_type": "code",
   "execution_count": 159,
   "id": "u5NCnUayQm4v",
   "metadata": {
    "colab": {
     "base_uri": "https://localhost:8080/",
     "height": 397
    },
    "id": "u5NCnUayQm4v",
    "outputId": "ab9e7da4-7836-4148-eb52-d3027d4462cd"
   },
   "outputs": [
    {
     "data": {
      "image/png": "[encoded data removed]",
      "text/plain": [
       "<Figure size 432x360 with 1 Axes>"
      ]
     },
     "metadata": {},
     "output_type": "display_data"
    }
   ],
   "source": [
    "labeled_barplot(data, \"Source\", perc=True)"
   ]
  },
  {
   "cell_type": "markdown",
   "id": "ce09cd90",
   "metadata": {
    "id": "ce09cd90"
   },
   "source": [
    "* Most of flights are departing from the capital city of India(Delhi) "
   ]
  },
  {
   "cell_type": "markdown",
   "id": "I9JbDIVPRBjo",
   "metadata": {
    "id": "I9JbDIVPRBjo"
   },
   "source": [
    "### `Destination`"
   ]
  },
  {
   "cell_type": "code",
   "execution_count": 160,
   "id": "y7ATHLN-Q01G",
   "metadata": {
    "colab": {
     "base_uri": "https://localhost:8080/",
     "height": 412
    },
    "id": "y7ATHLN-Q01G",
    "outputId": "a9f6274d-9606-4fdb-fc59-eb6060a79c24"
   },
   "outputs": [
    {
     "data": {
      "image/png": "[encoded data removed]",
      "text/plain": [
       "<Figure size 504x360 with 1 Axes>"
      ]
     },
     "metadata": {},
     "output_type": "display_data"
    }
   ],
   "source": [
    "labeled_barplot(data, \"Destination\", perc=True)"
   ]
  },
  {
   "cell_type": "code",
   "execution_count": 161,
   "id": "d22db2b0",
   "metadata": {
    "id": "d22db2b0"
   },
   "outputs": [],
   "source": [
    "#New Delhi and Delhi can be the same so we will merge them\n",
    "data['Destination'].replace('New Delhi','Delhi',inplace=True)"
   ]
  },
  {
   "cell_type": "code",
   "execution_count": 162,
   "id": "cW6IU_x2Q7Z9",
   "metadata": {
    "colab": {
     "base_uri": "https://localhost:8080/",
     "height": 412
    },
    "id": "cW6IU_x2Q7Z9",
    "outputId": "b674bf90-5ebd-46fd-c910-6e8cdc0fbe7b"
   },
   "outputs": [
    {
     "data": {
      "image/png": "[encoded data removed]",
      "text/plain": [
       "<Figure size 432x360 with 1 Axes>"
      ]
     },
     "metadata": {},
     "output_type": "display_data"
    }
   ],
   "source": [
    "labeled_barplot(data, \"Destination\", perc=True)"
   ]
  },
  {
   "cell_type": "markdown",
   "id": "edcd2a59",
   "metadata": {
    "id": "edcd2a59"
   },
   "source": [
    "* From the above plot we can observe most of the filghts are going to Cochin "
   ]
  },
  {
   "cell_type": "markdown",
   "id": "ilK_4PToRQXT",
   "metadata": {
    "id": "ilK_4PToRQXT"
   },
   "source": [
    "### `Additional_Info`"
   ]
  },
  {
   "cell_type": "code",
   "execution_count": 163,
   "id": "5h9pWbnzRHdL",
   "metadata": {
    "colab": {
     "base_uri": "https://localhost:8080/",
     "height": 558
    },
    "id": "5h9pWbnzRHdL",
    "outputId": "0983bea0-e5fd-45c6-c17f-7edf720d6511"
   },
   "outputs": [
    {
     "data": {
      "image/png": "[encoded data removed]",
      "text/plain": [
       "<Figure size 792x360 with 1 Axes>"
      ]
     },
     "metadata": {},
     "output_type": "display_data"
    }
   ],
   "source": [
    "labeled_barplot(data, \"Additional_Info\", perc=True)"
   ]
  },
  {
   "cell_type": "markdown",
   "id": "200be88b",
   "metadata": {
    "id": "200be88b"
   },
   "source": [
    "* As most of the Additional_Info (80%) variable contains No_info so we can drop this from the data"
   ]
  },
  {
   "cell_type": "code",
   "execution_count": 38,
   "id": "cf49da55",
   "metadata": {
    "colab": {
     "base_uri": "https://localhost:8080/"
    },
    "id": "cf49da55",
    "outputId": "5476c267-8b40-4681-e8a1-b2e32675ea87"
   },
   "outputs": [
    {
     "data": {
      "text/plain": [
       "DEL → BOM → COK                      2376\n",
       "BLR → DEL                            1552\n",
       "CCU → BOM → BLR                       979\n",
       "CCU → BLR                             724\n",
       "BOM → HYD                             621\n",
       "                                     ... \n",
       "BOM → BLR → CCU → BBI → HYD             1\n",
       "BOM → CCU → HYD                         1\n",
       "BLR → HBX → BOM → BHO → DEL             1\n",
       "CCU → RPR → HYD → BLR                   1\n",
       "BLR → CCU → BBI → HYD → VGA → DEL       1\n",
       "Name: Route, Length: 127, dtype: int64"
      ]
     },
     "execution_count": 38,
     "metadata": {},
     "output_type": "execute_result"
    }
   ],
   "source": [
    "data['Route'].value_counts()"
   ]
  },
  {
   "cell_type": "markdown",
   "id": "a8e0e445",
   "metadata": {
    "id": "a8e0e445"
   },
   "source": [
    "* Route and Total_Stops are related to each other so we can drop Route variable"
   ]
  },
  {
   "cell_type": "code",
   "execution_count": 39,
   "id": "b28a89d9",
   "metadata": {
    "id": "b28a89d9"
   },
   "outputs": [],
   "source": [
    "data.drop([\"Route\", \"Additional_Info\"], axis = 1, inplace = True)"
   ]
  },
  {
   "cell_type": "code",
   "execution_count": 40,
   "id": "0e9e9487",
   "metadata": {
    "colab": {
     "base_uri": "https://localhost:8080/",
     "height": 287
    },
    "id": "0e9e9487",
    "outputId": "32bca456-4ef3-4006-a35c-6035117df0b1"
   },
   "outputs": [
    {
     "data": {
      "text/html": [
       "\n",
       "  <div id=\"df-ed543059-100b-4880-935a-46e9897cc3bf\">\n",
       "    <div class=\"colab-df-container\">\n",
       "      <div>\n",
       "<style scoped>\n",
       "    .dataframe tbody tr th:only-of-type {\n",
       "        vertical-align: middle;\n",
       "    }\n",
       "\n",
       "    .dataframe tbody tr th {\n",
       "        vertical-align: top;\n",
       "    }\n",
       "\n",
       "    .dataframe thead th {\n",
       "        text-align: right;\n",
       "    }\n",
       "</style>\n",
       "<table border=\"1\" class=\"dataframe\">\n",
       "  <thead>\n",
       "    <tr style=\"text-align: right;\">\n",
       "      <th></th>\n",
       "      <th>Airline</th>\n",
       "      <th>Source</th>\n",
       "      <th>Destination</th>\n",
       "      <th>Total_Stops</th>\n",
       "      <th>Price</th>\n",
       "      <th>Day_of_Journey</th>\n",
       "      <th>Month_of_Journey</th>\n",
       "      <th>Dep_hour</th>\n",
       "      <th>Dep_minute</th>\n",
       "      <th>Arrival_hour</th>\n",
       "      <th>Arrival_minute</th>\n",
       "      <th>Duration_hours</th>\n",
       "      <th>Duration_mins</th>\n",
       "    </tr>\n",
       "  </thead>\n",
       "  <tbody>\n",
       "    <tr>\n",
       "      <th>0</th>\n",
       "      <td>IndiGo</td>\n",
       "      <td>Banglore</td>\n",
       "      <td>Delhi</td>\n",
       "      <td>non-stop</td>\n",
       "      <td>3897</td>\n",
       "      <td>24</td>\n",
       "      <td>3</td>\n",
       "      <td>22</td>\n",
       "      <td>20</td>\n",
       "      <td>1</td>\n",
       "      <td>10</td>\n",
       "      <td>2</td>\n",
       "      <td>50</td>\n",
       "    </tr>\n",
       "    <tr>\n",
       "      <th>1</th>\n",
       "      <td>Air India</td>\n",
       "      <td>Kolkata</td>\n",
       "      <td>Banglore</td>\n",
       "      <td>2 stops</td>\n",
       "      <td>7662</td>\n",
       "      <td>5</td>\n",
       "      <td>1</td>\n",
       "      <td>5</td>\n",
       "      <td>50</td>\n",
       "      <td>13</td>\n",
       "      <td>15</td>\n",
       "      <td>7</td>\n",
       "      <td>25</td>\n",
       "    </tr>\n",
       "    <tr>\n",
       "      <th>2</th>\n",
       "      <td>Jet Airways</td>\n",
       "      <td>Delhi</td>\n",
       "      <td>Cochin</td>\n",
       "      <td>2 stops</td>\n",
       "      <td>13882</td>\n",
       "      <td>6</td>\n",
       "      <td>9</td>\n",
       "      <td>9</td>\n",
       "      <td>25</td>\n",
       "      <td>4</td>\n",
       "      <td>25</td>\n",
       "      <td>19</td>\n",
       "      <td>0</td>\n",
       "    </tr>\n",
       "    <tr>\n",
       "      <th>3</th>\n",
       "      <td>IndiGo</td>\n",
       "      <td>Kolkata</td>\n",
       "      <td>Banglore</td>\n",
       "      <td>1 stop</td>\n",
       "      <td>6218</td>\n",
       "      <td>5</td>\n",
       "      <td>12</td>\n",
       "      <td>18</td>\n",
       "      <td>5</td>\n",
       "      <td>23</td>\n",
       "      <td>30</td>\n",
       "      <td>5</td>\n",
       "      <td>25</td>\n",
       "    </tr>\n",
       "    <tr>\n",
       "      <th>4</th>\n",
       "      <td>IndiGo</td>\n",
       "      <td>Banglore</td>\n",
       "      <td>Delhi</td>\n",
       "      <td>1 stop</td>\n",
       "      <td>13302</td>\n",
       "      <td>3</td>\n",
       "      <td>1</td>\n",
       "      <td>16</td>\n",
       "      <td>50</td>\n",
       "      <td>21</td>\n",
       "      <td>35</td>\n",
       "      <td>4</td>\n",
       "      <td>45</td>\n",
       "    </tr>\n",
       "  </tbody>\n",
       "</table>\n",
       "</div>\n",
       "      <button class=\"colab-df-convert\" onclick=\"convertToInteractive('df-ed543059-100b-4880-935a-46e9897cc3bf')\"\n",
       "              title=\"Convert this dataframe to an interactive table.\"\n",
       "              style=\"display:none;\">\n",
       "        \n",
       "  <svg xmlns=\"http://www.w3.org/2000/svg\" height=\"24px\"viewBox=\"0 0 24 24\"\n",
       "       width=\"24px\">\n",
       "    <path d=\"M0 0h24v24H0V0z\" fill=\"none\"/>\n",
       "    <path d=\"M18.56 5.44l.94 2.06.94-2.06 2.06-.94-2.06-.94-.94-2.06-.94 2.06-2.06.94zm-11 1L8.5 8.5l.94-2.06 2.06-.94-2.06-.94L8.5 2.5l-.94 2.06-2.06.94zm10 10l.94 2.06.94-2.06 2.06-.94-2.06-.94-.94-2.06-.94 2.06-2.06.94z\"/><path d=\"M17.41 7.96l-1.37-1.37c-.4-.4-.92-.59-1.43-.59-.52 0-1.04.2-1.43.59L10.3 9.45l-7.72 7.72c-.78.78-.78 2.05 0 2.83L4 21.41c.39.39.9.59 1.41.59.51 0 1.02-.2 1.41-.59l7.78-7.78 2.81-2.81c.8-.78.8-2.07 0-2.86zM5.41 20L4 18.59l7.72-7.72 1.47 1.35L5.41 20z\"/>\n",
       "  </svg>\n",
       "      </button>\n",
       "      \n",
       "  <style>\n",
       "    .colab-df-container {\n",
       "      display:flex;\n",
       "      flex-wrap:wrap;\n",
       "      gap: 12px;\n",
       "    }\n",
       "\n",
       "    .colab-df-convert {\n",
       "      background-color: #E8F0FE;\n",
       "      border: none;\n",
       "      border-radius: 50%;\n",
       "      cursor: pointer;\n",
       "      display: none;\n",
       "      fill: #1967D2;\n",
       "      height: 32px;\n",
       "      padding: 0 0 0 0;\n",
       "      width: 32px;\n",
       "    }\n",
       "\n",
       "    .colab-df-convert:hover {\n",
       "      background-color: #E2EBFA;\n",
       "      box-shadow: 0px 1px 2px rgba(60, 64, 67, 0.3), 0px 1px 3px 1px rgba(60, 64, 67, 0.15);\n",
       "      fill: #174EA6;\n",
       "    }\n",
       "\n",
       "    [theme=dark] .colab-df-convert {\n",
       "      background-color: #3B4455;\n",
       "      fill: #D2E3FC;\n",
       "    }\n",
       "\n",
       "    [theme=dark] .colab-df-convert:hover {\n",
       "      background-color: #434B5C;\n",
       "      box-shadow: 0px 1px 3px 1px rgba(0, 0, 0, 0.15);\n",
       "      filter: drop-shadow(0px 1px 2px rgba(0, 0, 0, 0.3));\n",
       "      fill: #FFFFFF;\n",
       "    }\n",
       "  </style>\n",
       "\n",
       "      <script>\n",
       "        const buttonEl =\n",
       "          document.querySelector('#df-ed543059-100b-4880-935a-46e9897cc3bf button.colab-df-convert');\n",
       "        buttonEl.style.display =\n",
       "          google.colab.kernel.accessAllowed ? 'block' : 'none';\n",
       "\n",
       "        async function convertToInteractive(key) {\n",
       "          const element = document.querySelector('#df-ed543059-100b-4880-935a-46e9897cc3bf');\n",
       "          const dataTable =\n",
       "            await google.colab.kernel.invokeFunction('convertToInteractive',\n",
       "                                                     [key], {});\n",
       "          if (!dataTable) return;\n",
       "\n",
       "          const docLinkHtml = 'Like what you see? Visit the ' +\n",
       "            '<a target=\"_blank\" href=https://colab.research.google.com/notebooks/data_table.ipynb>data table notebook</a>'\n",
       "            + ' to learn more about interactive tables.';\n",
       "          element.innerHTML = '';\n",
       "          dataTable['output_type'] = 'display_data';\n",
       "          await google.colab.output.renderOutput(dataTable, element);\n",
       "          const docLink = document.createElement('div');\n",
       "          docLink.innerHTML = docLinkHtml;\n",
       "          element.appendChild(docLink);\n",
       "        }\n",
       "      </script>\n",
       "    </div>\n",
       "  </div>\n",
       "  "
      ],
      "text/plain": [
       "       Airline    Source  ... Duration_hours Duration_mins\n",
       "0       IndiGo  Banglore  ...              2            50\n",
       "1    Air India   Kolkata  ...              7            25\n",
       "2  Jet Airways     Delhi  ...             19             0\n",
       "3       IndiGo   Kolkata  ...              5            25\n",
       "4       IndiGo  Banglore  ...              4            45\n",
       "\n",
       "[5 rows x 13 columns]"
      ]
     },
     "execution_count": 40,
     "metadata": {},
     "output_type": "execute_result"
    }
   ],
   "source": [
    "data.head()"
   ]
  },
  {
   "cell_type": "code",
   "execution_count": 41,
   "id": "f17da8f2",
   "metadata": {
    "id": "f17da8f2"
   },
   "outputs": [],
   "source": [
    "# As this is case of Ordinal Categorical type we perform LabelEncoder\n",
    "# Here Values are assigned with corresponding keys\n",
    "\n",
    "data.replace({\"non-stop\": 0, \"1 stop\": 1, \"2 stops\": 2, \"3 stops\": 3, \"4 stops\": 4}, inplace = True)"
   ]
  },
  {
   "cell_type": "markdown",
   "id": "YC9WbMHfRsEM",
   "metadata": {
    "id": "YC9WbMHfRsEM"
   },
   "source": [
    "### Bivariate analysis"
   ]
  },
  {
   "cell_type": "code",
   "execution_count": 165,
   "id": "QD2S3V_eR5dL",
   "metadata": {
    "colab": {
     "base_uri": "https://localhost:8080/",
     "height": 523
    },
    "id": "QD2S3V_eR5dL",
    "outputId": "12b170cc-9207-4de3-917b-2165cc845cfc"
   },
   "outputs": [
    {
     "data": {
      "image/png": "[encoded data removed]",
      "text/plain": [
       "<Figure size 1080x504 with 2 Axes>"
      ]
     },
     "metadata": {},
     "output_type": "display_data"
    }
   ],
   "source": [
    "plt.figure(figsize=(15, 7))\n",
    "sns.heatmap(\n",
    "    data.corr(), annot=True, vmin=-1, vmax=1, fmt=\".2f\", cmap=\"Spectral\"\n",
    ")\n",
    "plt.show()"
   ]
  },
  {
   "cell_type": "markdown",
   "id": "HZb0LvkpSds-",
   "metadata": {
    "id": "HZb0LvkpSds-"
   },
   "source": [
    "* Day of Journey is highly correlated to target column"
   ]
  },
  {
   "cell_type": "markdown",
   "id": "ZFvG9lDBSxqj",
   "metadata": {
    "id": "ZFvG9lDBSxqj"
   },
   "source": [
    "### `Airline` vs `Price`"
   ]
  },
  {
   "cell_type": "code",
   "execution_count": 174,
   "id": "xTWo7EgWTv78",
   "metadata": {
    "colab": {
     "base_uri": "https://localhost:8080/",
     "height": 502
    },
    "id": "xTWo7EgWTv78",
    "outputId": "9d03c0db-c5b7-4cee-e376-92ef6ecc3f2d"
   },
   "outputs": [
    {
     "data": {
      "image/png": "[encoded data removed]",
      "text/plain": [
       "<Figure size 1080x576 with 1 Axes>"
      ]
     },
     "metadata": {},
     "output_type": "display_data"
    }
   ],
   "source": [
    "plt.figure(figsize=(15,8))\n",
    "a=sns.boxplot(x='Price',y='Airline',data=data.sort_values('Price',ascending=False),orient=\"h\")"
   ]
  },
  {
   "cell_type": "markdown",
   "id": "WKallSZCjUg7",
   "metadata": {
    "id": "WKallSZCjUg7"
   },
   "source": [
    "- Jet Airways Business is charging high price when comparing with other Airlines \n",
    "- Apart from the Jet Airways Business Airline almost all are having similar median."
   ]
  },
  {
   "cell_type": "code",
   "execution_count": null,
   "id": "qRN2PAs0jYzt",
   "metadata": {
    "colab": {
     "base_uri": "https://localhost:8080/",
     "height": 787
    },
    "id": "qRN2PAs0jYzt",
    "outputId": "55e96f7e-f3cb-4a63-909e-230d7a4b5a2b"
   },
   "outputs": [
    {
     "data": {
      "text/html": [
       "\n",
       "  <div id=\"df-3d758ab9-fa2c-4635-bc33-33e7c086acbd\">\n",
       "    <div class=\"colab-df-container\">\n",
       "      <div>\n",
       "<style scoped>\n",
       "    .dataframe tbody tr th:only-of-type {\n",
       "        vertical-align: middle;\n",
       "    }\n",
       "\n",
       "    .dataframe tbody tr th {\n",
       "        vertical-align: top;\n",
       "    }\n",
       "\n",
       "    .dataframe thead th {\n",
       "        text-align: right;\n",
       "    }\n",
       "</style>\n",
       "<table border=\"1\" class=\"dataframe\">\n",
       "  <thead>\n",
       "    <tr style=\"text-align: right;\">\n",
       "      <th></th>\n",
       "      <th>Airline</th>\n",
       "      <th>Source</th>\n",
       "      <th>Destination</th>\n",
       "      <th>Route</th>\n",
       "      <th>Total_Stops</th>\n",
       "      <th>Additional_Info</th>\n",
       "      <th>Price</th>\n",
       "      <th>Day_of_Journey</th>\n",
       "      <th>Month_of_Journey</th>\n",
       "      <th>Dep_hour</th>\n",
       "      <th>Dep_minute</th>\n",
       "      <th>Arrival_hour</th>\n",
       "      <th>Arrival_minute</th>\n",
       "      <th>Duration_hours</th>\n",
       "      <th>Duration_mins</th>\n",
       "    </tr>\n",
       "  </thead>\n",
       "  <tbody>\n",
       "    <tr>\n",
       "      <th>657</th>\n",
       "      <td>Jet Airways Business</td>\n",
       "      <td>Banglore</td>\n",
       "      <td>New Delhi</td>\n",
       "      <td>BLR → BOM → DEL</td>\n",
       "      <td>1 stop</td>\n",
       "      <td>No info</td>\n",
       "      <td>52229</td>\n",
       "      <td>3</td>\n",
       "      <td>1</td>\n",
       "      <td>5</td>\n",
       "      <td>45</td>\n",
       "      <td>10</td>\n",
       "      <td>45</td>\n",
       "      <td>5</td>\n",
       "      <td>0</td>\n",
       "    </tr>\n",
       "    <tr>\n",
       "      <th>2923</th>\n",
       "      <td>Jet Airways Business</td>\n",
       "      <td>Banglore</td>\n",
       "      <td>New Delhi</td>\n",
       "      <td>BLR → BOM → DEL</td>\n",
       "      <td>1 stop</td>\n",
       "      <td>Business class</td>\n",
       "      <td>79512</td>\n",
       "      <td>3</td>\n",
       "      <td>1</td>\n",
       "      <td>5</td>\n",
       "      <td>45</td>\n",
       "      <td>11</td>\n",
       "      <td>25</td>\n",
       "      <td>5</td>\n",
       "      <td>40</td>\n",
       "    </tr>\n",
       "    <tr>\n",
       "      <th>5371</th>\n",
       "      <td>Jet Airways Business</td>\n",
       "      <td>Banglore</td>\n",
       "      <td>New Delhi</td>\n",
       "      <td>BLR → BOM → DEL</td>\n",
       "      <td>1 stop</td>\n",
       "      <td>Business class</td>\n",
       "      <td>62427</td>\n",
       "      <td>3</td>\n",
       "      <td>1</td>\n",
       "      <td>5</td>\n",
       "      <td>45</td>\n",
       "      <td>12</td>\n",
       "      <td>25</td>\n",
       "      <td>6</td>\n",
       "      <td>40</td>\n",
       "    </tr>\n",
       "    <tr>\n",
       "      <th>7350</th>\n",
       "      <td>Jet Airways Business</td>\n",
       "      <td>Delhi</td>\n",
       "      <td>Cochin</td>\n",
       "      <td>DEL → ATQ → BOM → COK</td>\n",
       "      <td>2 stops</td>\n",
       "      <td>No info</td>\n",
       "      <td>46490</td>\n",
       "      <td>3</td>\n",
       "      <td>3</td>\n",
       "      <td>20</td>\n",
       "      <td>5</td>\n",
       "      <td>4</td>\n",
       "      <td>25</td>\n",
       "      <td>8</td>\n",
       "      <td>20</td>\n",
       "    </tr>\n",
       "    <tr>\n",
       "      <th>9714</th>\n",
       "      <td>Jet Airways Business</td>\n",
       "      <td>Delhi</td>\n",
       "      <td>Cochin</td>\n",
       "      <td>DEL → ATQ → BOM → COK</td>\n",
       "      <td>2 stops</td>\n",
       "      <td>No info</td>\n",
       "      <td>52285</td>\n",
       "      <td>3</td>\n",
       "      <td>6</td>\n",
       "      <td>20</td>\n",
       "      <td>5</td>\n",
       "      <td>4</td>\n",
       "      <td>25</td>\n",
       "      <td>8</td>\n",
       "      <td>20</td>\n",
       "    </tr>\n",
       "    <tr>\n",
       "      <th>10363</th>\n",
       "      <td>Jet Airways Business</td>\n",
       "      <td>Banglore</td>\n",
       "      <td>New Delhi</td>\n",
       "      <td>BLR → MAA → DEL</td>\n",
       "      <td>1 stop</td>\n",
       "      <td>Business class</td>\n",
       "      <td>57209</td>\n",
       "      <td>3</td>\n",
       "      <td>1</td>\n",
       "      <td>9</td>\n",
       "      <td>45</td>\n",
       "      <td>14</td>\n",
       "      <td>25</td>\n",
       "      <td>4</td>\n",
       "      <td>40</td>\n",
       "    </tr>\n",
       "  </tbody>\n",
       "</table>\n",
       "</div>\n",
       "      <button class=\"colab-df-convert\" onclick=\"convertToInteractive('df-3d758ab9-fa2c-4635-bc33-33e7c086acbd')\"\n",
       "              title=\"Convert this dataframe to an interactive table.\"\n",
       "              style=\"display:none;\">\n",
       "        \n",
       "  <svg xmlns=\"http://www.w3.org/2000/svg\" height=\"24px\"viewBox=\"0 0 24 24\"\n",
       "       width=\"24px\">\n",
       "    <path d=\"M0 0h24v24H0V0z\" fill=\"none\"/>\n",
       "    <path d=\"M18.56 5.44l.94 2.06.94-2.06 2.06-.94-2.06-.94-.94-2.06-.94 2.06-2.06.94zm-11 1L8.5 8.5l.94-2.06 2.06-.94-2.06-.94L8.5 2.5l-.94 2.06-2.06.94zm10 10l.94 2.06.94-2.06 2.06-.94-2.06-.94-.94-2.06-.94 2.06-2.06.94z\"/><path d=\"M17.41 7.96l-1.37-1.37c-.4-.4-.92-.59-1.43-.59-.52 0-1.04.2-1.43.59L10.3 9.45l-7.72 7.72c-.78.78-.78 2.05 0 2.83L4 21.41c.39.39.9.59 1.41.59.51 0 1.02-.2 1.41-.59l7.78-7.78 2.81-2.81c.8-.78.8-2.07 0-2.86zM5.41 20L4 18.59l7.72-7.72 1.47 1.35L5.41 20z\"/>\n",
       "  </svg>\n",
       "      </button>\n",
       "      \n",
       "  <style>\n",
       "    .colab-df-container {\n",
       "      display:flex;\n",
       "      flex-wrap:wrap;\n",
       "      gap: 12px;\n",
       "    }\n",
       "\n",
       "    .colab-df-convert {\n",
       "      background-color: #E8F0FE;\n",
       "      border: none;\n",
       "      border-radius: 50%;\n",
       "      cursor: pointer;\n",
       "      display: none;\n",
       "      fill: #1967D2;\n",
       "      height: 32px;\n",
       "      padding: 0 0 0 0;\n",
       "      width: 32px;\n",
       "    }\n",
       "\n",
       "    .colab-df-convert:hover {\n",
       "      background-color: #E2EBFA;\n",
       "      box-shadow: 0px 1px 2px rgba(60, 64, 67, 0.3), 0px 1px 3px 1px rgba(60, 64, 67, 0.15);\n",
       "      fill: #174EA6;\n",
       "    }\n",
       "\n",
       "    [theme=dark] .colab-df-convert {\n",
       "      background-color: #3B4455;\n",
       "      fill: #D2E3FC;\n",
       "    }\n",
       "\n",
       "    [theme=dark] .colab-df-convert:hover {\n",
       "      background-color: #434B5C;\n",
       "      box-shadow: 0px 1px 3px 1px rgba(0, 0, 0, 0.15);\n",
       "      filter: drop-shadow(0px 1px 2px rgba(0, 0, 0, 0.3));\n",
       "      fill: #FFFFFF;\n",
       "    }\n",
       "  </style>\n",
       "\n",
       "      <script>\n",
       "        const buttonEl =\n",
       "          document.querySelector('#df-3d758ab9-fa2c-4635-bc33-33e7c086acbd button.colab-df-convert');\n",
       "        buttonEl.style.display =\n",
       "          google.colab.kernel.accessAllowed ? 'block' : 'none';\n",
       "\n",
       "        async function convertToInteractive(key) {\n",
       "          const element = document.querySelector('#df-3d758ab9-fa2c-4635-bc33-33e7c086acbd');\n",
       "          const dataTable =\n",
       "            await google.colab.kernel.invokeFunction('convertToInteractive',\n",
       "                                                     [key], {});\n",
       "          if (!dataTable) return;\n",
       "\n",
       "          const docLinkHtml = 'Like what you see? Visit the ' +\n",
       "            '<a target=\"_blank\" href=https://colab.research.google.com/notebooks/data_table.ipynb>data table notebook</a>'\n",
       "            + ' to learn more about interactive tables.';\n",
       "          element.innerHTML = '';\n",
       "          dataTable['output_type'] = 'display_data';\n",
       "          await google.colab.output.renderOutput(dataTable, element);\n",
       "          const docLink = document.createElement('div');\n",
       "          docLink.innerHTML = docLinkHtml;\n",
       "          element.appendChild(docLink);\n",
       "        }\n",
       "      </script>\n",
       "    </div>\n",
       "  </div>\n",
       "  "
      ],
      "text/plain": [
       "                    Airline    Source  ... Duration_hours Duration_mins\n",
       "657    Jet Airways Business  Banglore  ...              5             0\n",
       "2923   Jet Airways Business  Banglore  ...              5            40\n",
       "5371   Jet Airways Business  Banglore  ...              6            40\n",
       "7350   Jet Airways Business     Delhi  ...              8            20\n",
       "9714   Jet Airways Business     Delhi  ...              8            20\n",
       "10363  Jet Airways Business  Banglore  ...              4            40\n",
       "\n",
       "[6 rows x 15 columns]"
      ]
     },
     "execution_count": 157,
     "metadata": {},
     "output_type": "execute_result"
    }
   ],
   "source": [
    "Highest_airline_price= data[data['Airline']=='Jet Airways Business']\n",
    "Highest_airline_price"
   ]
  },
  {
   "cell_type": "markdown",
   "id": "m9och7ndjepJ",
   "metadata": {
    "id": "m9och7ndjepJ"
   },
   "source": [
    "* We can see the price of the Jet Airways Business Airline having an average price of 50 thousand Rupees "
   ]
  },
  {
   "cell_type": "markdown",
   "id": "cM2UVvNljwTA",
   "metadata": {
    "id": "cM2UVvNljwTA"
   },
   "source": [
    "### `Total Stops` vs `Price`"
   ]
  },
  {
   "cell_type": "code",
   "execution_count": 175,
   "id": "wGHd1rbujalx",
   "metadata": {
    "colab": {
     "base_uri": "https://localhost:8080/",
     "height": 519
    },
    "id": "wGHd1rbujalx",
    "outputId": "5ab54ad1-8031-4e04-d1a4-de7cebf580ab"
   },
   "outputs": [
    {
     "data": {
      "text/plain": [
       "<matplotlib.axes._subplots.AxesSubplot at 0x7f187f0fa2d0>"
      ]
     },
     "execution_count": 175,
     "metadata": {},
     "output_type": "execute_result"
    },
    {
     "data": {
      "image/png": "[encoded data removed]",
      "text/plain": [
       "<Figure size 1080x576 with 1 Axes>"
      ]
     },
     "metadata": {},
     "output_type": "display_data"
    }
   ],
   "source": [
    "plt.figure(figsize=(15,8))\n",
    "sns.boxplot(x='Total_Stops',y='Price',data=data.sort_values('Price',ascending=False))"
   ]
  },
  {
   "cell_type": "markdown",
   "id": "yU-olicnj8v7",
   "metadata": {
    "id": "yU-olicnj8v7"
   },
   "source": [
    "* Prices of Airline having different stops are almost equal and mainly the price depends on which Airline we are choosing to travell"
   ]
  },
  {
   "cell_type": "markdown",
   "id": "qVKHLdbPkBEf",
   "metadata": {
    "id": "qVKHLdbPkBEf"
   },
   "source": [
    "### `Source` vs `Price`"
   ]
  },
  {
   "cell_type": "code",
   "execution_count": 176,
   "id": "8OxDD-ODjaig",
   "metadata": {
    "colab": {
     "base_uri": "https://localhost:8080/",
     "height": 400
    },
    "id": "8OxDD-ODjaig",
    "outputId": "cbd8094b-428c-4915-d1a8-99fb5e2fcaa0"
   },
   "outputs": [
    {
     "data": {
      "text/plain": [
       "<seaborn.axisgrid.FacetGrid at 0x7f187ea2db10>"
      ]
     },
     "execution_count": 176,
     "metadata": {},
     "output_type": "execute_result"
    },
    {
     "data": {
      "text/plain": [
       "<Figure size 1080x1080 with 0 Axes>"
      ]
     },
     "metadata": {},
     "output_type": "display_data"
    },
    {
     "data": {
      "image/png": "[encoded data removed]",
      "text/plain": [
       "<Figure size 360x360 with 1 Axes>"
      ]
     },
     "metadata": {},
     "output_type": "display_data"
    }
   ],
   "source": [
    "plt.figure(figsize=(15,15))\n",
    "sns.catplot(x='Source',y='Price',data=data.sort_values('Price',ascending=False),kind='boxen')"
   ]
  },
  {
   "cell_type": "code",
   "execution_count": 177,
   "id": "ptJIahyMkE5k",
   "metadata": {
    "id": "ptJIahyMkE5k"
   },
   "outputs": [],
   "source": [
    "Banglore= data[data['Source']=='Banglore']\n",
    "Delhi= data[data['Source']=='Delhi']\n",
    "Kolkata= data[data['Source']=='Kolkata']\n",
    "Mumbai= data[data['Source']=='Mumbai']\n",
    "Chennai= data[data['Source']=='Chennai']"
   ]
  },
  {
   "cell_type": "code",
   "execution_count": 178,
   "id": "NozU3XdtkE3-",
   "metadata": {
    "colab": {
     "base_uri": "https://localhost:8080/"
    },
    "id": "NozU3XdtkE3-",
    "outputId": "dedccc55-8b7f-4765-9536-121f52e5b6ae"
   },
   "outputs": [
    {
     "name": "stdout",
     "output_type": "stream",
     "text": [
      "8017.464269458353\n",
      "10540.113536155202\n",
      "9158.389411354929\n",
      "5061.0301724137935\n",
      "4789.892388451443\n"
     ]
    }
   ],
   "source": [
    "print(Banglore[\"Price\"].mean())\n",
    "print(Delhi[\"Price\"].mean())\n",
    "print(Kolkata[\"Price\"].mean())\n",
    "print(Mumbai[\"Price\"].mean())\n",
    "print(Chennai[\"Price\"].mean())"
   ]
  },
  {
   "cell_type": "markdown",
   "id": "Uy3fMd0xkRLm",
   "metadata": {
    "id": "Uy3fMd0xkRLm"
   },
   "source": [
    "* From the plot, we can see flight charges from Delhi are a bit higher when compared to other cities irrespective of Airlines."
   ]
  },
  {
   "cell_type": "markdown",
   "id": "FBEBHqu_kYzn",
   "metadata": {
    "id": "FBEBHqu_kYzn"
   },
   "source": [
    "### `Destination` vs `Price`"
   ]
  },
  {
   "cell_type": "code",
   "execution_count": 179,
   "id": "el3k48Q5kE09",
   "metadata": {
    "colab": {
     "base_uri": "https://localhost:8080/",
     "height": 400
    },
    "id": "el3k48Q5kE09",
    "outputId": "8e892d49-3549-4e6b-c957-b2da8add43c6"
   },
   "outputs": [
    {
     "data": {
      "text/plain": [
       "<seaborn.axisgrid.FacetGrid at 0x7f188e1b1050>"
      ]
     },
     "execution_count": 179,
     "metadata": {},
     "output_type": "execute_result"
    },
    {
     "data": {
      "text/plain": [
       "<Figure size 1080x1080 with 0 Axes>"
      ]
     },
     "metadata": {},
     "output_type": "display_data"
    },
    {
     "data": {
      "image/png": "[encoded data removed]",
      "text/plain": [
       "<Figure size 360x360 with 1 Axes>"
      ]
     },
     "metadata": {},
     "output_type": "display_data"
    }
   ],
   "source": [
    "plt.figure(figsize=(15,15))\n",
    "sns.catplot(x='Destination',y='Price',data=data.sort_values('Price',ascending=False),kind='boxen')"
   ]
  },
  {
   "cell_type": "markdown",
   "id": "PX0_-WpNkiEE",
   "metadata": {
    "id": "PX0_-WpNkiEE"
   },
   "source": [
    "* From above plot we can say that flights going to Delhi will charge higher"
   ]
  },
  {
   "cell_type": "code",
   "execution_count": 180,
   "id": "id65cXIWkExx",
   "metadata": {
    "id": "id65cXIWkExx"
   },
   "outputs": [],
   "source": [
    "Banglore= data[data['Destination']=='Banglore']\n",
    "Delhi= data[data['Destination']=='Delhi']\n",
    "Cochin= data[data['Destination']=='Cochin']\n",
    "Hyderabad= data[data['Destination']=='Hyderabad']\n",
    "Kolkata= data[data['Destination']=='Kolkata']"
   ]
  },
  {
   "cell_type": "code",
   "execution_count": 181,
   "id": "e-dToFJPkEun",
   "metadata": {
    "colab": {
     "base_uri": "https://localhost:8080/"
    },
    "id": "e-dToFJPkEun",
    "outputId": "47882494-7602-4c57-be30-619859b47a5f"
   },
   "outputs": [
    {
     "name": "stdout",
     "output_type": "stream",
     "text": [
      "9158.389411354929\n",
      "8017.464269458353\n",
      "10540.113536155202\n",
      "5061.0301724137935\n",
      "4789.892388451443\n"
     ]
    }
   ],
   "source": [
    "print(Banglore[\"Price\"].mean())\n",
    "print(Delhi[\"Price\"].mean())\n",
    "print(Cochin[\"Price\"].mean())\n",
    "print(Hyderabad[\"Price\"].mean())\n",
    "print(Kolkata[\"Price\"].mean())"
   ]
  },
  {
   "cell_type": "markdown",
   "id": "SKrknwKlkn-5",
   "metadata": {
    "id": "SKrknwKlkn-5"
   },
   "source": [
    "* From the plot, we can see flight charges are a bit higher for any Airline going to Cochin when compared to other cities."
   ]
  },
  {
   "cell_type": "code",
   "execution_count": 43,
   "id": "2057112c",
   "metadata": {
    "id": "2057112c"
   },
   "outputs": [],
   "source": [
    "## Storing required categorical variables in cat_dat to apply dummification \n",
    "cat_data = [\"Airline\",'Source','Destination']"
   ]
  },
  {
   "cell_type": "code",
   "execution_count": 44,
   "id": "4dd07ec5",
   "metadata": {
    "colab": {
     "base_uri": "https://localhost:8080/"
    },
    "id": "4dd07ec5",
    "outputId": "f5ed1ded-a1c8-46ec-a779-b5b5fa76897a"
   },
   "outputs": [
    {
     "name": "stdout",
     "output_type": "stream",
     "text": [
      "(10681, 12)\n",
      "(10681, 1)\n",
      "<class 'pandas.core.frame.DataFrame'>\n"
     ]
    }
   ],
   "source": [
    "##Splitting Independent and dependent variable in X and Y respectively\n",
    "X = data.drop(['Price'],axis=1)\n",
    "Y = data[['Price']]\n",
    "\n",
    "print(X.shape)\n",
    "print(Y.shape)\n",
    "print(type(X))"
   ]
  },
  {
   "cell_type": "code",
   "execution_count": 45,
   "id": "db9b8282",
   "metadata": {
    "id": "db9b8282"
   },
   "outputs": [],
   "source": [
    "# Splitting the dataset into the Training and Testing set.\n",
    "X_train, X_val, y_train, y_val = train_test_split(X,Y, test_size = 0.3, random_state = 42)"
   ]
  },
  {
   "cell_type": "code",
   "execution_count": 46,
   "id": "Nsvn2ffGxVaa",
   "metadata": {
    "id": "Nsvn2ffGxVaa"
   },
   "outputs": [],
   "source": [
    "X_train = pd.get_dummies(X_train,columns=cat_data,drop_first= True)\n",
    "X_val = pd.get_dummies(X_val,columns=cat_data,drop_first= True)"
   ]
  },
  {
   "cell_type": "code",
   "execution_count": 47,
   "id": "31CPcbaQtzoD",
   "metadata": {
    "colab": {
     "base_uri": "https://localhost:8080/",
     "height": 305
    },
    "id": "31CPcbaQtzoD",
    "outputId": "22879661-4811-47eb-9433-e152c85e6170"
   },
   "outputs": [
    {
     "data": {
      "text/html": [
       "\n",
       "  <div id=\"df-04246cbb-32cf-4b83-a2d8-10ee597a1c5c\">\n",
       "    <div class=\"colab-df-container\">\n",
       "      <div>\n",
       "<style scoped>\n",
       "    .dataframe tbody tr th:only-of-type {\n",
       "        vertical-align: middle;\n",
       "    }\n",
       "\n",
       "    .dataframe tbody tr th {\n",
       "        vertical-align: top;\n",
       "    }\n",
       "\n",
       "    .dataframe thead th {\n",
       "        text-align: right;\n",
       "    }\n",
       "</style>\n",
       "<table border=\"1\" class=\"dataframe\">\n",
       "  <thead>\n",
       "    <tr style=\"text-align: right;\">\n",
       "      <th></th>\n",
       "      <th>Total_Stops</th>\n",
       "      <th>Day_of_Journey</th>\n",
       "      <th>Month_of_Journey</th>\n",
       "      <th>Dep_hour</th>\n",
       "      <th>Dep_minute</th>\n",
       "      <th>Arrival_hour</th>\n",
       "      <th>Arrival_minute</th>\n",
       "      <th>Duration_hours</th>\n",
       "      <th>Duration_mins</th>\n",
       "      <th>Airline_Air India</th>\n",
       "      <th>Airline_GoAir</th>\n",
       "      <th>Airline_IndiGo</th>\n",
       "      <th>Airline_Jet Airways</th>\n",
       "      <th>Airline_Jet Airways Business</th>\n",
       "      <th>Airline_Multiple carriers</th>\n",
       "      <th>Airline_Multiple carriers Premium economy</th>\n",
       "      <th>Airline_SpiceJet</th>\n",
       "      <th>Airline_Vistara</th>\n",
       "      <th>Airline_Vistara Premium economy</th>\n",
       "      <th>Source_Chennai</th>\n",
       "      <th>Source_Delhi</th>\n",
       "      <th>Source_Kolkata</th>\n",
       "      <th>Source_Mumbai</th>\n",
       "      <th>Destination_Cochin</th>\n",
       "      <th>Destination_Delhi</th>\n",
       "      <th>Destination_Hyderabad</th>\n",
       "      <th>Destination_Kolkata</th>\n",
       "    </tr>\n",
       "  </thead>\n",
       "  <tbody>\n",
       "    <tr>\n",
       "      <th>6076</th>\n",
       "      <td>0</td>\n",
       "      <td>21</td>\n",
       "      <td>6</td>\n",
       "      <td>17</td>\n",
       "      <td>10</td>\n",
       "      <td>19</td>\n",
       "      <td>40</td>\n",
       "      <td>2</td>\n",
       "      <td>30</td>\n",
       "      <td>0</td>\n",
       "      <td>0</td>\n",
       "      <td>0</td>\n",
       "      <td>0</td>\n",
       "      <td>0</td>\n",
       "      <td>0</td>\n",
       "      <td>0</td>\n",
       "      <td>1</td>\n",
       "      <td>0</td>\n",
       "      <td>0</td>\n",
       "      <td>0</td>\n",
       "      <td>0</td>\n",
       "      <td>1</td>\n",
       "      <td>0</td>\n",
       "      <td>0</td>\n",
       "      <td>0</td>\n",
       "      <td>0</td>\n",
       "      <td>0</td>\n",
       "    </tr>\n",
       "    <tr>\n",
       "      <th>2373</th>\n",
       "      <td>1</td>\n",
       "      <td>27</td>\n",
       "      <td>5</td>\n",
       "      <td>15</td>\n",
       "      <td>0</td>\n",
       "      <td>1</td>\n",
       "      <td>30</td>\n",
       "      <td>10</td>\n",
       "      <td>30</td>\n",
       "      <td>0</td>\n",
       "      <td>0</td>\n",
       "      <td>0</td>\n",
       "      <td>0</td>\n",
       "      <td>0</td>\n",
       "      <td>1</td>\n",
       "      <td>0</td>\n",
       "      <td>0</td>\n",
       "      <td>0</td>\n",
       "      <td>0</td>\n",
       "      <td>0</td>\n",
       "      <td>1</td>\n",
       "      <td>0</td>\n",
       "      <td>0</td>\n",
       "      <td>1</td>\n",
       "      <td>0</td>\n",
       "      <td>0</td>\n",
       "      <td>0</td>\n",
       "    </tr>\n",
       "    <tr>\n",
       "      <th>2442</th>\n",
       "      <td>1</td>\n",
       "      <td>5</td>\n",
       "      <td>9</td>\n",
       "      <td>22</td>\n",
       "      <td>40</td>\n",
       "      <td>10</td>\n",
       "      <td>40</td>\n",
       "      <td>12</td>\n",
       "      <td>0</td>\n",
       "      <td>0</td>\n",
       "      <td>0</td>\n",
       "      <td>0</td>\n",
       "      <td>0</td>\n",
       "      <td>0</td>\n",
       "      <td>0</td>\n",
       "      <td>0</td>\n",
       "      <td>0</td>\n",
       "      <td>0</td>\n",
       "      <td>0</td>\n",
       "      <td>0</td>\n",
       "      <td>0</td>\n",
       "      <td>1</td>\n",
       "      <td>0</td>\n",
       "      <td>0</td>\n",
       "      <td>0</td>\n",
       "      <td>0</td>\n",
       "      <td>0</td>\n",
       "    </tr>\n",
       "    <tr>\n",
       "      <th>9822</th>\n",
       "      <td>1</td>\n",
       "      <td>5</td>\n",
       "      <td>9</td>\n",
       "      <td>6</td>\n",
       "      <td>20</td>\n",
       "      <td>10</td>\n",
       "      <td>20</td>\n",
       "      <td>4</td>\n",
       "      <td>0</td>\n",
       "      <td>0</td>\n",
       "      <td>0</td>\n",
       "      <td>1</td>\n",
       "      <td>0</td>\n",
       "      <td>0</td>\n",
       "      <td>0</td>\n",
       "      <td>0</td>\n",
       "      <td>0</td>\n",
       "      <td>0</td>\n",
       "      <td>0</td>\n",
       "      <td>0</td>\n",
       "      <td>0</td>\n",
       "      <td>1</td>\n",
       "      <td>0</td>\n",
       "      <td>0</td>\n",
       "      <td>0</td>\n",
       "      <td>0</td>\n",
       "      <td>0</td>\n",
       "    </tr>\n",
       "    <tr>\n",
       "      <th>8990</th>\n",
       "      <td>0</td>\n",
       "      <td>6</td>\n",
       "      <td>6</td>\n",
       "      <td>7</td>\n",
       "      <td>10</td>\n",
       "      <td>10</td>\n",
       "      <td>10</td>\n",
       "      <td>3</td>\n",
       "      <td>0</td>\n",
       "      <td>0</td>\n",
       "      <td>0</td>\n",
       "      <td>0</td>\n",
       "      <td>1</td>\n",
       "      <td>0</td>\n",
       "      <td>0</td>\n",
       "      <td>0</td>\n",
       "      <td>0</td>\n",
       "      <td>0</td>\n",
       "      <td>0</td>\n",
       "      <td>0</td>\n",
       "      <td>0</td>\n",
       "      <td>0</td>\n",
       "      <td>0</td>\n",
       "      <td>0</td>\n",
       "      <td>1</td>\n",
       "      <td>0</td>\n",
       "      <td>0</td>\n",
       "    </tr>\n",
       "  </tbody>\n",
       "</table>\n",
       "</div>\n",
       "      <button class=\"colab-df-convert\" onclick=\"convertToInteractive('df-04246cbb-32cf-4b83-a2d8-10ee597a1c5c')\"\n",
       "              title=\"Convert this dataframe to an interactive table.\"\n",
       "              style=\"display:none;\">\n",
       "        \n",
       "  <svg xmlns=\"http://www.w3.org/2000/svg\" height=\"24px\"viewBox=\"0 0 24 24\"\n",
       "       width=\"24px\">\n",
       "    <path d=\"M0 0h24v24H0V0z\" fill=\"none\"/>\n",
       "    <path d=\"M18.56 5.44l.94 2.06.94-2.06 2.06-.94-2.06-.94-.94-2.06-.94 2.06-2.06.94zm-11 1L8.5 8.5l.94-2.06 2.06-.94-2.06-.94L8.5 2.5l-.94 2.06-2.06.94zm10 10l.94 2.06.94-2.06 2.06-.94-2.06-.94-.94-2.06-.94 2.06-2.06.94z\"/><path d=\"M17.41 7.96l-1.37-1.37c-.4-.4-.92-.59-1.43-.59-.52 0-1.04.2-1.43.59L10.3 9.45l-7.72 7.72c-.78.78-.78 2.05 0 2.83L4 21.41c.39.39.9.59 1.41.59.51 0 1.02-.2 1.41-.59l7.78-7.78 2.81-2.81c.8-.78.8-2.07 0-2.86zM5.41 20L4 18.59l7.72-7.72 1.47 1.35L5.41 20z\"/>\n",
       "  </svg>\n",
       "      </button>\n",
       "      \n",
       "  <style>\n",
       "    .colab-df-container {\n",
       "      display:flex;\n",
       "      flex-wrap:wrap;\n",
       "      gap: 12px;\n",
       "    }\n",
       "\n",
       "    .colab-df-convert {\n",
       "      background-color: #E8F0FE;\n",
       "      border: none;\n",
       "      border-radius: 50%;\n",
       "      cursor: pointer;\n",
       "      display: none;\n",
       "      fill: #1967D2;\n",
       "      height: 32px;\n",
       "      padding: 0 0 0 0;\n",
       "      width: 32px;\n",
       "    }\n",
       "\n",
       "    .colab-df-convert:hover {\n",
       "      background-color: #E2EBFA;\n",
       "      box-shadow: 0px 1px 2px rgba(60, 64, 67, 0.3), 0px 1px 3px 1px rgba(60, 64, 67, 0.15);\n",
       "      fill: #174EA6;\n",
       "    }\n",
       "\n",
       "    [theme=dark] .colab-df-convert {\n",
       "      background-color: #3B4455;\n",
       "      fill: #D2E3FC;\n",
       "    }\n",
       "\n",
       "    [theme=dark] .colab-df-convert:hover {\n",
       "      background-color: #434B5C;\n",
       "      box-shadow: 0px 1px 3px 1px rgba(0, 0, 0, 0.15);\n",
       "      filter: drop-shadow(0px 1px 2px rgba(0, 0, 0, 0.3));\n",
       "      fill: #FFFFFF;\n",
       "    }\n",
       "  </style>\n",
       "\n",
       "      <script>\n",
       "        const buttonEl =\n",
       "          document.querySelector('#df-04246cbb-32cf-4b83-a2d8-10ee597a1c5c button.colab-df-convert');\n",
       "        buttonEl.style.display =\n",
       "          google.colab.kernel.accessAllowed ? 'block' : 'none';\n",
       "\n",
       "        async function convertToInteractive(key) {\n",
       "          const element = document.querySelector('#df-04246cbb-32cf-4b83-a2d8-10ee597a1c5c');\n",
       "          const dataTable =\n",
       "            await google.colab.kernel.invokeFunction('convertToInteractive',\n",
       "                                                     [key], {});\n",
       "          if (!dataTable) return;\n",
       "\n",
       "          const docLinkHtml = 'Like what you see? Visit the ' +\n",
       "            '<a target=\"_blank\" href=https://colab.research.google.com/notebooks/data_table.ipynb>data table notebook</a>'\n",
       "            + ' to learn more about interactive tables.';\n",
       "          element.innerHTML = '';\n",
       "          dataTable['output_type'] = 'display_data';\n",
       "          await google.colab.output.renderOutput(dataTable, element);\n",
       "          const docLink = document.createElement('div');\n",
       "          docLink.innerHTML = docLinkHtml;\n",
       "          element.appendChild(docLink);\n",
       "        }\n",
       "      </script>\n",
       "    </div>\n",
       "  </div>\n",
       "  "
      ],
      "text/plain": [
       "      Total_Stops  Day_of_Journey  ...  Destination_Hyderabad  Destination_Kolkata\n",
       "6076            0              21  ...                      0                    0\n",
       "2373            1              27  ...                      0                    0\n",
       "2442            1               5  ...                      0                    0\n",
       "9822            1               5  ...                      0                    0\n",
       "8990            0               6  ...                      0                    0\n",
       "\n",
       "[5 rows x 27 columns]"
      ]
     },
     "execution_count": 47,
     "metadata": {},
     "output_type": "execute_result"
    }
   ],
   "source": [
    "X_train.head()"
   ]
  },
  {
   "cell_type": "code",
   "execution_count": 48,
   "id": "20f86e1d",
   "metadata": {
    "colab": {
     "base_uri": "https://localhost:8080/"
    },
    "id": "20f86e1d",
    "outputId": "abb9e91c-3816-401c-f8cc-876ee177e8a4"
   },
   "outputs": [
    {
     "name": "stdout",
     "output_type": "stream",
     "text": [
      "(7476, 27)\n",
      "(3205, 27)\n",
      "(7476, 1)\n",
      "(3205, 1)\n"
     ]
    }
   ],
   "source": [
    "# Checking the shape\n",
    "print(X_train.shape)\n",
    "print(X_val.shape)\n",
    "print(y_train.shape)\n",
    "print(y_val.shape)"
   ]
  },
  {
   "cell_type": "code",
   "execution_count": 49,
   "id": "caa2f5d7",
   "metadata": {
    "id": "caa2f5d7"
   },
   "outputs": [],
   "source": [
    "## Scaling the data\n",
    "sc=StandardScaler()\n",
    "X_train = sc.fit_transform(X_train)\n",
    "X_val = sc.transform(X_val)\n",
    "y_train = sc.fit_transform(y_train)   ## Scaling the Target variable (contionous variable) \n",
    "y_val_scale = sc.transform(y_val)"
   ]
  },
  {
   "cell_type": "code",
   "execution_count": 51,
   "id": "812c6b4e",
   "metadata": {
    "id": "812c6b4e"
   },
   "outputs": [],
   "source": [
    "scaler_Y = preprocessing.StandardScaler().fit(Y)"
   ]
  },
  {
   "cell_type": "markdown",
   "id": "vVIbagr2Hn78",
   "metadata": {
    "id": "vVIbagr2Hn78"
   },
   "source": [
    "### Model performance check\n",
    "\n",
    "* We will be using metric functions defined in sklearn for RMSE, MAE, and $R^2$.\n",
    "\n",
    "* We will define functions to calculate adjusted $R^2$\n",
    "* We will create a function that will print out all the above metrics in one go."
   ]
  },
  {
   "cell_type": "markdown",
   "id": "QsZVKtG9m6IY",
   "metadata": {
    "id": "QsZVKtG9m6IY"
   },
   "source": [
    "**Weight Initialization**\n",
    "\n",
    "Weight initialization is an important consideration in the design of a neural network model.\n",
    "\n",
    "The nodes in neural networks are composed of parameters referred to as weights used to calculate a weighted sum of the inputs.\n",
    "\n",
    "Neural network models are fit using an optimization algorithm called stochastic gradient descent that incrementally changes the network weights to minimize a loss function, hopefully resulting in a set of weights for the mode that is capable of making useful predictions.\n",
    "\n",
    "This optimization algorithm requires a starting point in the space of possible weight values from which to begin the optimization process. Weight initialization is a procedure to set the weights of a neural network to small random values that define the starting point for the optimization (learning or training) of the neural network model.\n",
    "\n",
    "There are many WI techniques as follows:\n",
    "\n",
    "1) Random normal initialization\n",
    "\n",
    "2) Random Uniform initialization\n",
    "\n",
    "3) Xaviour Initialization\n",
    "\n",
    "4) He Initialization \n"
   ]
  },
  {
   "cell_type": "markdown",
   "id": "01974259",
   "metadata": {
    "id": "01974259"
   },
   "source": [
    "# Model Building\n",
    "\n",
    "- We will now start with the model building process.\n",
    "- We will create a model.\n",
    " - Three hidden layer with ReLU as activation function.\n",
    " - Output layer with 1 nodes (For regression problem )"
   ]
  },
  {
   "cell_type": "code",
   "execution_count": 182,
   "id": "d9ee78e9",
   "metadata": {
    "id": "d9ee78e9"
   },
   "outputs": [],
   "source": [
    "backend.clear_session()\n",
    "#Fixing the seed for random number generators so that we can ensure we receive the same output everytime\n",
    "np.random.seed(42)\n",
    "import random\n",
    "random.seed(42)\n",
    "tf.random.set_seed(42)"
   ]
  },
  {
   "cell_type": "code",
   "execution_count": 183,
   "id": "a24aec24",
   "metadata": {
    "id": "a24aec24"
   },
   "outputs": [],
   "source": [
    "model = Sequential()\n",
    "model.add(Dense(64, activation='relu',kernel_initializer='he_uniform', input_shape=(27,)))\n",
    "model.add(Dense(32, activation='relu',kernel_initializer='he_uniform'))\n",
    "model.add(Dense(32, activation='relu',kernel_initializer='he_uniform'))\n",
    "model.add(Dense(1, activation='linear'))"
   ]
  },
  {
   "cell_type": "code",
   "execution_count": 184,
   "id": "e7997003",
   "metadata": {
    "colab": {
     "base_uri": "https://localhost:8080/"
    },
    "id": "e7997003",
    "outputId": "124402be-3648-46f3-e21b-af9a153f0765"
   },
   "outputs": [
    {
     "name": "stdout",
     "output_type": "stream",
     "text": [
      "Model: \"sequential\"\n",
      "_________________________________________________________________\n",
      " Layer (type)                Output Shape              Param #   \n",
      "=================================================================\n",
      " dense (Dense)               (None, 64)                1792      \n",
      "                                                                 \n",
      " dense_1 (Dense)             (None, 32)                2080      \n",
      "                                                                 \n",
      " dense_2 (Dense)             (None, 32)                1056      \n",
      "                                                                 \n",
      " dense_3 (Dense)             (None, 1)                 33        \n",
      "                                                                 \n",
      "=================================================================\n",
      "Total params: 4,961\n",
      "Trainable params: 4,961\n",
      "Non-trainable params: 0\n",
      "_________________________________________________________________\n"
     ]
    }
   ],
   "source": [
    "model.summary()"
   ]
  },
  {
   "cell_type": "markdown",
   "id": "5eefb4cd",
   "metadata": {
    "id": "5eefb4cd"
   },
   "source": [
    "**Observations**\n",
    "- The summary of the model shows each layer's name, type, output shape, and the number of parameters at that particular layer.\n",
    "- It also shows the total number of trainable and non-trainable parameters in the model. A parameter whose value is learned while training the model is called a trainable parameter otherwise it is called a non-trainable parameter.\n",
    "- In the first layer total parameters are calculated by the number of neurons in the hidden layer multiplied by the number of variables fed to neural networks plus bias. (27*64)+64 = 1792\n",
    "- In the next layer the parameters are calculated by the number of outputs from the previous layer multiplied by the number of neurons in the second layer plus bias. (64*32)+32 =2080\n",
    "- You can calculate for the third layer and final layer."
   ]
  },
  {
   "cell_type": "code",
   "execution_count": 185,
   "id": "4895b8c9",
   "metadata": {
    "colab": {
     "base_uri": "https://localhost:8080/"
    },
    "id": "4895b8c9",
    "outputId": "f3058259-5bba-4798-f5d7-d5a7fa2ae9ba"
   },
   "outputs": [
    {
     "name": "stdout",
     "output_type": "stream",
     "text": [
      "Epoch 1/50\n",
      "234/234 [==============================] - 1s 3ms/step - loss: 0.5221 - mae: 0.4884 - val_loss: 0.4156 - val_mae: 0.4300\n",
      "Epoch 2/50\n",
      "234/234 [==============================] - 1s 3ms/step - loss: 0.3674 - mae: 0.4159 - val_loss: 0.3599 - val_mae: 0.4329\n",
      "Epoch 3/50\n",
      "234/234 [==============================] - 1s 2ms/step - loss: 0.3228 - mae: 0.3904 - val_loss: 0.3235 - val_mae: 0.4082\n",
      "Epoch 4/50\n",
      "234/234 [==============================] - 1s 2ms/step - loss: 0.3033 - mae: 0.3783 - val_loss: 0.3083 - val_mae: 0.3875\n",
      "Epoch 5/50\n",
      "234/234 [==============================] - 1s 2ms/step - loss: 0.2913 - mae: 0.3673 - val_loss: 0.2897 - val_mae: 0.3869\n",
      "Epoch 6/50\n",
      "234/234 [==============================] - 1s 3ms/step - loss: 0.2799 - mae: 0.3613 - val_loss: 0.2930 - val_mae: 0.3843\n",
      "Epoch 7/50\n",
      "234/234 [==============================] - 1s 2ms/step - loss: 0.2709 - mae: 0.3549 - val_loss: 0.2705 - val_mae: 0.3679\n",
      "Epoch 8/50\n",
      "234/234 [==============================] - 1s 3ms/step - loss: 0.2614 - mae: 0.3489 - val_loss: 0.2979 - val_mae: 0.3852\n",
      "Epoch 9/50\n",
      "234/234 [==============================] - 1s 2ms/step - loss: 0.2624 - mae: 0.3446 - val_loss: 0.2756 - val_mae: 0.3749\n",
      "Epoch 10/50\n",
      "234/234 [==============================] - 1s 3ms/step - loss: 0.2499 - mae: 0.3410 - val_loss: 0.2873 - val_mae: 0.3696\n",
      "Epoch 11/50\n",
      "234/234 [==============================] - 1s 2ms/step - loss: 0.2496 - mae: 0.3363 - val_loss: 0.2742 - val_mae: 0.3604\n",
      "Epoch 12/50\n",
      "234/234 [==============================] - 1s 2ms/step - loss: 0.2426 - mae: 0.3349 - val_loss: 0.2909 - val_mae: 0.3701\n",
      "Epoch 13/50\n",
      "234/234 [==============================] - 1s 3ms/step - loss: 0.2444 - mae: 0.3305 - val_loss: 0.2613 - val_mae: 0.3564\n",
      "Epoch 14/50\n",
      "234/234 [==============================] - 1s 2ms/step - loss: 0.2353 - mae: 0.3280 - val_loss: 0.2931 - val_mae: 0.3993\n",
      "Epoch 15/50\n",
      "234/234 [==============================] - 1s 2ms/step - loss: 0.2344 - mae: 0.3272 - val_loss: 0.2506 - val_mae: 0.3584\n",
      "Epoch 16/50\n",
      "234/234 [==============================] - 1s 2ms/step - loss: 0.2281 - mae: 0.3242 - val_loss: 0.2598 - val_mae: 0.3503\n",
      "Epoch 17/50\n",
      "234/234 [==============================] - 1s 2ms/step - loss: 0.2278 - mae: 0.3242 - val_loss: 0.2414 - val_mae: 0.3461\n",
      "Epoch 18/50\n",
      "234/234 [==============================] - 1s 3ms/step - loss: 0.2268 - mae: 0.3211 - val_loss: 0.2441 - val_mae: 0.3537\n",
      "Epoch 19/50\n",
      "234/234 [==============================] - 1s 2ms/step - loss: 0.2232 - mae: 0.3193 - val_loss: 0.2971 - val_mae: 0.3793\n",
      "Epoch 20/50\n",
      "234/234 [==============================] - 1s 2ms/step - loss: 0.2192 - mae: 0.3184 - val_loss: 0.2565 - val_mae: 0.3588\n",
      "Epoch 21/50\n",
      "234/234 [==============================] - 1s 2ms/step - loss: 0.2180 - mae: 0.3172 - val_loss: 0.2544 - val_mae: 0.3635\n",
      "Epoch 22/50\n",
      "234/234 [==============================] - 1s 2ms/step - loss: 0.2165 - mae: 0.3142 - val_loss: 0.2500 - val_mae: 0.3474\n",
      "Epoch 23/50\n",
      "234/234 [==============================] - 1s 2ms/step - loss: 0.2168 - mae: 0.3129 - val_loss: 0.2601 - val_mae: 0.3497\n",
      "Epoch 24/50\n",
      "234/234 [==============================] - 1s 2ms/step - loss: 0.2094 - mae: 0.3103 - val_loss: 0.2538 - val_mae: 0.3546\n",
      "Epoch 25/50\n",
      "234/234 [==============================] - 1s 2ms/step - loss: 0.2051 - mae: 0.3102 - val_loss: 0.2536 - val_mae: 0.3425\n",
      "Epoch 26/50\n",
      "234/234 [==============================] - 1s 2ms/step - loss: 0.2100 - mae: 0.3090 - val_loss: 0.2560 - val_mae: 0.3509\n",
      "Epoch 27/50\n",
      "234/234 [==============================] - 1s 3ms/step - loss: 0.2116 - mae: 0.3071 - val_loss: 0.2589 - val_mae: 0.3594\n",
      "Epoch 28/50\n",
      "234/234 [==============================] - 1s 2ms/step - loss: 0.2018 - mae: 0.3066 - val_loss: 0.2512 - val_mae: 0.3519\n",
      "Epoch 29/50\n",
      "234/234 [==============================] - 1s 2ms/step - loss: 0.2027 - mae: 0.3049 - val_loss: 0.2488 - val_mae: 0.3470\n",
      "Epoch 30/50\n",
      "234/234 [==============================] - 1s 2ms/step - loss: 0.2053 - mae: 0.3033 - val_loss: 0.2463 - val_mae: 0.3517\n",
      "Epoch 31/50\n",
      "234/234 [==============================] - 1s 2ms/step - loss: 0.2020 - mae: 0.3029 - val_loss: 0.2444 - val_mae: 0.3534\n",
      "Epoch 32/50\n",
      "234/234 [==============================] - 1s 2ms/step - loss: 0.1971 - mae: 0.3013 - val_loss: 0.2923 - val_mae: 0.3690\n",
      "Epoch 33/50\n",
      "234/234 [==============================] - 1s 2ms/step - loss: 0.1977 - mae: 0.3010 - val_loss: 0.2528 - val_mae: 0.3475\n",
      "Epoch 34/50\n",
      "234/234 [==============================] - 1s 2ms/step - loss: 0.1951 - mae: 0.3003 - val_loss: 0.2439 - val_mae: 0.3455\n",
      "Epoch 35/50\n",
      "234/234 [==============================] - 1s 2ms/step - loss: 0.1963 - mae: 0.2993 - val_loss: 0.2581 - val_mae: 0.3500\n",
      "Epoch 36/50\n",
      "234/234 [==============================] - 1s 3ms/step - loss: 0.1950 - mae: 0.2998 - val_loss: 0.2497 - val_mae: 0.3479\n",
      "Epoch 37/50\n",
      "234/234 [==============================] - 1s 3ms/step - loss: 0.1904 - mae: 0.2983 - val_loss: 0.2536 - val_mae: 0.3539\n",
      "Epoch 38/50\n",
      "234/234 [==============================] - 1s 3ms/step - loss: 0.1921 - mae: 0.2955 - val_loss: 0.2383 - val_mae: 0.3441\n",
      "Epoch 39/50\n",
      "234/234 [==============================] - 1s 2ms/step - loss: 0.1924 - mae: 0.2957 - val_loss: 0.2570 - val_mae: 0.3712\n",
      "Epoch 40/50\n",
      "234/234 [==============================] - 1s 2ms/step - loss: 0.1915 - mae: 0.2958 - val_loss: 0.2650 - val_mae: 0.3640\n",
      "Epoch 41/50\n",
      "234/234 [==============================] - 1s 2ms/step - loss: 0.1899 - mae: 0.2947 - val_loss: 0.2510 - val_mae: 0.3522\n",
      "Epoch 42/50\n",
      "234/234 [==============================] - 1s 2ms/step - loss: 0.1899 - mae: 0.2941 - val_loss: 0.2821 - val_mae: 0.3592\n",
      "Epoch 43/50\n",
      "234/234 [==============================] - 1s 2ms/step - loss: 0.1889 - mae: 0.2928 - val_loss: 0.2466 - val_mae: 0.3427\n",
      "Epoch 44/50\n",
      "234/234 [==============================] - 1s 2ms/step - loss: 0.1901 - mae: 0.2928 - val_loss: 0.2718 - val_mae: 0.3587\n",
      "Epoch 45/50\n",
      "234/234 [==============================] - 1s 3ms/step - loss: 0.1855 - mae: 0.2916 - val_loss: 0.2411 - val_mae: 0.3543\n",
      "Epoch 46/50\n",
      "234/234 [==============================] - 1s 2ms/step - loss: 0.1808 - mae: 0.2912 - val_loss: 0.2629 - val_mae: 0.3561\n",
      "Epoch 47/50\n",
      "234/234 [==============================] - 1s 2ms/step - loss: 0.1849 - mae: 0.2909 - val_loss: 0.2566 - val_mae: 0.3499\n",
      "Epoch 48/50\n",
      "234/234 [==============================] - 1s 2ms/step - loss: 0.1788 - mae: 0.2892 - val_loss: 0.2639 - val_mae: 0.3544\n",
      "Epoch 49/50\n",
      "234/234 [==============================] - 1s 2ms/step - loss: 0.1788 - mae: 0.2879 - val_loss: 0.2522 - val_mae: 0.3457\n",
      "Epoch 50/50\n",
      "234/234 [==============================] - 1s 3ms/step - loss: 0.1820 - mae: 0.2881 - val_loss: 0.2367 - val_mae: 0.3467\n"
     ]
    }
   ],
   "source": [
    "optimizer = RMSprop( learning_rate=0.001)\n",
    "model.compile(loss='mse',\n",
    "              optimizer=optimizer,\n",
    "              metrics=['mae'])\n",
    "#es_cb = callbacks.EarlyStopping(monitor='val_loss', min_delta=0.001, patience=5)\n",
    "history = model.fit(X_train, y_train, validation_data=(X_val, y_val_scale), epochs=50)"
   ]
  },
  {
   "cell_type": "code",
   "execution_count": 186,
   "id": "2e792ab2",
   "metadata": {
    "colab": {
     "base_uri": "https://localhost:8080/",
     "height": 284
    },
    "id": "2e792ab2",
    "outputId": "daa53224-d10f-4e21-9c57-63cfa95d2d79"
   },
   "outputs": [
    {
     "data": {
      "image/png": "[encoded data removed]",
      "text/plain": [
       "<Figure size 432x288 with 1 Axes>"
      ]
     },
     "metadata": {},
     "output_type": "display_data"
    }
   ],
   "source": [
    "pyplot.title('Loss / Mean Squared Error')\n",
    "pyplot.plot(history.history['loss'], label='train')\n",
    "pyplot.plot(history.history['val_loss'], label='validate')\n",
    "pyplot.legend()\n",
    "pyplot.show()"
   ]
  },
  {
   "cell_type": "markdown",
   "id": "nyFqKnjAwW0E",
   "metadata": {
    "id": "nyFqKnjAwW0E"
   },
   "source": [
    "* Here the model seems to be overfitted, as the distance between the train curve and validation curve started increasing. "
   ]
  },
  {
   "cell_type": "code",
   "execution_count": 187,
   "id": "cbf63bfb",
   "metadata": {
    "colab": {
     "base_uri": "https://localhost:8080/"
    },
    "id": "cbf63bfb",
    "outputId": "830b54b3-07f9-4396-f807-a9d3850574ef"
   },
   "outputs": [
    {
     "name": "stdout",
     "output_type": "stream",
     "text": [
      "[[10960.869 ]\n",
      " [ 6385.642 ]\n",
      " [ 9585.967 ]\n",
      " ...\n",
      " [ 6977.1216]\n",
      " [14790.779 ]\n",
      " [ 6134.5493]]\n"
     ]
    }
   ],
   "source": [
    "#Lets predict on validation data\n",
    "Y_result_scaled= model.predict(X_val)\n",
    "##As we have scaled the target variable, now after predicting we should inverse the scale and should convert to normal form\n",
    "Y_result = scaler_Y.inverse_transform(Y_result_scaled) \n",
    "print(Y_result)"
   ]
  },
  {
   "cell_type": "code",
   "execution_count": 190,
   "id": "OFsRj4aYsoD8",
   "metadata": {
    "id": "OFsRj4aYsoD8"
   },
   "outputs": [],
   "source": [
    "def adj_r2_score(predictors, targets, predictions):\n",
    "    r2 = r2_score(targets, predictions)\n",
    "    n = predictors.shape[0]\n",
    "    k = predictors.shape[1]\n",
    "    return 1 - ((1 - r2) * (n - 1) / (n - k - 1))\n",
    "def model_performance_regression(predictors,target,pred):\n",
    "  r2 = r2_score(target, pred)  # to compute R-squared\n",
    "  adjr2 = adj_r2_score(predictors, target, pred)  # to compute adjusted R-squared\n",
    "  rmse = np.sqrt(mean_squared_error(target, pred))  # to compute RMSE\n",
    "  mae = mean_absolute_error(target, pred)  # to compute MAE\n",
    "\n",
    "  df_perf = pd.DataFrame(\n",
    "        {\n",
    "            \"RMSE\": rmse,\n",
    "            \"MAE\": mae,\n",
    "            \"R-squared\": r2,\n",
    "            \"Adj. R-squared\": adjr2,\n",
    "        },\n",
    "        index=[0],\n",
    "    )\n",
    "\n",
    "  return df_perf"
   ]
  },
  {
   "cell_type": "code",
   "execution_count": 191,
   "id": "1RD5A0dhfoPu",
   "metadata": {
    "colab": {
     "base_uri": "https://localhost:8080/",
     "height": 115
    },
    "id": "1RD5A0dhfoPu",
    "outputId": "e2b00ba2-289e-4e08-81e4-aadeb9912c4c"
   },
   "outputs": [
    {
     "name": "stdout",
     "output_type": "stream",
     "text": [
      "Training Performance\n",
      "\n"
     ]
    },
    {
     "data": {
      "text/html": [
       "\n",
       "  <div id=\"df-15b54256-a953-4266-9876-a7c44ff6d5c5\">\n",
       "    <div class=\"colab-df-container\">\n",
       "      <div>\n",
       "<style scoped>\n",
       "    .dataframe tbody tr th:only-of-type {\n",
       "        vertical-align: middle;\n",
       "    }\n",
       "\n",
       "    .dataframe tbody tr th {\n",
       "        vertical-align: top;\n",
       "    }\n",
       "\n",
       "    .dataframe thead th {\n",
       "        text-align: right;\n",
       "    }\n",
       "</style>\n",
       "<table border=\"1\" class=\"dataframe\">\n",
       "  <thead>\n",
       "    <tr style=\"text-align: right;\">\n",
       "      <th></th>\n",
       "      <th>RMSE</th>\n",
       "      <th>MAE</th>\n",
       "      <th>R-squared</th>\n",
       "      <th>Adj. R-squared</th>\n",
       "    </tr>\n",
       "  </thead>\n",
       "  <tbody>\n",
       "    <tr>\n",
       "      <th>0</th>\n",
       "      <td>2242.851983</td>\n",
       "      <td>1592.727512</td>\n",
       "      <td>0.761004</td>\n",
       "      <td>0.758973</td>\n",
       "    </tr>\n",
       "  </tbody>\n",
       "</table>\n",
       "</div>\n",
       "      <button class=\"colab-df-convert\" onclick=\"convertToInteractive('df-15b54256-a953-4266-9876-a7c44ff6d5c5')\"\n",
       "              title=\"Convert this dataframe to an interactive table.\"\n",
       "              style=\"display:none;\">\n",
       "        \n",
       "  <svg xmlns=\"http://www.w3.org/2000/svg\" height=\"24px\"viewBox=\"0 0 24 24\"\n",
       "       width=\"24px\">\n",
       "    <path d=\"M0 0h24v24H0V0z\" fill=\"none\"/>\n",
       "    <path d=\"M18.56 5.44l.94 2.06.94-2.06 2.06-.94-2.06-.94-.94-2.06-.94 2.06-2.06.94zm-11 1L8.5 8.5l.94-2.06 2.06-.94-2.06-.94L8.5 2.5l-.94 2.06-2.06.94zm10 10l.94 2.06.94-2.06 2.06-.94-2.06-.94-.94-2.06-.94 2.06-2.06.94z\"/><path d=\"M17.41 7.96l-1.37-1.37c-.4-.4-.92-.59-1.43-.59-.52 0-1.04.2-1.43.59L10.3 9.45l-7.72 7.72c-.78.78-.78 2.05 0 2.83L4 21.41c.39.39.9.59 1.41.59.51 0 1.02-.2 1.41-.59l7.78-7.78 2.81-2.81c.8-.78.8-2.07 0-2.86zM5.41 20L4 18.59l7.72-7.72 1.47 1.35L5.41 20z\"/>\n",
       "  </svg>\n",
       "      </button>\n",
       "      \n",
       "  <style>\n",
       "    .colab-df-container {\n",
       "      display:flex;\n",
       "      flex-wrap:wrap;\n",
       "      gap: 12px;\n",
       "    }\n",
       "\n",
       "    .colab-df-convert {\n",
       "      background-color: #E8F0FE;\n",
       "      border: none;\n",
       "      border-radius: 50%;\n",
       "      cursor: pointer;\n",
       "      display: none;\n",
       "      fill: #1967D2;\n",
       "      height: 32px;\n",
       "      padding: 0 0 0 0;\n",
       "      width: 32px;\n",
       "    }\n",
       "\n",
       "    .colab-df-convert:hover {\n",
       "      background-color: #E2EBFA;\n",
       "      box-shadow: 0px 1px 2px rgba(60, 64, 67, 0.3), 0px 1px 3px 1px rgba(60, 64, 67, 0.15);\n",
       "      fill: #174EA6;\n",
       "    }\n",
       "\n",
       "    [theme=dark] .colab-df-convert {\n",
       "      background-color: #3B4455;\n",
       "      fill: #D2E3FC;\n",
       "    }\n",
       "\n",
       "    [theme=dark] .colab-df-convert:hover {\n",
       "      background-color: #434B5C;\n",
       "      box-shadow: 0px 1px 3px 1px rgba(0, 0, 0, 0.15);\n",
       "      filter: drop-shadow(0px 1px 2px rgba(0, 0, 0, 0.3));\n",
       "      fill: #FFFFFF;\n",
       "    }\n",
       "  </style>\n",
       "\n",
       "      <script>\n",
       "        const buttonEl =\n",
       "          document.querySelector('#df-15b54256-a953-4266-9876-a7c44ff6d5c5 button.colab-df-convert');\n",
       "        buttonEl.style.display =\n",
       "          google.colab.kernel.accessAllowed ? 'block' : 'none';\n",
       "\n",
       "        async function convertToInteractive(key) {\n",
       "          const element = document.querySelector('#df-15b54256-a953-4266-9876-a7c44ff6d5c5');\n",
       "          const dataTable =\n",
       "            await google.colab.kernel.invokeFunction('convertToInteractive',\n",
       "                                                     [key], {});\n",
       "          if (!dataTable) return;\n",
       "\n",
       "          const docLinkHtml = 'Like what you see? Visit the ' +\n",
       "            '<a target=\"_blank\" href=https://colab.research.google.com/notebooks/data_table.ipynb>data table notebook</a>'\n",
       "            + ' to learn more about interactive tables.';\n",
       "          element.innerHTML = '';\n",
       "          dataTable['output_type'] = 'display_data';\n",
       "          await google.colab.output.renderOutput(dataTable, element);\n",
       "          const docLink = document.createElement('div');\n",
       "          docLink.innerHTML = docLinkHtml;\n",
       "          element.appendChild(docLink);\n",
       "        }\n",
       "      </script>\n",
       "    </div>\n",
       "  </div>\n",
       "  "
      ],
      "text/plain": [
       "          RMSE          MAE  R-squared  Adj. R-squared\n",
       "0  2242.851983  1592.727512   0.761004        0.758973"
      ]
     },
     "execution_count": 191,
     "metadata": {},
     "output_type": "execute_result"
    }
   ],
   "source": [
    "# Checking model performance on train set\n",
    "print(\"Training Performance\\n\")\n",
    "model_train_perf = model_performance_regression(X_val,y_val, Y_result)\n",
    "model_train_perf"
   ]
  },
  {
   "cell_type": "markdown",
   "id": "wx5hTSxezDsh",
   "metadata": {
    "id": "wx5hTSxezDsh"
   },
   "source": [
    "* Now, let's try changing the optimizer to Adam and see if we can overcome the overfitting problem. "
   ]
  },
  {
   "cell_type": "markdown",
   "id": "d5f3249f",
   "metadata": {
    "id": "d5f3249f"
   },
   "source": [
    "#### Building the model with Adam Optimizer (Model-2)"
   ]
  },
  {
   "cell_type": "markdown",
   "id": "XsyVmc87nk6u",
   "metadata": {
    "id": "XsyVmc87nk6u"
   },
   "source": [
    "**Early stopping:** \n",
    "\n",
    "During training, the model is evaluated on a holdout validation dataset after each epoch. If the performance of the model on the validation dataset starts to degrade or no improvement (e.g. loss begins to increase or accuracy begins to decrease), then the training process is stopped after the certian interations.The model at the time that training is stopped is then used and is known to have good generalization performance.\n",
    "\n",
    "This procedure is called “early stopping” and is perhaps one of the oldest and most widely used forms of neural network regularization."
   ]
  },
  {
   "cell_type": "code",
   "execution_count": 62,
   "id": "dzbMj-slnixu",
   "metadata": {
    "id": "dzbMj-slnixu"
   },
   "outputs": [],
   "source": [
    "backend.clear_session()\n",
    "#Fixing the seed for random number generators so that we can ensure we receive the same output everytime\n",
    "np.random.seed(42)\n",
    "import random\n",
    "random.seed(42)\n",
    "tf.random.set_seed(42)"
   ]
  },
  {
   "cell_type": "code",
   "execution_count": 63,
   "id": "bzVWP9u3nitT",
   "metadata": {
    "id": "bzVWP9u3nitT"
   },
   "outputs": [],
   "source": [
    "model_2 = Sequential()\n",
    "model_2.add(Dense(64, activation='relu',kernel_initializer='he_uniform', input_shape=(27,)))\n",
    "model_2.add(Dense(32, activation='relu',kernel_initializer='he_uniform'))\n",
    "model_2.add(Dense(32, activation='relu',kernel_initializer='he_uniform'))\n",
    "model_2.add(Dense(1, activation='linear'))"
   ]
  },
  {
   "cell_type": "code",
   "execution_count": 64,
   "id": "wtwmWQaCnipe",
   "metadata": {
    "colab": {
     "base_uri": "https://localhost:8080/"
    },
    "id": "wtwmWQaCnipe",
    "outputId": "daa91a0e-5428-48b7-b486-a04cc6f69c1a"
   },
   "outputs": [
    {
     "name": "stdout",
     "output_type": "stream",
     "text": [
      "Model: \"sequential\"\n",
      "_________________________________________________________________\n",
      " Layer (type)                Output Shape              Param #   \n",
      "=================================================================\n",
      " dense (Dense)               (None, 64)                1792      \n",
      "                                                                 \n",
      " dense_1 (Dense)             (None, 32)                2080      \n",
      "                                                                 \n",
      " dense_2 (Dense)             (None, 32)                1056      \n",
      "                                                                 \n",
      " dense_3 (Dense)             (None, 1)                 33        \n",
      "                                                                 \n",
      "=================================================================\n",
      "Total params: 4,961\n",
      "Trainable params: 4,961\n",
      "Non-trainable params: 0\n",
      "_________________________________________________________________\n"
     ]
    }
   ],
   "source": [
    "model_2.summary()"
   ]
  },
  {
   "cell_type": "code",
   "execution_count": 65,
   "id": "2LbdJFMfnimy",
   "metadata": {
    "colab": {
     "base_uri": "https://localhost:8080/"
    },
    "id": "2LbdJFMfnimy",
    "outputId": "2c272f20-bb48-41d5-9bfd-bdc61345b28b"
   },
   "outputs": [
    {
     "name": "stdout",
     "output_type": "stream",
     "text": [
      "Epoch 1/50\n",
      "234/234 [==============================] - 2s 4ms/step - loss: 0.5284 - mae: 0.4975 - val_loss: 0.4703 - val_mae: 0.4427\n",
      "Epoch 2/50\n",
      "234/234 [==============================] - 1s 3ms/step - loss: 0.3804 - mae: 0.4234 - val_loss: 0.4457 - val_mae: 0.4198\n",
      "Epoch 3/50\n",
      "234/234 [==============================] - 1s 3ms/step - loss: 0.3465 - mae: 0.3973 - val_loss: 0.4135 - val_mae: 0.4176\n",
      "Epoch 4/50\n",
      "234/234 [==============================] - 1s 3ms/step - loss: 0.3236 - mae: 0.3859 - val_loss: 0.3761 - val_mae: 0.4006\n",
      "Epoch 5/50\n",
      "234/234 [==============================] - 1s 3ms/step - loss: 0.3050 - mae: 0.3734 - val_loss: 0.3655 - val_mae: 0.4028\n",
      "Epoch 6/50\n",
      "234/234 [==============================] - 1s 3ms/step - loss: 0.3011 - mae: 0.3684 - val_loss: 0.3646 - val_mae: 0.3768\n",
      "Epoch 7/50\n",
      "234/234 [==============================] - 1s 3ms/step - loss: 0.2900 - mae: 0.3589 - val_loss: 0.2743 - val_mae: 0.3782\n",
      "Epoch 8/50\n",
      "234/234 [==============================] - 1s 3ms/step - loss: 0.2638 - mae: 0.3533 - val_loss: 0.2709 - val_mae: 0.3650\n",
      "Epoch 9/50\n",
      "234/234 [==============================] - 1s 3ms/step - loss: 0.2545 - mae: 0.3463 - val_loss: 0.2618 - val_mae: 0.3638\n",
      "Epoch 10/50\n",
      "234/234 [==============================] - 1s 3ms/step - loss: 0.2500 - mae: 0.3433 - val_loss: 0.2599 - val_mae: 0.3639\n",
      "Epoch 11/50\n",
      "234/234 [==============================] - 1s 3ms/step - loss: 0.2438 - mae: 0.3391 - val_loss: 0.2501 - val_mae: 0.3538\n",
      "Epoch 12/50\n",
      "234/234 [==============================] - 1s 3ms/step - loss: 0.2409 - mae: 0.3378 - val_loss: 0.2525 - val_mae: 0.3643\n",
      "Epoch 13/50\n",
      "234/234 [==============================] - 1s 3ms/step - loss: 0.2372 - mae: 0.3355 - val_loss: 0.2632 - val_mae: 0.3634\n",
      "Epoch 14/50\n",
      "234/234 [==============================] - 1s 3ms/step - loss: 0.2318 - mae: 0.3320 - val_loss: 0.2564 - val_mae: 0.3659\n",
      "Epoch 15/50\n",
      "234/234 [==============================] - 1s 3ms/step - loss: 0.2298 - mae: 0.3315 - val_loss: 0.2493 - val_mae: 0.3585\n",
      "Epoch 16/50\n",
      "234/234 [==============================] - 1s 3ms/step - loss: 0.2307 - mae: 0.3294 - val_loss: 0.2436 - val_mae: 0.3505\n",
      "Epoch 17/50\n",
      "234/234 [==============================] - 1s 3ms/step - loss: 0.2256 - mae: 0.3259 - val_loss: 0.2521 - val_mae: 0.3560\n",
      "Epoch 18/50\n",
      "234/234 [==============================] - 1s 3ms/step - loss: 0.2217 - mae: 0.3235 - val_loss: 0.2601 - val_mae: 0.3563\n",
      "Epoch 19/50\n",
      "234/234 [==============================] - 1s 3ms/step - loss: 0.2263 - mae: 0.3244 - val_loss: 0.3418 - val_mae: 0.3853\n",
      "Epoch 20/50\n",
      "234/234 [==============================] - 1s 3ms/step - loss: 0.2352 - mae: 0.3256 - val_loss: 0.2629 - val_mae: 0.3508\n",
      "Epoch 21/50\n",
      "234/234 [==============================] - 1s 3ms/step - loss: 0.2233 - mae: 0.3250 - val_loss: 0.3491 - val_mae: 0.3622\n"
     ]
    }
   ],
   "source": [
    "optimizer = Adam( learning_rate=0.001)\n",
    "model_2.compile(loss='mse',\n",
    "              optimizer=optimizer,\n",
    "              metrics=['mae'])\n",
    "es_cb = callbacks.EarlyStopping(monitor='val_loss', min_delta=0.001, patience=5)\n",
    "history_2 = model_2.fit(X_train, y_train, validation_data=(X_val, y_val_scale), epochs=50,callbacks=es_cb)"
   ]
  },
  {
   "cell_type": "code",
   "execution_count": 66,
   "id": "6T7vPtGcniju",
   "metadata": {
    "colab": {
     "base_uri": "https://localhost:8080/",
     "height": 284
    },
    "id": "6T7vPtGcniju",
    "outputId": "a0109be6-4879-4f76-c854-9626cb33b578"
   },
   "outputs": [
    {
     "data": {
      "image/png": "[encoded data removed]",
      "text/plain": [
       "<Figure size 432x288 with 1 Axes>"
      ]
     },
     "metadata": {},
     "output_type": "display_data"
    }
   ],
   "source": [
    "pyplot.title('Loss / Mean Squared Error')\n",
    "pyplot.plot(history_2.history['loss'], label='train')\n",
    "pyplot.plot(history_2.history['val_loss'], label='validate')\n",
    "pyplot.legend()\n",
    "pyplot.show()"
   ]
  },
  {
   "cell_type": "markdown",
   "id": "mMGJJPK40KK0",
   "metadata": {
    "id": "mMGJJPK40KK0"
   },
   "source": [
    "*  After using Adam also, the model seems to be overfitted."
   ]
  },
  {
   "cell_type": "code",
   "execution_count": 87,
   "id": "fMjT0UZDnigk",
   "metadata": {
    "colab": {
     "base_uri": "https://localhost:8080/"
    },
    "id": "fMjT0UZDnigk",
    "outputId": "2084c6be-3b74-433e-b7e9-d6c0eed2feff"
   },
   "outputs": [
    {
     "name": "stdout",
     "output_type": "stream",
     "text": [
      "[[ 9692.99  ]\n",
      " [ 5921.027 ]\n",
      " [ 9275.713 ]\n",
      " ...\n",
      " [ 7310.277 ]\n",
      " [15280.59  ]\n",
      " [ 6730.8203]]\n"
     ]
    }
   ],
   "source": [
    "#Lets predict on validation data\n",
    "Y_result_scaled_2= model_2.predict(X_val)\n",
    "##As we have scaled the target variable, now after predicting we should inverse the scale and should convert to normal form\n",
    "Y_result2 = scaler_Y.inverse_transform(Y_result_scaled_2) \n",
    "print(Y_result2)"
   ]
  },
  {
   "cell_type": "code",
   "execution_count": 89,
   "id": "0a32OYY2gXDM",
   "metadata": {
    "colab": {
     "base_uri": "https://localhost:8080/",
     "height": 115
    },
    "id": "0a32OYY2gXDM",
    "outputId": "48f2e029-81ff-455b-a1c7-7d6c8b240c6f"
   },
   "outputs": [
    {
     "name": "stdout",
     "output_type": "stream",
     "text": [
      "Training Performance\n",
      "\n"
     ]
    },
    {
     "data": {
      "text/html": [
       "\n",
       "  <div id=\"df-a2784ca7-5bb9-4c51-9ae2-796a809dd676\">\n",
       "    <div class=\"colab-df-container\">\n",
       "      <div>\n",
       "<style scoped>\n",
       "    .dataframe tbody tr th:only-of-type {\n",
       "        vertical-align: middle;\n",
       "    }\n",
       "\n",
       "    .dataframe tbody tr th {\n",
       "        vertical-align: top;\n",
       "    }\n",
       "\n",
       "    .dataframe thead th {\n",
       "        text-align: right;\n",
       "    }\n",
       "</style>\n",
       "<table border=\"1\" class=\"dataframe\">\n",
       "  <thead>\n",
       "    <tr style=\"text-align: right;\">\n",
       "      <th></th>\n",
       "      <th>RMSE</th>\n",
       "      <th>MAE</th>\n",
       "      <th>R-squared</th>\n",
       "      <th>Adj. R-squared</th>\n",
       "    </tr>\n",
       "  </thead>\n",
       "  <tbody>\n",
       "    <tr>\n",
       "      <th>0</th>\n",
       "      <td>2721.786839</td>\n",
       "      <td>1664.253717</td>\n",
       "      <td>0.648036</td>\n",
       "      <td>0.645045</td>\n",
       "    </tr>\n",
       "  </tbody>\n",
       "</table>\n",
       "</div>\n",
       "      <button class=\"colab-df-convert\" onclick=\"convertToInteractive('df-a2784ca7-5bb9-4c51-9ae2-796a809dd676')\"\n",
       "              title=\"Convert this dataframe to an interactive table.\"\n",
       "              style=\"display:none;\">\n",
       "        \n",
       "  <svg xmlns=\"http://www.w3.org/2000/svg\" height=\"24px\"viewBox=\"0 0 24 24\"\n",
       "       width=\"24px\">\n",
       "    <path d=\"M0 0h24v24H0V0z\" fill=\"none\"/>\n",
       "    <path d=\"M18.56 5.44l.94 2.06.94-2.06 2.06-.94-2.06-.94-.94-2.06-.94 2.06-2.06.94zm-11 1L8.5 8.5l.94-2.06 2.06-.94-2.06-.94L8.5 2.5l-.94 2.06-2.06.94zm10 10l.94 2.06.94-2.06 2.06-.94-2.06-.94-.94-2.06-.94 2.06-2.06.94z\"/><path d=\"M17.41 7.96l-1.37-1.37c-.4-.4-.92-.59-1.43-.59-.52 0-1.04.2-1.43.59L10.3 9.45l-7.72 7.72c-.78.78-.78 2.05 0 2.83L4 21.41c.39.39.9.59 1.41.59.51 0 1.02-.2 1.41-.59l7.78-7.78 2.81-2.81c.8-.78.8-2.07 0-2.86zM5.41 20L4 18.59l7.72-7.72 1.47 1.35L5.41 20z\"/>\n",
       "  </svg>\n",
       "      </button>\n",
       "      \n",
       "  <style>\n",
       "    .colab-df-container {\n",
       "      display:flex;\n",
       "      flex-wrap:wrap;\n",
       "      gap: 12px;\n",
       "    }\n",
       "\n",
       "    .colab-df-convert {\n",
       "      background-color: #E8F0FE;\n",
       "      border: none;\n",
       "      border-radius: 50%;\n",
       "      cursor: pointer;\n",
       "      display: none;\n",
       "      fill: #1967D2;\n",
       "      height: 32px;\n",
       "      padding: 0 0 0 0;\n",
       "      width: 32px;\n",
       "    }\n",
       "\n",
       "    .colab-df-convert:hover {\n",
       "      background-color: #E2EBFA;\n",
       "      box-shadow: 0px 1px 2px rgba(60, 64, 67, 0.3), 0px 1px 3px 1px rgba(60, 64, 67, 0.15);\n",
       "      fill: #174EA6;\n",
       "    }\n",
       "\n",
       "    [theme=dark] .colab-df-convert {\n",
       "      background-color: #3B4455;\n",
       "      fill: #D2E3FC;\n",
       "    }\n",
       "\n",
       "    [theme=dark] .colab-df-convert:hover {\n",
       "      background-color: #434B5C;\n",
       "      box-shadow: 0px 1px 3px 1px rgba(0, 0, 0, 0.15);\n",
       "      filter: drop-shadow(0px 1px 2px rgba(0, 0, 0, 0.3));\n",
       "      fill: #FFFFFF;\n",
       "    }\n",
       "  </style>\n",
       "\n",
       "      <script>\n",
       "        const buttonEl =\n",
       "          document.querySelector('#df-a2784ca7-5bb9-4c51-9ae2-796a809dd676 button.colab-df-convert');\n",
       "        buttonEl.style.display =\n",
       "          google.colab.kernel.accessAllowed ? 'block' : 'none';\n",
       "\n",
       "        async function convertToInteractive(key) {\n",
       "          const element = document.querySelector('#df-a2784ca7-5bb9-4c51-9ae2-796a809dd676');\n",
       "          const dataTable =\n",
       "            await google.colab.kernel.invokeFunction('convertToInteractive',\n",
       "                                                     [key], {});\n",
       "          if (!dataTable) return;\n",
       "\n",
       "          const docLinkHtml = 'Like what you see? Visit the ' +\n",
       "            '<a target=\"_blank\" href=https://colab.research.google.com/notebooks/data_table.ipynb>data table notebook</a>'\n",
       "            + ' to learn more about interactive tables.';\n",
       "          element.innerHTML = '';\n",
       "          dataTable['output_type'] = 'display_data';\n",
       "          await google.colab.output.renderOutput(dataTable, element);\n",
       "          const docLink = document.createElement('div');\n",
       "          docLink.innerHTML = docLinkHtml;\n",
       "          element.appendChild(docLink);\n",
       "        }\n",
       "      </script>\n",
       "    </div>\n",
       "  </div>\n",
       "  "
      ],
      "text/plain": [
       "          RMSE          MAE  R-squared  Adj. R-squared\n",
       "0  2721.786839  1664.253717   0.648036        0.645045"
      ]
     },
     "execution_count": 89,
     "metadata": {},
     "output_type": "execute_result"
    }
   ],
   "source": [
    "# Checking model performance on train set\n",
    "print(\"Training Performance\\n\")\n",
    "model_train_perf = model_performance_regression(X_val,y_val, Y_result2)\n",
    "model_train_perf"
   ]
  },
  {
   "cell_type": "markdown",
   "id": "3WNogSq40lx8",
   "metadata": {
    "id": "3WNogSq40lx8"
   },
   "source": [
    "* After using Adam optimizer, the model seems to be overfitted. \n",
    "* Let's use two Regularization techniques to reduce the overfitting problem. \n",
    "\n",
    " - Dropout \n",
    " - BatchNormalization"
   ]
  },
  {
   "cell_type": "markdown",
   "id": "Zq6YPr01MdMt",
   "metadata": {
    "id": "Zq6YPr01MdMt"
   },
   "source": [
    "#### Model-3"
   ]
  },
  {
   "cell_type": "markdown",
   "id": "Ymo2x26ln1Jv",
   "metadata": {
    "id": "Ymo2x26ln1Jv"
   },
   "source": [
    "**Dropout**\n",
    "\n",
    "Dropout is a regularization technique for neural network models proposed by Srivastava, et al. in their 2014 paper Dropout: A Simple Way to Prevent Neural Networks from Overfitting. Dropout is a technique where randomly selected neurons are ignored during training. They are “dropped-out” randomly."
   ]
  },
  {
   "cell_type": "code",
   "execution_count": 90,
   "id": "WEuBlUgODqTQ",
   "metadata": {
    "id": "WEuBlUgODqTQ"
   },
   "outputs": [],
   "source": [
    "backend.clear_session()\n",
    "#Fixing the seed for random number generators so that we can ensure we receive the same output everytime\n",
    "np.random.seed(42)\n",
    "import random\n",
    "random.seed(42)\n",
    "tf.random.set_seed(42)"
   ]
  },
  {
   "cell_type": "code",
   "execution_count": 91,
   "id": "zrpaWoRc94kC",
   "metadata": {
    "id": "zrpaWoRc94kC"
   },
   "outputs": [],
   "source": [
    "model_3 = Sequential()\n",
    "model_3.add(Dense(64, activation='relu',kernel_initializer='he_uniform', input_shape=(27,)))\n",
    "model_3.add(Dropout(0.2))\n",
    "model_3.add(Dense(32, activation='relu',kernel_initializer='he_uniform'))\n",
    "model_3.add(Dropout(0.1))\n",
    "model_3.add(Dense(32, activation='relu',kernel_initializer='he_uniform'))\n",
    "model_3.add(Dense(1, activation='linear'))"
   ]
  },
  {
   "cell_type": "code",
   "execution_count": 92,
   "id": "354619f5",
   "metadata": {
    "colab": {
     "base_uri": "https://localhost:8080/"
    },
    "id": "354619f5",
    "outputId": "e52349db-5f90-47ee-b2ca-93b0ae46699c"
   },
   "outputs": [
    {
     "name": "stdout",
     "output_type": "stream",
     "text": [
      "Model: \"sequential\"\n",
      "_________________________________________________________________\n",
      " Layer (type)                Output Shape              Param #   \n",
      "=================================================================\n",
      " dense (Dense)               (None, 64)                1792      \n",
      "                                                                 \n",
      " dropout (Dropout)           (None, 64)                0         \n",
      "                                                                 \n",
      " dense_1 (Dense)             (None, 32)                2080      \n",
      "                                                                 \n",
      " dropout_1 (Dropout)         (None, 32)                0         \n",
      "                                                                 \n",
      " dense_2 (Dense)             (None, 32)                1056      \n",
      "                                                                 \n",
      " dense_3 (Dense)             (None, 1)                 33        \n",
      "                                                                 \n",
      "=================================================================\n",
      "Total params: 4,961\n",
      "Trainable params: 4,961\n",
      "Non-trainable params: 0\n",
      "_________________________________________________________________\n"
     ]
    }
   ],
   "source": [
    "model_3.summary()"
   ]
  },
  {
   "cell_type": "code",
   "execution_count": 93,
   "id": "b337d8a4",
   "metadata": {
    "colab": {
     "base_uri": "https://localhost:8080/"
    },
    "id": "b337d8a4",
    "outputId": "b906591b-d413-4048-df3a-609c63fef8b6"
   },
   "outputs": [
    {
     "name": "stdout",
     "output_type": "stream",
     "text": [
      "Epoch 1/50\n",
      "234/234 [==============================] - 2s 4ms/step - loss: 0.6781 - mae: 0.5965 - val_loss: 0.4780 - val_mae: 0.4621\n",
      "Epoch 2/50\n",
      "234/234 [==============================] - 1s 4ms/step - loss: 0.5253 - mae: 0.5215 - val_loss: 0.4265 - val_mae: 0.4437\n",
      "Epoch 3/50\n",
      "234/234 [==============================] - 1s 4ms/step - loss: 0.4609 - mae: 0.4856 - val_loss: 0.3762 - val_mae: 0.4322\n",
      "Epoch 4/50\n",
      "234/234 [==============================] - 1s 4ms/step - loss: 0.4289 - mae: 0.4693 - val_loss: 0.3454 - val_mae: 0.4058\n",
      "Epoch 5/50\n",
      "234/234 [==============================] - 1s 3ms/step - loss: 0.3951 - mae: 0.4458 - val_loss: 0.3305 - val_mae: 0.4042\n",
      "Epoch 6/50\n",
      "234/234 [==============================] - 1s 3ms/step - loss: 0.3838 - mae: 0.4374 - val_loss: 0.3234 - val_mae: 0.3941\n",
      "Epoch 7/50\n",
      "234/234 [==============================] - 1s 3ms/step - loss: 0.3632 - mae: 0.4259 - val_loss: 0.3436 - val_mae: 0.4196\n",
      "Epoch 8/50\n",
      "234/234 [==============================] - 1s 3ms/step - loss: 0.3838 - mae: 0.4258 - val_loss: 0.3473 - val_mae: 0.4019\n",
      "Epoch 9/50\n",
      "234/234 [==============================] - 1s 4ms/step - loss: 0.3607 - mae: 0.4147 - val_loss: 0.2956 - val_mae: 0.4015\n",
      "Epoch 10/50\n",
      "234/234 [==============================] - 1s 3ms/step - loss: 0.3410 - mae: 0.4047 - val_loss: 0.3472 - val_mae: 0.3916\n",
      "Epoch 11/50\n",
      "234/234 [==============================] - 1s 3ms/step - loss: 0.3601 - mae: 0.4132 - val_loss: 0.3038 - val_mae: 0.3910\n",
      "Epoch 12/50\n",
      "234/234 [==============================] - 1s 3ms/step - loss: 0.3277 - mae: 0.3994 - val_loss: 0.2939 - val_mae: 0.4156\n",
      "Epoch 13/50\n",
      "234/234 [==============================] - 1s 3ms/step - loss: 0.3263 - mae: 0.3975 - val_loss: 0.2850 - val_mae: 0.3865\n",
      "Epoch 14/50\n",
      "234/234 [==============================] - 1s 3ms/step - loss: 0.3227 - mae: 0.3923 - val_loss: 0.2773 - val_mae: 0.3862\n",
      "Epoch 15/50\n",
      "234/234 [==============================] - 1s 3ms/step - loss: 0.3112 - mae: 0.3896 - val_loss: 0.2718 - val_mae: 0.3934\n",
      "Epoch 16/50\n",
      "234/234 [==============================] - 1s 3ms/step - loss: 0.3175 - mae: 0.3942 - val_loss: 0.2716 - val_mae: 0.3771\n",
      "Epoch 17/50\n",
      "234/234 [==============================] - 1s 3ms/step - loss: 0.3144 - mae: 0.3900 - val_loss: 0.2734 - val_mae: 0.3864\n",
      "Epoch 18/50\n",
      "234/234 [==============================] - 1s 3ms/step - loss: 0.3066 - mae: 0.3864 - val_loss: 0.2599 - val_mae: 0.3747\n",
      "Epoch 19/50\n",
      "234/234 [==============================] - 1s 3ms/step - loss: 0.3201 - mae: 0.3885 - val_loss: 0.2593 - val_mae: 0.3748\n",
      "Epoch 20/50\n",
      "234/234 [==============================] - 1s 3ms/step - loss: 0.3038 - mae: 0.3843 - val_loss: 0.2813 - val_mae: 0.3769\n",
      "Epoch 21/50\n",
      "234/234 [==============================] - 1s 4ms/step - loss: 0.3115 - mae: 0.3838 - val_loss: 0.2624 - val_mae: 0.3822\n",
      "Epoch 22/50\n",
      "234/234 [==============================] - 1s 4ms/step - loss: 0.2878 - mae: 0.3757 - val_loss: 0.2646 - val_mae: 0.3782\n",
      "Epoch 23/50\n",
      "234/234 [==============================] - 1s 4ms/step - loss: 0.3018 - mae: 0.3789 - val_loss: 0.2598 - val_mae: 0.3683\n"
     ]
    }
   ],
   "source": [
    "optimizer = Adam(0.001)\n",
    "model_3.compile(loss='mse',\n",
    "              optimizer=optimizer,\n",
    "              metrics=['mae'])\n",
    "es_cb = callbacks.EarlyStopping(monitor='val_loss', min_delta=0.001, patience=5)\n",
    "history_3 = model_3.fit(X_train, y_train, validation_data=(X_val, y_val_scale), epochs=50,callbacks=es_cb)"
   ]
  },
  {
   "cell_type": "markdown",
   "id": "9088c554",
   "metadata": {
    "id": "9088c554"
   },
   "source": [
    "#### Just by changing the optimizers we are able to reduce the loss to 19.25% and 22.16% for validation data "
   ]
  },
  {
   "cell_type": "code",
   "execution_count": 94,
   "id": "4e7baacd",
   "metadata": {
    "colab": {
     "base_uri": "https://localhost:8080/",
     "height": 284
    },
    "id": "4e7baacd",
    "outputId": "50127471-f421-4eab-c78b-e3d72b1c85a8"
   },
   "outputs": [
    {
     "data": {
      "image/png": "[encoded data removed]",
      "text/plain": [
       "<Figure size 432x288 with 1 Axes>"
      ]
     },
     "metadata": {},
     "output_type": "display_data"
    }
   ],
   "source": [
    "pyplot.title('Loss / Mean Squared Error')\n",
    "pyplot.plot(history_3.history['loss'], label='train')\n",
    "pyplot.plot(history_3.history['val_loss'], label='validate')\n",
    "pyplot.legend()\n",
    "pyplot.show()"
   ]
  },
  {
   "cell_type": "markdown",
   "id": "7KLrSAVv-P3v",
   "metadata": {
    "id": "7KLrSAVv-P3v"
   },
   "source": [
    "* After using Dropout the both curves seems to be smooth"
   ]
  },
  {
   "cell_type": "code",
   "execution_count": 95,
   "id": "a33bf2af",
   "metadata": {
    "colab": {
     "base_uri": "https://localhost:8080/"
    },
    "id": "a33bf2af",
    "outputId": "5b7a2d3c-66f5-4f40-ea4b-14cde3fa5986"
   },
   "outputs": [
    {
     "name": "stdout",
     "output_type": "stream",
     "text": [
      "[[ 8996.033 ]\n",
      " [ 6522.487 ]\n",
      " [10741.258 ]\n",
      " ...\n",
      " [ 6694.14  ]\n",
      " [13251.269 ]\n",
      " [ 5227.4443]]\n"
     ]
    }
   ],
   "source": [
    "Y_result_scaled_3= model_3.predict(X_val)\n",
    "Y_result_3 = scaler_Y.inverse_transform(Y_result_scaled_3)\n",
    "print(Y_result_3)"
   ]
  },
  {
   "cell_type": "code",
   "execution_count": 96,
   "id": "-MUy05lqHi_U",
   "metadata": {
    "colab": {
     "base_uri": "https://localhost:8080/"
    },
    "id": "-MUy05lqHi_U",
    "outputId": "c7d72f3e-378c-44be-a377-742347f6540a"
   },
   "outputs": [
    {
     "name": "stdout",
     "output_type": "stream",
     "text": [
      "r2 = 0.7367894832760309\n"
     ]
    }
   ],
   "source": [
    "r_squared_3 = r2_score(y_val, Y_result_3)\n",
    "print('r2 = {}'.format(r_squared_3))"
   ]
  },
  {
   "cell_type": "code",
   "execution_count": 97,
   "id": "j3s0w8-bgnHg",
   "metadata": {
    "colab": {
     "base_uri": "https://localhost:8080/",
     "height": 115
    },
    "id": "j3s0w8-bgnHg",
    "outputId": "bdd59c17-3752-4f4c-a4de-f81023b82439"
   },
   "outputs": [
    {
     "name": "stdout",
     "output_type": "stream",
     "text": [
      "Training Performance\n",
      "\n"
     ]
    },
    {
     "data": {
      "text/html": [
       "\n",
       "  <div id=\"df-d46065f2-257a-4142-86ef-578a3c34964a\">\n",
       "    <div class=\"colab-df-container\">\n",
       "      <div>\n",
       "<style scoped>\n",
       "    .dataframe tbody tr th:only-of-type {\n",
       "        vertical-align: middle;\n",
       "    }\n",
       "\n",
       "    .dataframe tbody tr th {\n",
       "        vertical-align: top;\n",
       "    }\n",
       "\n",
       "    .dataframe thead th {\n",
       "        text-align: right;\n",
       "    }\n",
       "</style>\n",
       "<table border=\"1\" class=\"dataframe\">\n",
       "  <thead>\n",
       "    <tr style=\"text-align: right;\">\n",
       "      <th></th>\n",
       "      <th>RMSE</th>\n",
       "      <th>MAE</th>\n",
       "      <th>R-squared</th>\n",
       "      <th>Adj. R-squared</th>\n",
       "    </tr>\n",
       "  </thead>\n",
       "  <tbody>\n",
       "    <tr>\n",
       "      <th>0</th>\n",
       "      <td>2353.731148</td>\n",
       "      <td>1693.015228</td>\n",
       "      <td>0.736789</td>\n",
       "      <td>0.734553</td>\n",
       "    </tr>\n",
       "  </tbody>\n",
       "</table>\n",
       "</div>\n",
       "      <button class=\"colab-df-convert\" onclick=\"convertToInteractive('df-d46065f2-257a-4142-86ef-578a3c34964a')\"\n",
       "              title=\"Convert this dataframe to an interactive table.\"\n",
       "              style=\"display:none;\">\n",
       "        \n",
       "  <svg xmlns=\"http://www.w3.org/2000/svg\" height=\"24px\"viewBox=\"0 0 24 24\"\n",
       "       width=\"24px\">\n",
       "    <path d=\"M0 0h24v24H0V0z\" fill=\"none\"/>\n",
       "    <path d=\"M18.56 5.44l.94 2.06.94-2.06 2.06-.94-2.06-.94-.94-2.06-.94 2.06-2.06.94zm-11 1L8.5 8.5l.94-2.06 2.06-.94-2.06-.94L8.5 2.5l-.94 2.06-2.06.94zm10 10l.94 2.06.94-2.06 2.06-.94-2.06-.94-.94-2.06-.94 2.06-2.06.94z\"/><path d=\"M17.41 7.96l-1.37-1.37c-.4-.4-.92-.59-1.43-.59-.52 0-1.04.2-1.43.59L10.3 9.45l-7.72 7.72c-.78.78-.78 2.05 0 2.83L4 21.41c.39.39.9.59 1.41.59.51 0 1.02-.2 1.41-.59l7.78-7.78 2.81-2.81c.8-.78.8-2.07 0-2.86zM5.41 20L4 18.59l7.72-7.72 1.47 1.35L5.41 20z\"/>\n",
       "  </svg>\n",
       "      </button>\n",
       "      \n",
       "  <style>\n",
       "    .colab-df-container {\n",
       "      display:flex;\n",
       "      flex-wrap:wrap;\n",
       "      gap: 12px;\n",
       "    }\n",
       "\n",
       "    .colab-df-convert {\n",
       "      background-color: #E8F0FE;\n",
       "      border: none;\n",
       "      border-radius: 50%;\n",
       "      cursor: pointer;\n",
       "      display: none;\n",
       "      fill: #1967D2;\n",
       "      height: 32px;\n",
       "      padding: 0 0 0 0;\n",
       "      width: 32px;\n",
       "    }\n",
       "\n",
       "    .colab-df-convert:hover {\n",
       "      background-color: #E2EBFA;\n",
       "      box-shadow: 0px 1px 2px rgba(60, 64, 67, 0.3), 0px 1px 3px 1px rgba(60, 64, 67, 0.15);\n",
       "      fill: #174EA6;\n",
       "    }\n",
       "\n",
       "    [theme=dark] .colab-df-convert {\n",
       "      background-color: #3B4455;\n",
       "      fill: #D2E3FC;\n",
       "    }\n",
       "\n",
       "    [theme=dark] .colab-df-convert:hover {\n",
       "      background-color: #434B5C;\n",
       "      box-shadow: 0px 1px 3px 1px rgba(0, 0, 0, 0.15);\n",
       "      filter: drop-shadow(0px 1px 2px rgba(0, 0, 0, 0.3));\n",
       "      fill: #FFFFFF;\n",
       "    }\n",
       "  </style>\n",
       "\n",
       "      <script>\n",
       "        const buttonEl =\n",
       "          document.querySelector('#df-d46065f2-257a-4142-86ef-578a3c34964a button.colab-df-convert');\n",
       "        buttonEl.style.display =\n",
       "          google.colab.kernel.accessAllowed ? 'block' : 'none';\n",
       "\n",
       "        async function convertToInteractive(key) {\n",
       "          const element = document.querySelector('#df-d46065f2-257a-4142-86ef-578a3c34964a');\n",
       "          const dataTable =\n",
       "            await google.colab.kernel.invokeFunction('convertToInteractive',\n",
       "                                                     [key], {});\n",
       "          if (!dataTable) return;\n",
       "\n",
       "          const docLinkHtml = 'Like what you see? Visit the ' +\n",
       "            '<a target=\"_blank\" href=https://colab.research.google.com/notebooks/data_table.ipynb>data table notebook</a>'\n",
       "            + ' to learn more about interactive tables.';\n",
       "          element.innerHTML = '';\n",
       "          dataTable['output_type'] = 'display_data';\n",
       "          await google.colab.output.renderOutput(dataTable, element);\n",
       "          const docLink = document.createElement('div');\n",
       "          docLink.innerHTML = docLinkHtml;\n",
       "          element.appendChild(docLink);\n",
       "        }\n",
       "      </script>\n",
       "    </div>\n",
       "  </div>\n",
       "  "
      ],
      "text/plain": [
       "          RMSE          MAE  R-squared  Adj. R-squared\n",
       "0  2353.731148  1693.015228   0.736789        0.734553"
      ]
     },
     "execution_count": 97,
     "metadata": {},
     "output_type": "execute_result"
    }
   ],
   "source": [
    "# Checking model performance on train set\n",
    "print(\"Training Performance\\n\")\n",
    "model_train_perf = model_performance_regression(X_val,y_val, Y_result_3)\n",
    "model_train_perf"
   ]
  },
  {
   "cell_type": "markdown",
   "id": "I-XBC6qM_qgx",
   "metadata": {
    "id": "I-XBC6qM_qgx"
   },
   "source": [
    "The Adjusted R-Square has increased when compared to the previous model. Now lets try BatchNormalization technique to improve the score. "
   ]
  },
  {
   "cell_type": "markdown",
   "id": "uO8qTVIVMiwk",
   "metadata": {
    "id": "uO8qTVIVMiwk"
   },
   "source": [
    "#### Model-4"
   ]
  },
  {
   "cell_type": "code",
   "execution_count": 98,
   "id": "cqpRaJB2cGO2",
   "metadata": {
    "id": "cqpRaJB2cGO2"
   },
   "outputs": [],
   "source": [
    "backend.clear_session()\n",
    "#Fixing the seed for random number generators so that we can ensure we receive the same output everytime\n",
    "np.random.seed(42)\n",
    "import random\n",
    "random.seed(42)\n",
    "tf.random.set_seed(42)"
   ]
  },
  {
   "cell_type": "code",
   "execution_count": 99,
   "id": "D5WUQWTYcGL9",
   "metadata": {
    "id": "D5WUQWTYcGL9"
   },
   "outputs": [],
   "source": [
    "model_4 = Sequential()\n",
    "model_4.add(Dense(64, activation='relu',kernel_initializer='he_uniform', input_shape=(27,)))\n",
    "model_4.add(Dense(32, activation='relu',kernel_initializer='he_uniform'))\n",
    "model_4.add(BatchNormalization())\n",
    "model_4.add(Dense(32, activation='relu',kernel_initializer='he_uniform'))\n",
    "model_4.add(Dense(1, activation='linear'))"
   ]
  },
  {
   "cell_type": "code",
   "execution_count": 100,
   "id": "ied2r12VcGJb",
   "metadata": {
    "colab": {
     "base_uri": "https://localhost:8080/"
    },
    "id": "ied2r12VcGJb",
    "outputId": "742f213e-6b3e-448a-dfc9-3b38151d42d3"
   },
   "outputs": [
    {
     "name": "stdout",
     "output_type": "stream",
     "text": [
      "Model: \"sequential\"\n",
      "_________________________________________________________________\n",
      " Layer (type)                Output Shape              Param #   \n",
      "=================================================================\n",
      " dense (Dense)               (None, 64)                1792      \n",
      "                                                                 \n",
      " dense_1 (Dense)             (None, 32)                2080      \n",
      "                                                                 \n",
      " batch_normalization (BatchN  (None, 32)               128       \n",
      " ormalization)                                                   \n",
      "                                                                 \n",
      " dense_2 (Dense)             (None, 32)                1056      \n",
      "                                                                 \n",
      " dense_3 (Dense)             (None, 1)                 33        \n",
      "                                                                 \n",
      "=================================================================\n",
      "Total params: 5,089\n",
      "Trainable params: 5,025\n",
      "Non-trainable params: 64\n",
      "_________________________________________________________________\n"
     ]
    }
   ],
   "source": [
    "model_4.summary()"
   ]
  },
  {
   "cell_type": "code",
   "execution_count": 101,
   "id": "ZnqD-PZHcGG4",
   "metadata": {
    "colab": {
     "base_uri": "https://localhost:8080/"
    },
    "id": "ZnqD-PZHcGG4",
    "outputId": "fb39a51a-b042-4291-8ff5-203a04f4a156"
   },
   "outputs": [
    {
     "name": "stdout",
     "output_type": "stream",
     "text": [
      "Epoch 1/50\n",
      "234/234 [==============================] - 2s 5ms/step - loss: 0.6256 - mae: 0.5519 - val_loss: 0.6713 - val_mae: 0.4743\n",
      "Epoch 2/50\n",
      "234/234 [==============================] - 1s 4ms/step - loss: 0.4043 - mae: 0.4481 - val_loss: 0.6317 - val_mae: 0.4257\n",
      "Epoch 3/50\n",
      "234/234 [==============================] - 1s 3ms/step - loss: 0.3568 - mae: 0.4222 - val_loss: 0.4780 - val_mae: 0.4190\n",
      "Epoch 4/50\n",
      "234/234 [==============================] - 1s 4ms/step - loss: 0.3352 - mae: 0.4087 - val_loss: 0.5022 - val_mae: 0.4120\n",
      "Epoch 5/50\n",
      "234/234 [==============================] - 1s 4ms/step - loss: 0.3214 - mae: 0.3980 - val_loss: 0.4379 - val_mae: 0.4054\n",
      "Epoch 6/50\n",
      "234/234 [==============================] - 1s 3ms/step - loss: 0.3127 - mae: 0.3945 - val_loss: 0.4210 - val_mae: 0.3894\n",
      "Epoch 7/50\n",
      "234/234 [==============================] - 1s 3ms/step - loss: 0.2994 - mae: 0.3847 - val_loss: 0.3532 - val_mae: 0.4019\n",
      "Epoch 8/50\n",
      "234/234 [==============================] - 1s 4ms/step - loss: 0.2937 - mae: 0.3809 - val_loss: 0.3873 - val_mae: 0.3823\n",
      "Epoch 9/50\n",
      "234/234 [==============================] - 1s 3ms/step - loss: 0.2824 - mae: 0.3729 - val_loss: 0.3274 - val_mae: 0.3855\n",
      "Epoch 10/50\n",
      "234/234 [==============================] - 1s 3ms/step - loss: 0.2797 - mae: 0.3713 - val_loss: 0.3107 - val_mae: 0.3679\n",
      "Epoch 11/50\n",
      "234/234 [==============================] - 1s 4ms/step - loss: 0.2804 - mae: 0.3689 - val_loss: 0.3108 - val_mae: 0.3668\n",
      "Epoch 12/50\n",
      "234/234 [==============================] - 1s 4ms/step - loss: 0.2727 - mae: 0.3665 - val_loss: 0.3063 - val_mae: 0.3828\n",
      "Epoch 13/50\n",
      "234/234 [==============================] - 1s 3ms/step - loss: 0.2680 - mae: 0.3629 - val_loss: 0.3494 - val_mae: 0.3746\n",
      "Epoch 14/50\n",
      "234/234 [==============================] - 1s 3ms/step - loss: 0.2619 - mae: 0.3587 - val_loss: 0.2884 - val_mae: 0.3653\n",
      "Epoch 15/50\n",
      "234/234 [==============================] - 1s 4ms/step - loss: 0.2563 - mae: 0.3554 - val_loss: 0.3524 - val_mae: 0.3743\n",
      "Epoch 16/50\n",
      "234/234 [==============================] - 1s 3ms/step - loss: 0.2599 - mae: 0.3566 - val_loss: 0.2952 - val_mae: 0.3538\n",
      "Epoch 17/50\n",
      "234/234 [==============================] - 1s 3ms/step - loss: 0.2564 - mae: 0.3553 - val_loss: 0.3102 - val_mae: 0.3645\n",
      "Epoch 18/50\n",
      "234/234 [==============================] - 1s 4ms/step - loss: 0.2592 - mae: 0.3524 - val_loss: 0.2923 - val_mae: 0.3518\n",
      "Epoch 19/50\n",
      "234/234 [==============================] - 1s 3ms/step - loss: 0.2469 - mae: 0.3486 - val_loss: 0.3237 - val_mae: 0.3600\n"
     ]
    }
   ],
   "source": [
    "optimizer = Adam(0.001)\n",
    "model_4.compile(loss='mse',\n",
    "              optimizer=optimizer,\n",
    "              metrics=['mae'])\n",
    "es_cb = callbacks.EarlyStopping(monitor='val_loss', min_delta=0.001, patience=5)\n",
    "history_4 = model_4.fit(X_train, y_train, validation_data=(X_val, y_val_scale), epochs=50,callbacks=es_cb)"
   ]
  },
  {
   "cell_type": "code",
   "execution_count": 102,
   "id": "PkGAuj5mcGEF",
   "metadata": {
    "colab": {
     "base_uri": "https://localhost:8080/",
     "height": 284
    },
    "id": "PkGAuj5mcGEF",
    "outputId": "dd9eed57-fb12-470b-a521-8d0e1b2ccbe2"
   },
   "outputs": [
    {
     "data": {
      "image/png": "[encoded data removed]",
      "text/plain": [
       "<Figure size 432x288 with 1 Axes>"
      ]
     },
     "metadata": {},
     "output_type": "display_data"
    }
   ],
   "source": [
    "pyplot.title('Loss / Mean Squared Error')\n",
    "pyplot.plot(history_4.history['loss'], label='train')\n",
    "pyplot.plot(history_4.history['val_loss'], label='validate')\n",
    "pyplot.legend()\n",
    "pyplot.show()"
   ]
  },
  {
   "cell_type": "markdown",
   "id": "Gj11sWShA-x5",
   "metadata": {
    "id": "Gj11sWShA-x5"
   },
   "source": [
    "* The gap between both the loss curves is somewhat high when compared to the previous model."
   ]
  },
  {
   "cell_type": "code",
   "execution_count": 103,
   "id": "JgkCcuKWcGBU",
   "metadata": {
    "colab": {
     "base_uri": "https://localhost:8080/"
    },
    "id": "JgkCcuKWcGBU",
    "outputId": "b5c5852f-57f8-45dc-e121-d0df9e308319"
   },
   "outputs": [
    {
     "name": "stdout",
     "output_type": "stream",
     "text": [
      "[[ 9934.3955]\n",
      " [ 5936.3833]\n",
      " [ 9638.261 ]\n",
      " ...\n",
      " [ 6531.1704]\n",
      " [15186.242 ]\n",
      " [ 4904.089 ]]\n"
     ]
    }
   ],
   "source": [
    "Y_result_scaled_4= model_4.predict(X_val)\n",
    "Y_result_4 = scaler_Y.inverse_transform(Y_result_scaled_4)\n",
    "print(Y_result_4)"
   ]
  },
  {
   "cell_type": "code",
   "execution_count": 104,
   "id": "dCw5qfcZcZ5R",
   "metadata": {
    "colab": {
     "base_uri": "https://localhost:8080/"
    },
    "id": "dCw5qfcZcZ5R",
    "outputId": "8455df9d-51c5-4beb-95d1-a5dee4adb533"
   },
   "outputs": [
    {
     "name": "stdout",
     "output_type": "stream",
     "text": [
      "r2 = 0.6731821264752305\n"
     ]
    }
   ],
   "source": [
    "r_squared_4 = r2_score(y_val, Y_result_4)\n",
    "print('r2 = {}'.format(r_squared_4))"
   ]
  },
  {
   "cell_type": "code",
   "execution_count": 105,
   "id": "AneMpUR3yGOh",
   "metadata": {
    "colab": {
     "base_uri": "https://localhost:8080/",
     "height": 115
    },
    "id": "AneMpUR3yGOh",
    "outputId": "fab782ae-2eca-4f04-81c6-d2392a683218"
   },
   "outputs": [
    {
     "name": "stdout",
     "output_type": "stream",
     "text": [
      "Training Performance\n",
      "\n"
     ]
    },
    {
     "data": {
      "text/html": [
       "\n",
       "  <div id=\"df-db77e7f0-b15e-43f8-909c-1714ca4dbb23\">\n",
       "    <div class=\"colab-df-container\">\n",
       "      <div>\n",
       "<style scoped>\n",
       "    .dataframe tbody tr th:only-of-type {\n",
       "        vertical-align: middle;\n",
       "    }\n",
       "\n",
       "    .dataframe tbody tr th {\n",
       "        vertical-align: top;\n",
       "    }\n",
       "\n",
       "    .dataframe thead th {\n",
       "        text-align: right;\n",
       "    }\n",
       "</style>\n",
       "<table border=\"1\" class=\"dataframe\">\n",
       "  <thead>\n",
       "    <tr style=\"text-align: right;\">\n",
       "      <th></th>\n",
       "      <th>RMSE</th>\n",
       "      <th>MAE</th>\n",
       "      <th>R-squared</th>\n",
       "      <th>Adj. R-squared</th>\n",
       "    </tr>\n",
       "  </thead>\n",
       "  <tbody>\n",
       "    <tr>\n",
       "      <th>0</th>\n",
       "      <td>2622.757488</td>\n",
       "      <td>1659.662327</td>\n",
       "      <td>0.673182</td>\n",
       "      <td>0.670405</td>\n",
       "    </tr>\n",
       "  </tbody>\n",
       "</table>\n",
       "</div>\n",
       "      <button class=\"colab-df-convert\" onclick=\"convertToInteractive('df-db77e7f0-b15e-43f8-909c-1714ca4dbb23')\"\n",
       "              title=\"Convert this dataframe to an interactive table.\"\n",
       "              style=\"display:none;\">\n",
       "        \n",
       "  <svg xmlns=\"http://www.w3.org/2000/svg\" height=\"24px\"viewBox=\"0 0 24 24\"\n",
       "       width=\"24px\">\n",
       "    <path d=\"M0 0h24v24H0V0z\" fill=\"none\"/>\n",
       "    <path d=\"M18.56 5.44l.94 2.06.94-2.06 2.06-.94-2.06-.94-.94-2.06-.94 2.06-2.06.94zm-11 1L8.5 8.5l.94-2.06 2.06-.94-2.06-.94L8.5 2.5l-.94 2.06-2.06.94zm10 10l.94 2.06.94-2.06 2.06-.94-2.06-.94-.94-2.06-.94 2.06-2.06.94z\"/><path d=\"M17.41 7.96l-1.37-1.37c-.4-.4-.92-.59-1.43-.59-.52 0-1.04.2-1.43.59L10.3 9.45l-7.72 7.72c-.78.78-.78 2.05 0 2.83L4 21.41c.39.39.9.59 1.41.59.51 0 1.02-.2 1.41-.59l7.78-7.78 2.81-2.81c.8-.78.8-2.07 0-2.86zM5.41 20L4 18.59l7.72-7.72 1.47 1.35L5.41 20z\"/>\n",
       "  </svg>\n",
       "      </button>\n",
       "      \n",
       "  <style>\n",
       "    .colab-df-container {\n",
       "      display:flex;\n",
       "      flex-wrap:wrap;\n",
       "      gap: 12px;\n",
       "    }\n",
       "\n",
       "    .colab-df-convert {\n",
       "      background-color: #E8F0FE;\n",
       "      border: none;\n",
       "      border-radius: 50%;\n",
       "      cursor: pointer;\n",
       "      display: none;\n",
       "      fill: #1967D2;\n",
       "      height: 32px;\n",
       "      padding: 0 0 0 0;\n",
       "      width: 32px;\n",
       "    }\n",
       "\n",
       "    .colab-df-convert:hover {\n",
       "      background-color: #E2EBFA;\n",
       "      box-shadow: 0px 1px 2px rgba(60, 64, 67, 0.3), 0px 1px 3px 1px rgba(60, 64, 67, 0.15);\n",
       "      fill: #174EA6;\n",
       "    }\n",
       "\n",
       "    [theme=dark] .colab-df-convert {\n",
       "      background-color: #3B4455;\n",
       "      fill: #D2E3FC;\n",
       "    }\n",
       "\n",
       "    [theme=dark] .colab-df-convert:hover {\n",
       "      background-color: #434B5C;\n",
       "      box-shadow: 0px 1px 3px 1px rgba(0, 0, 0, 0.15);\n",
       "      filter: drop-shadow(0px 1px 2px rgba(0, 0, 0, 0.3));\n",
       "      fill: #FFFFFF;\n",
       "    }\n",
       "  </style>\n",
       "\n",
       "      <script>\n",
       "        const buttonEl =\n",
       "          document.querySelector('#df-db77e7f0-b15e-43f8-909c-1714ca4dbb23 button.colab-df-convert');\n",
       "        buttonEl.style.display =\n",
       "          google.colab.kernel.accessAllowed ? 'block' : 'none';\n",
       "\n",
       "        async function convertToInteractive(key) {\n",
       "          const element = document.querySelector('#df-db77e7f0-b15e-43f8-909c-1714ca4dbb23');\n",
       "          const dataTable =\n",
       "            await google.colab.kernel.invokeFunction('convertToInteractive',\n",
       "                                                     [key], {});\n",
       "          if (!dataTable) return;\n",
       "\n",
       "          const docLinkHtml = 'Like what you see? Visit the ' +\n",
       "            '<a target=\"_blank\" href=https://colab.research.google.com/notebooks/data_table.ipynb>data table notebook</a>'\n",
       "            + ' to learn more about interactive tables.';\n",
       "          element.innerHTML = '';\n",
       "          dataTable['output_type'] = 'display_data';\n",
       "          await google.colab.output.renderOutput(dataTable, element);\n",
       "          const docLink = document.createElement('div');\n",
       "          docLink.innerHTML = docLinkHtml;\n",
       "          element.appendChild(docLink);\n",
       "        }\n",
       "      </script>\n",
       "    </div>\n",
       "  </div>\n",
       "  "
      ],
      "text/plain": [
       "          RMSE          MAE  R-squared  Adj. R-squared\n",
       "0  2622.757488  1659.662327   0.673182        0.670405"
      ]
     },
     "execution_count": 105,
     "metadata": {},
     "output_type": "execute_result"
    }
   ],
   "source": [
    "# Checking model performance on train set\n",
    "print(\"Training Performance\\n\")\n",
    "model_train_perf = model_performance_regression(X_val,y_val, Y_result_4)\n",
    "model_train_perf"
   ]
  },
  {
   "cell_type": "markdown",
   "id": "DWkcMO_JBdmC",
   "metadata": {
    "id": "DWkcMO_JBdmC"
   },
   "source": [
    "* BatchNormalization technique did not perform well on and even the Adjusted R-square has been decreased.\n",
    "* Let's try to build another model using Dropout with different neural network architecture and see if we can increase the Adjusted R-square. "
   ]
  },
  {
   "cell_type": "markdown",
   "id": "VNXyOiMwMmfB",
   "metadata": {
    "id": "VNXyOiMwMmfB"
   },
   "source": [
    "### Model-5"
   ]
  },
  {
   "cell_type": "code",
   "execution_count": 121,
   "id": "JCqx69QGC8Z4",
   "metadata": {
    "id": "JCqx69QGC8Z4"
   },
   "outputs": [],
   "source": [
    "backend.clear_session()\n",
    "#Fixing the seed for random number generators so that we can ensure we receive the same output everytime\n",
    "np.random.seed(42)\n",
    "import random\n",
    "random.seed(42)\n",
    "tf.random.set_seed(42)"
   ]
  },
  {
   "cell_type": "code",
   "execution_count": 122,
   "id": "3MUGx8ueC8XT",
   "metadata": {
    "id": "3MUGx8ueC8XT"
   },
   "outputs": [],
   "source": [
    "model_5 = Sequential()\n",
    "model_5.add(Dense(128, activation='relu',kernel_initializer='he_uniform', input_shape=(27,)))\n",
    "model_5.add(Dropout(0.2))\n",
    "model_5.add(Dense(64, activation='relu',kernel_initializer='he_uniform'))\n",
    "model_5.add(Dense(32, activation='relu',kernel_initializer='he_uniform'))\n",
    "model_5.add(Dropout(0.1))\n",
    "model_5.add(Dense(32, activation='relu',kernel_initializer='he_uniform'))\n",
    "model_5.add(Dense(1, activation='linear'))"
   ]
  },
  {
   "cell_type": "code",
   "execution_count": 123,
   "id": "dZJ2v4pDC8Um",
   "metadata": {
    "colab": {
     "base_uri": "https://localhost:8080/"
    },
    "id": "dZJ2v4pDC8Um",
    "outputId": "6e1236ba-42eb-4f2c-f0ef-ea58e80521a1"
   },
   "outputs": [
    {
     "name": "stdout",
     "output_type": "stream",
     "text": [
      "Model: \"sequential\"\n",
      "_________________________________________________________________\n",
      " Layer (type)                Output Shape              Param #   \n",
      "=================================================================\n",
      " dense (Dense)               (None, 128)               3584      \n",
      "                                                                 \n",
      " dropout (Dropout)           (None, 128)               0         \n",
      "                                                                 \n",
      " dense_1 (Dense)             (None, 64)                8256      \n",
      "                                                                 \n",
      " dense_2 (Dense)             (None, 32)                2080      \n",
      "                                                                 \n",
      " dropout_1 (Dropout)         (None, 32)                0         \n",
      "                                                                 \n",
      " dense_3 (Dense)             (None, 32)                1056      \n",
      "                                                                 \n",
      " dense_4 (Dense)             (None, 1)                 33        \n",
      "                                                                 \n",
      "=================================================================\n",
      "Total params: 15,009\n",
      "Trainable params: 15,009\n",
      "Non-trainable params: 0\n",
      "_________________________________________________________________\n"
     ]
    }
   ],
   "source": [
    "model_5.summary()"
   ]
  },
  {
   "cell_type": "code",
   "execution_count": 124,
   "id": "TXtgfQuYC8SJ",
   "metadata": {
    "colab": {
     "base_uri": "https://localhost:8080/"
    },
    "id": "TXtgfQuYC8SJ",
    "outputId": "41947d07-83bd-4140-f6d1-d9c2afcae289"
   },
   "outputs": [
    {
     "name": "stdout",
     "output_type": "stream",
     "text": [
      "Epoch 1/50\n",
      "234/234 [==============================] - 2s 4ms/step - loss: 0.6716 - mae: 0.5798 - val_loss: 0.4126 - val_mae: 0.4400\n",
      "Epoch 2/50\n",
      "234/234 [==============================] - 1s 3ms/step - loss: 0.4588 - mae: 0.4758 - val_loss: 0.4268 - val_mae: 0.4189\n",
      "Epoch 3/50\n",
      "234/234 [==============================] - 1s 3ms/step - loss: 0.3957 - mae: 0.4478 - val_loss: 0.5432 - val_mae: 0.4276\n",
      "Epoch 4/50\n",
      "234/234 [==============================] - 1s 3ms/step - loss: 0.4064 - mae: 0.4334 - val_loss: 0.3244 - val_mae: 0.4243\n",
      "Epoch 5/50\n",
      "234/234 [==============================] - 1s 3ms/step - loss: 0.4241 - mae: 0.4276 - val_loss: 0.3018 - val_mae: 0.4096\n",
      "Epoch 6/50\n",
      "234/234 [==============================] - 1s 3ms/step - loss: 0.3645 - mae: 0.4179 - val_loss: 0.2869 - val_mae: 0.3927\n",
      "Epoch 7/50\n",
      "234/234 [==============================] - 1s 3ms/step - loss: 0.3543 - mae: 0.4090 - val_loss: 0.2889 - val_mae: 0.4067\n",
      "Epoch 8/50\n",
      "234/234 [==============================] - 1s 3ms/step - loss: 0.3264 - mae: 0.3967 - val_loss: 0.2793 - val_mae: 0.3896\n",
      "Epoch 9/50\n",
      "234/234 [==============================] - 1s 3ms/step - loss: 0.3226 - mae: 0.3976 - val_loss: 0.2814 - val_mae: 0.3938\n",
      "Epoch 10/50\n",
      "234/234 [==============================] - 1s 3ms/step - loss: 0.3367 - mae: 0.3935 - val_loss: 0.2723 - val_mae: 0.3731\n",
      "Epoch 11/50\n",
      "234/234 [==============================] - 1s 3ms/step - loss: 0.3250 - mae: 0.3920 - val_loss: 0.2720 - val_mae: 0.3714\n",
      "Epoch 12/50\n",
      "234/234 [==============================] - 1s 3ms/step - loss: 0.3174 - mae: 0.3856 - val_loss: 0.2854 - val_mae: 0.4012\n",
      "Epoch 13/50\n",
      "234/234 [==============================] - 1s 3ms/step - loss: 0.3017 - mae: 0.3823 - val_loss: 0.2739 - val_mae: 0.3791\n",
      "Epoch 14/50\n",
      "234/234 [==============================] - 1s 3ms/step - loss: 0.3123 - mae: 0.3807 - val_loss: 0.2649 - val_mae: 0.3785\n",
      "Epoch 15/50\n",
      "234/234 [==============================] - 1s 3ms/step - loss: 0.2981 - mae: 0.3774 - val_loss: 0.2714 - val_mae: 0.3928\n",
      "Epoch 16/50\n",
      "234/234 [==============================] - 1s 3ms/step - loss: 0.2899 - mae: 0.3751 - val_loss: 0.2589 - val_mae: 0.3637\n",
      "Epoch 17/50\n",
      "234/234 [==============================] - 1s 3ms/step - loss: 0.3013 - mae: 0.3749 - val_loss: 0.2675 - val_mae: 0.3861\n",
      "Epoch 18/50\n",
      "234/234 [==============================] - 1s 3ms/step - loss: 0.2769 - mae: 0.3687 - val_loss: 0.2616 - val_mae: 0.3849\n",
      "Epoch 19/50\n",
      "234/234 [==============================] - 1s 3ms/step - loss: 0.2771 - mae: 0.3684 - val_loss: 0.2613 - val_mae: 0.3822\n",
      "Epoch 20/50\n",
      "234/234 [==============================] - 1s 3ms/step - loss: 0.2844 - mae: 0.3704 - val_loss: 0.2522 - val_mae: 0.3706\n",
      "Epoch 21/50\n",
      "234/234 [==============================] - 1s 3ms/step - loss: 0.2837 - mae: 0.3685 - val_loss: 0.2710 - val_mae: 0.3970\n",
      "Epoch 22/50\n",
      "234/234 [==============================] - 1s 3ms/step - loss: 0.2861 - mae: 0.3653 - val_loss: 0.2499 - val_mae: 0.3696\n",
      "Epoch 23/50\n",
      "234/234 [==============================] - 1s 3ms/step - loss: 0.2819 - mae: 0.3650 - val_loss: 0.2411 - val_mae: 0.3592\n",
      "Epoch 24/50\n",
      "234/234 [==============================] - 1s 3ms/step - loss: 0.2751 - mae: 0.3628 - val_loss: 0.2496 - val_mae: 0.3668\n",
      "Epoch 25/50\n",
      "234/234 [==============================] - 1s 3ms/step - loss: 0.2700 - mae: 0.3618 - val_loss: 0.2606 - val_mae: 0.3705\n",
      "Epoch 26/50\n",
      "234/234 [==============================] - 1s 3ms/step - loss: 0.2673 - mae: 0.3610 - val_loss: 0.2624 - val_mae: 0.3557\n",
      "Epoch 27/50\n",
      "234/234 [==============================] - 1s 3ms/step - loss: 0.3060 - mae: 0.3601 - val_loss: 0.2401 - val_mae: 0.3619\n",
      "Epoch 28/50\n",
      "234/234 [==============================] - 1s 3ms/step - loss: 0.2579 - mae: 0.3523 - val_loss: 0.2378 - val_mae: 0.3541\n",
      "Epoch 29/50\n",
      "234/234 [==============================] - 1s 3ms/step - loss: 0.2518 - mae: 0.3494 - val_loss: 0.2405 - val_mae: 0.3636\n",
      "Epoch 30/50\n",
      "234/234 [==============================] - 1s 3ms/step - loss: 0.2449 - mae: 0.3501 - val_loss: 0.2460 - val_mae: 0.3657\n",
      "Epoch 31/50\n",
      "234/234 [==============================] - 1s 3ms/step - loss: 0.2628 - mae: 0.3521 - val_loss: 0.2331 - val_mae: 0.3479\n",
      "Epoch 32/50\n",
      "234/234 [==============================] - 1s 4ms/step - loss: 0.2569 - mae: 0.3502 - val_loss: 0.2389 - val_mae: 0.3574\n",
      "Epoch 33/50\n",
      "234/234 [==============================] - 1s 3ms/step - loss: 0.2523 - mae: 0.3494 - val_loss: 0.2502 - val_mae: 0.3687\n",
      "Epoch 34/50\n",
      "234/234 [==============================] - 1s 3ms/step - loss: 0.2485 - mae: 0.3469 - val_loss: 0.2367 - val_mae: 0.3584\n",
      "Epoch 35/50\n",
      "234/234 [==============================] - 1s 3ms/step - loss: 0.2470 - mae: 0.3484 - val_loss: 0.2288 - val_mae: 0.3470\n",
      "Epoch 36/50\n",
      "234/234 [==============================] - 1s 3ms/step - loss: 0.2387 - mae: 0.3451 - val_loss: 0.2335 - val_mae: 0.3491\n",
      "Epoch 37/50\n",
      "234/234 [==============================] - 1s 3ms/step - loss: 0.2366 - mae: 0.3427 - val_loss: 0.2336 - val_mae: 0.3553\n",
      "Epoch 38/50\n",
      "234/234 [==============================] - 1s 3ms/step - loss: 0.2333 - mae: 0.3413 - val_loss: 0.2338 - val_mae: 0.3491\n",
      "Epoch 39/50\n",
      "234/234 [==============================] - 1s 3ms/step - loss: 0.2381 - mae: 0.3433 - val_loss: 0.2325 - val_mae: 0.3548\n",
      "Epoch 40/50\n",
      "234/234 [==============================] - 1s 3ms/step - loss: 0.2428 - mae: 0.3377 - val_loss: 0.2366 - val_mae: 0.3533\n"
     ]
    }
   ],
   "source": [
    "optimizer = Adam(0.001)\n",
    "model_5.compile(loss='mse',\n",
    "              optimizer=optimizer,\n",
    "              metrics=['mae'])\n",
    "es_cb = callbacks.EarlyStopping(monitor='val_loss', min_delta=0.001, patience=5)\n",
    "history_5 = model_5.fit(X_train, y_train, validation_data=(X_val, y_val_scale), epochs=50,callbacks=es_cb)"
   ]
  },
  {
   "cell_type": "code",
   "execution_count": 125,
   "id": "juaUrpZuC8Pt",
   "metadata": {
    "colab": {
     "base_uri": "https://localhost:8080/",
     "height": 284
    },
    "id": "juaUrpZuC8Pt",
    "outputId": "4b8ae8e2-1cce-4e3c-d881-78ed0e81d7ce"
   },
   "outputs": [
    {
     "data": {
      "image/png": "[encoded data removed]",
      "text/plain": [
       "<Figure size 432x288 with 1 Axes>"
      ]
     },
     "metadata": {},
     "output_type": "display_data"
    }
   ],
   "source": [
    "pyplot.title('Loss / Mean Squared Error')\n",
    "pyplot.plot(history_5.history['loss'], label='train')\n",
    "pyplot.plot(history_5.history['val_loss'], label='validate')\n",
    "pyplot.legend()\n",
    "pyplot.show()"
   ]
  },
  {
   "cell_type": "markdown",
   "id": "xtiqi8aOEg-r",
   "metadata": {
    "id": "xtiqi8aOEg-r"
   },
   "source": [
    "* We can observe that after increasing the layers, both the curves seems to be smooth. "
   ]
  },
  {
   "cell_type": "code",
   "execution_count": 127,
   "id": "m8l6wNO1C8M7",
   "metadata": {
    "colab": {
     "base_uri": "https://localhost:8080/"
    },
    "id": "m8l6wNO1C8M7",
    "outputId": "6c9c7df8-8a90-4240-ef9a-304efce16a26"
   },
   "outputs": [
    {
     "name": "stdout",
     "output_type": "stream",
     "text": [
      "[[ 9806.362 ]\n",
      " [ 6759.6885]\n",
      " [ 8734.437 ]\n",
      " ...\n",
      " [ 6657.963 ]\n",
      " [13673.88  ]\n",
      " [ 6280.184 ]]\n"
     ]
    }
   ],
   "source": [
    "Y_result_scaled_5= model_5.predict(X_val)\n",
    "Y_result_5 = scaler_Y.inverse_transform(Y_result_scaled_5)\n",
    "print(Y_result_5)"
   ]
  },
  {
   "cell_type": "code",
   "execution_count": 128,
   "id": "L3xHCdDEC8KW",
   "metadata": {
    "colab": {
     "base_uri": "https://localhost:8080/"
    },
    "id": "L3xHCdDEC8KW",
    "outputId": "7f1e9e17-3db6-4218-8ac4-734ea0cc23cf"
   },
   "outputs": [
    {
     "name": "stdout",
     "output_type": "stream",
     "text": [
      "r2 = 0.7605569651442672\n"
     ]
    }
   ],
   "source": [
    "r_squared_5 = r2_score(y_val, Y_result_5)\n",
    "print('r2 = {}'.format(r_squared_5))"
   ]
  },
  {
   "cell_type": "code",
   "execution_count": 129,
   "id": "_vYh9VEiC8HY",
   "metadata": {
    "colab": {
     "base_uri": "https://localhost:8080/",
     "height": 115
    },
    "id": "_vYh9VEiC8HY",
    "outputId": "229a9929-b222-47d4-cebf-df677834b08e"
   },
   "outputs": [
    {
     "name": "stdout",
     "output_type": "stream",
     "text": [
      "Training Performance\n",
      "\n"
     ]
    },
    {
     "data": {
      "text/html": [
       "\n",
       "  <div id=\"df-ccd95e9b-ff46-467c-bd78-580206fcd7b8\">\n",
       "    <div class=\"colab-df-container\">\n",
       "      <div>\n",
       "<style scoped>\n",
       "    .dataframe tbody tr th:only-of-type {\n",
       "        vertical-align: middle;\n",
       "    }\n",
       "\n",
       "    .dataframe tbody tr th {\n",
       "        vertical-align: top;\n",
       "    }\n",
       "\n",
       "    .dataframe thead th {\n",
       "        text-align: right;\n",
       "    }\n",
       "</style>\n",
       "<table border=\"1\" class=\"dataframe\">\n",
       "  <thead>\n",
       "    <tr style=\"text-align: right;\">\n",
       "      <th></th>\n",
       "      <th>RMSE</th>\n",
       "      <th>MAE</th>\n",
       "      <th>R-squared</th>\n",
       "      <th>Adj. R-squared</th>\n",
       "    </tr>\n",
       "  </thead>\n",
       "  <tbody>\n",
       "    <tr>\n",
       "      <th>0</th>\n",
       "      <td>2244.94828</td>\n",
       "      <td>1623.086807</td>\n",
       "      <td>0.760557</td>\n",
       "      <td>0.758522</td>\n",
       "    </tr>\n",
       "  </tbody>\n",
       "</table>\n",
       "</div>\n",
       "      <button class=\"colab-df-convert\" onclick=\"convertToInteractive('df-ccd95e9b-ff46-467c-bd78-580206fcd7b8')\"\n",
       "              title=\"Convert this dataframe to an interactive table.\"\n",
       "              style=\"display:none;\">\n",
       "        \n",
       "  <svg xmlns=\"http://www.w3.org/2000/svg\" height=\"24px\"viewBox=\"0 0 24 24\"\n",
       "       width=\"24px\">\n",
       "    <path d=\"M0 0h24v24H0V0z\" fill=\"none\"/>\n",
       "    <path d=\"M18.56 5.44l.94 2.06.94-2.06 2.06-.94-2.06-.94-.94-2.06-.94 2.06-2.06.94zm-11 1L8.5 8.5l.94-2.06 2.06-.94-2.06-.94L8.5 2.5l-.94 2.06-2.06.94zm10 10l.94 2.06.94-2.06 2.06-.94-2.06-.94-.94-2.06-.94 2.06-2.06.94z\"/><path d=\"M17.41 7.96l-1.37-1.37c-.4-.4-.92-.59-1.43-.59-.52 0-1.04.2-1.43.59L10.3 9.45l-7.72 7.72c-.78.78-.78 2.05 0 2.83L4 21.41c.39.39.9.59 1.41.59.51 0 1.02-.2 1.41-.59l7.78-7.78 2.81-2.81c.8-.78.8-2.07 0-2.86zM5.41 20L4 18.59l7.72-7.72 1.47 1.35L5.41 20z\"/>\n",
       "  </svg>\n",
       "      </button>\n",
       "      \n",
       "  <style>\n",
       "    .colab-df-container {\n",
       "      display:flex;\n",
       "      flex-wrap:wrap;\n",
       "      gap: 12px;\n",
       "    }\n",
       "\n",
       "    .colab-df-convert {\n",
       "      background-color: #E8F0FE;\n",
       "      border: none;\n",
       "      border-radius: 50%;\n",
       "      cursor: pointer;\n",
       "      display: none;\n",
       "      fill: #1967D2;\n",
       "      height: 32px;\n",
       "      padding: 0 0 0 0;\n",
       "      width: 32px;\n",
       "    }\n",
       "\n",
       "    .colab-df-convert:hover {\n",
       "      background-color: #E2EBFA;\n",
       "      box-shadow: 0px 1px 2px rgba(60, 64, 67, 0.3), 0px 1px 3px 1px rgba(60, 64, 67, 0.15);\n",
       "      fill: #174EA6;\n",
       "    }\n",
       "\n",
       "    [theme=dark] .colab-df-convert {\n",
       "      background-color: #3B4455;\n",
       "      fill: #D2E3FC;\n",
       "    }\n",
       "\n",
       "    [theme=dark] .colab-df-convert:hover {\n",
       "      background-color: #434B5C;\n",
       "      box-shadow: 0px 1px 3px 1px rgba(0, 0, 0, 0.15);\n",
       "      filter: drop-shadow(0px 1px 2px rgba(0, 0, 0, 0.3));\n",
       "      fill: #FFFFFF;\n",
       "    }\n",
       "  </style>\n",
       "\n",
       "      <script>\n",
       "        const buttonEl =\n",
       "          document.querySelector('#df-ccd95e9b-ff46-467c-bd78-580206fcd7b8 button.colab-df-convert');\n",
       "        buttonEl.style.display =\n",
       "          google.colab.kernel.accessAllowed ? 'block' : 'none';\n",
       "\n",
       "        async function convertToInteractive(key) {\n",
       "          const element = document.querySelector('#df-ccd95e9b-ff46-467c-bd78-580206fcd7b8');\n",
       "          const dataTable =\n",
       "            await google.colab.kernel.invokeFunction('convertToInteractive',\n",
       "                                                     [key], {});\n",
       "          if (!dataTable) return;\n",
       "\n",
       "          const docLinkHtml = 'Like what you see? Visit the ' +\n",
       "            '<a target=\"_blank\" href=https://colab.research.google.com/notebooks/data_table.ipynb>data table notebook</a>'\n",
       "            + ' to learn more about interactive tables.';\n",
       "          element.innerHTML = '';\n",
       "          dataTable['output_type'] = 'display_data';\n",
       "          await google.colab.output.renderOutput(dataTable, element);\n",
       "          const docLink = document.createElement('div');\n",
       "          docLink.innerHTML = docLinkHtml;\n",
       "          element.appendChild(docLink);\n",
       "        }\n",
       "      </script>\n",
       "    </div>\n",
       "  </div>\n",
       "  "
      ],
      "text/plain": [
       "         RMSE          MAE  R-squared  Adj. R-squared\n",
       "0  2244.94828  1623.086807   0.760557        0.758522"
      ]
     },
     "execution_count": 129,
     "metadata": {},
     "output_type": "execute_result"
    }
   ],
   "source": [
    "# Checking model performance on train set\n",
    "print(\"Training Performance\\n\")\n",
    "model_train_perf = model_performance_regression(X_val,y_val, Y_result_5)\n",
    "model_train_perf"
   ]
  },
  {
   "cell_type": "markdown",
   "id": "QwyA4-RvFG0S",
   "metadata": {
    "id": "QwyA4-RvFG0S"
   },
   "source": [
    "* The Adjusted R-square of the model increased compared to the previous model, and the other metrics are also the best compared to all the previous models built. "
   ]
  },
  {
   "cell_type": "markdown",
   "id": "d247127b",
   "metadata": {
    "id": "d247127b"
   },
   "source": [
    "### Comments \n",
    "\n",
    "- We have trained 5 different models with some changes in architecture and Optimizer.\n",
    "- Just by changing increasing one layer in the last model, we were able to reduce the loss.\n",
    "- Play around with your neural network model by changing the number of dense layers, learning rate, number of neurons in hidden layers. Try out different loss and activation functions and see if you can get a better Adjusted R Square. "
   ]
  },
  {
   "cell_type": "markdown",
   "id": "ed99ca39",
   "metadata": {
    "id": "ed99ca39"
   },
   "source": [
    "### Happy Learning ! "
   ]
  }
 ],
 "metadata": {
  "colab": {
   "collapsed_sections": [],
   "name": "Flight_Price_Prediction_Final.ipynb",
   "provenance": []
  },
  "kernelspec": {
   "display_name": "Python 3",
   "language": "python",
   "name": "python3"
  },
  "language_info": {
   "codemirror_mode": {
    "name": "ipython",
    "version": 3
   },
   "file_extension": ".py",
   "mimetype": "text/x-python",
   "name": "python",
   "nbconvert_exporter": "python",
   "pygments_lexer": "ipython3",
   "version": "3.8.8"
  }
 },
 "nbformat": 4,
 "nbformat_minor": 5
}
