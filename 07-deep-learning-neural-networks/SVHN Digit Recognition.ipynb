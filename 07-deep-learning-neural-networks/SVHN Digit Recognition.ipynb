{
  "nbformat": 4,
  "nbformat_minor": 0,
  "metadata": {
    "colab": {
      "name": "SVHN_NN_Solution.ipynb",
      "provenance": [],
      "collapsed_sections": []
    },
    "kernelspec": {
      "name": "python3",
      "display_name": "Python 3"
    },
    "accelerator": "GPU"
  },
  "cells": [
    {
      "cell_type": "markdown",
      "metadata": {
        "id": "Q91KqmCRu64D",
        "colab_type": "text"
      },
      "source": [
        "### Project : Street View Housing Number Digit Recognition\n",
        "\n",
        "The ability to process visual information using machine learning algorithms can be very useful as demonstrated in various applications. The Street View House Numbers (SVHN) dataset is one of the most popular ones. It has been used in neural networks created by Google to read house numbers and match them to their geolocations. This is a great benchmark dataset to play with, learn and train models that accurately identify street numbers, and incorporate into all sorts of projects.\n",
        "\n",
        "#### Objective:\n",
        "Given the testing and training data, can you train a model that accurately identifies house numbers in an image (with difficulties like picture brightness, blurriness)?"
      ]
    },
    {
      "cell_type": "markdown",
      "metadata": {
        "id": "8z2Z7-OAs8QG",
        "colab_type": "text"
      },
      "source": [
        "Let us start by mounting the drive and intalling tensorflow 2.0"
      ]
    },
    {
      "cell_type": "code",
      "metadata": {
        "id": "REFUdThmpz_d",
        "colab_type": "code",
        "colab": {
          "base_uri": "https://localhost:8080/",
          "height": 34
        },
        "outputId": "05812085-215e-45eb-cb07-824cecdfaf02"
      },
      "source": [
        "from google.colab import drive\n",
        "drive.mount('/content/drive')"
      ],
      "execution_count": 17,
      "outputs": [
        {
          "output_type": "stream",
          "text": [
            "Drive already mounted at /content/drive; to attempt to forcibly remount, call drive.mount(\"/content/drive\", force_remount=True).\n"
          ],
          "name": "stdout"
        }
      ]
    },
    {
      "cell_type": "code",
      "metadata": {
        "id": "Bn3FR5bcyEgQ",
        "colab_type": "code",
        "colab": {
          "base_uri": "https://localhost:8080/",
          "height": 641
        },
        "outputId": "1419368e-2e06-4f7f-dac6-079f3437f198"
      },
      "source": [
        "!pip install tensorflow==2.0"
      ],
      "execution_count": 18,
      "outputs": [
        {
          "output_type": "stream",
          "text": [
            "Requirement already satisfied: tensorflow==2.0 in /usr/local/lib/python3.6/dist-packages (2.0.0)\n",
            "Requirement already satisfied: opt-einsum>=2.3.2 in /usr/local/lib/python3.6/dist-packages (from tensorflow==2.0) (3.2.0)\n",
            "Requirement already satisfied: google-pasta>=0.1.6 in /usr/local/lib/python3.6/dist-packages (from tensorflow==2.0) (0.2.0)\n",
            "Requirement already satisfied: protobuf>=3.6.1 in /usr/local/lib/python3.6/dist-packages (from tensorflow==2.0) (3.10.0)\n",
            "Requirement already satisfied: keras-applications>=1.0.8 in /usr/local/lib/python3.6/dist-packages (from tensorflow==2.0) (1.0.8)\n",
            "Requirement already satisfied: six>=1.10.0 in /usr/local/lib/python3.6/dist-packages (from tensorflow==2.0) (1.12.0)\n",
            "Requirement already satisfied: tensorboard<2.1.0,>=2.0.0 in /usr/local/lib/python3.6/dist-packages (from tensorflow==2.0) (2.0.2)\n",
            "Requirement already satisfied: tensorflow-estimator<2.1.0,>=2.0.0 in /usr/local/lib/python3.6/dist-packages (from tensorflow==2.0) (2.0.1)\n",
            "Requirement already satisfied: wrapt>=1.11.1 in /usr/local/lib/python3.6/dist-packages (from tensorflow==2.0) (1.12.1)\n",
            "Requirement already satisfied: grpcio>=1.8.6 in /usr/local/lib/python3.6/dist-packages (from tensorflow==2.0) (1.27.2)\n",
            "Requirement already satisfied: absl-py>=0.7.0 in /usr/local/lib/python3.6/dist-packages (from tensorflow==2.0) (0.9.0)\n",
            "Requirement already satisfied: termcolor>=1.1.0 in /usr/local/lib/python3.6/dist-packages (from tensorflow==2.0) (1.1.0)\n",
            "Requirement already satisfied: astor>=0.6.0 in /usr/local/lib/python3.6/dist-packages (from tensorflow==2.0) (0.8.1)\n",
            "Requirement already satisfied: keras-preprocessing>=1.0.5 in /usr/local/lib/python3.6/dist-packages (from tensorflow==2.0) (1.1.0)\n",
            "Requirement already satisfied: wheel>=0.26 in /usr/local/lib/python3.6/dist-packages (from tensorflow==2.0) (0.34.2)\n",
            "Requirement already satisfied: gast==0.2.2 in /usr/local/lib/python3.6/dist-packages (from tensorflow==2.0) (0.2.2)\n",
            "Requirement already satisfied: numpy<2.0,>=1.16.0 in /usr/local/lib/python3.6/dist-packages (from tensorflow==2.0) (1.18.2)\n",
            "Requirement already satisfied: setuptools in /usr/local/lib/python3.6/dist-packages (from protobuf>=3.6.1->tensorflow==2.0) (46.0.0)\n",
            "Requirement already satisfied: h5py in /usr/local/lib/python3.6/dist-packages (from keras-applications>=1.0.8->tensorflow==2.0) (2.10.0)\n",
            "Requirement already satisfied: requests<3,>=2.21.0 in /usr/local/lib/python3.6/dist-packages (from tensorboard<2.1.0,>=2.0.0->tensorflow==2.0) (2.21.0)\n",
            "Requirement already satisfied: markdown>=2.6.8 in /usr/local/lib/python3.6/dist-packages (from tensorboard<2.1.0,>=2.0.0->tensorflow==2.0) (3.2.1)\n",
            "Requirement already satisfied: werkzeug>=0.11.15 in /usr/local/lib/python3.6/dist-packages (from tensorboard<2.1.0,>=2.0.0->tensorflow==2.0) (1.0.0)\n",
            "Requirement already satisfied: google-auth<2,>=1.6.3 in /usr/local/lib/python3.6/dist-packages (from tensorboard<2.1.0,>=2.0.0->tensorflow==2.0) (1.7.2)\n",
            "Requirement already satisfied: google-auth-oauthlib<0.5,>=0.4.1 in /usr/local/lib/python3.6/dist-packages (from tensorboard<2.1.0,>=2.0.0->tensorflow==2.0) (0.4.1)\n",
            "Requirement already satisfied: certifi>=2017.4.17 in /usr/local/lib/python3.6/dist-packages (from requests<3,>=2.21.0->tensorboard<2.1.0,>=2.0.0->tensorflow==2.0) (2019.11.28)\n",
            "Requirement already satisfied: idna<2.9,>=2.5 in /usr/local/lib/python3.6/dist-packages (from requests<3,>=2.21.0->tensorboard<2.1.0,>=2.0.0->tensorflow==2.0) (2.8)\n",
            "Requirement already satisfied: chardet<3.1.0,>=3.0.2 in /usr/local/lib/python3.6/dist-packages (from requests<3,>=2.21.0->tensorboard<2.1.0,>=2.0.0->tensorflow==2.0) (3.0.4)\n",
            "Requirement already satisfied: urllib3<1.25,>=1.21.1 in /usr/local/lib/python3.6/dist-packages (from requests<3,>=2.21.0->tensorboard<2.1.0,>=2.0.0->tensorflow==2.0) (1.24.3)\n",
            "Requirement already satisfied: rsa<4.1,>=3.1.4 in /usr/local/lib/python3.6/dist-packages (from google-auth<2,>=1.6.3->tensorboard<2.1.0,>=2.0.0->tensorflow==2.0) (4.0)\n",
            "Requirement already satisfied: pyasn1-modules>=0.2.1 in /usr/local/lib/python3.6/dist-packages (from google-auth<2,>=1.6.3->tensorboard<2.1.0,>=2.0.0->tensorflow==2.0) (0.2.8)\n",
            "Requirement already satisfied: cachetools<3.2,>=2.0.0 in /usr/local/lib/python3.6/dist-packages (from google-auth<2,>=1.6.3->tensorboard<2.1.0,>=2.0.0->tensorflow==2.0) (3.1.1)\n",
            "Requirement already satisfied: requests-oauthlib>=0.7.0 in /usr/local/lib/python3.6/dist-packages (from google-auth-oauthlib<0.5,>=0.4.1->tensorboard<2.1.0,>=2.0.0->tensorflow==2.0) (1.3.0)\n",
            "Requirement already satisfied: pyasn1>=0.1.3 in /usr/local/lib/python3.6/dist-packages (from rsa<4.1,>=3.1.4->google-auth<2,>=1.6.3->tensorboard<2.1.0,>=2.0.0->tensorflow==2.0) (0.4.8)\n",
            "Requirement already satisfied: oauthlib>=3.0.0 in /usr/local/lib/python3.6/dist-packages (from requests-oauthlib>=0.7.0->google-auth-oauthlib<0.5,>=0.4.1->tensorboard<2.1.0,>=2.0.0->tensorflow==2.0) (3.1.0)\n"
          ],
          "name": "stdout"
        }
      ]
    },
    {
      "cell_type": "markdown",
      "metadata": {
        "id": "ucnevGLoyKf_",
        "colab_type": "text"
      },
      "source": [
        "Let us check for the version of installed tensorflow."
      ]
    },
    {
      "cell_type": "code",
      "metadata": {
        "id": "W5as47YxyJVk",
        "colab_type": "code",
        "colab": {
          "base_uri": "https://localhost:8080/",
          "height": 34
        },
        "outputId": "eb175af6-846d-4a7c-9d99-9c0d32ce4df4"
      },
      "source": [
        "import tensorflow as tf\n",
        "print(tf.__version__)"
      ],
      "execution_count": 19,
      "outputs": [
        {
          "output_type": "stream",
          "text": [
            "2.0.0\n"
          ],
          "name": "stdout"
        }
      ]
    },
    {
      "cell_type": "markdown",
      "metadata": {
        "id": "8lsux2ZwyTTR",
        "colab_type": "text"
      },
      "source": [
        "Let us now, load the dataset that is available as a .h5 file"
      ]
    },
    {
      "cell_type": "code",
      "metadata": {
        "colab_type": "code",
        "id": "BApX9qgNsqV0",
        "scrolled": true,
        "colab": {}
      },
      "source": [
        "import h5py\n",
        "import numpy as np\n",
        "\n",
        "# Open the file as readonly\n",
        "h5f = h5py.File('/content/drive/My Drive/SVHN_single_grey1.h5', 'r')\n",
        "\n",
        "# Load the training, test and validation set\n",
        "X_train = h5f['X_train'][:]\n",
        "y_train1 = h5f['y_train'][:]\n",
        "X_test = h5f['X_test'][:]\n",
        "y_test1 = h5f['y_test'][:]\n",
        "\n",
        "\n",
        "# Close this file\n",
        "h5f.close()"
      ],
      "execution_count": 0,
      "outputs": []
    },
    {
      "cell_type": "markdown",
      "metadata": {
        "id": "nX4VEpfIyeaW",
        "colab_type": "text"
      },
      "source": [
        "Let us import the required libraries now."
      ]
    },
    {
      "cell_type": "code",
      "metadata": {
        "colab_type": "code",
        "id": "aTeAO8HpsqV8",
        "colab": {}
      },
      "source": [
        "## Importing the required libraries\n",
        "import numpy as np\n",
        "from tensorflow.keras.datasets import mnist\n",
        "from tensorflow.keras.models import Sequential\n",
        "from tensorflow.keras.layers import Dense\n",
        "from tensorflow.keras.utils import to_categorical\n",
        "\n",
        "# fix random seed for reproducibility\n",
        "seed = 7\n",
        "np.random.seed(seed)"
      ],
      "execution_count": 0,
      "outputs": []
    },
    {
      "cell_type": "markdown",
      "metadata": {
        "id": "kxODV6HKykuc",
        "colab_type": "text"
      },
      "source": [
        "Let us try visualising the first 10 images in the dataset."
      ]
    },
    {
      "cell_type": "code",
      "metadata": {
        "colab_type": "code",
        "id": "Bvsc8ytHsqWD",
        "outputId": "bf6278c8-36cc-4917-b485-154aabddd19e",
        "colab": {
          "base_uri": "https://localhost:8080/",
          "height": 95
        }
      },
      "source": [
        "# visualizing the first 10 images in the dataset and their labels\n",
        "%matplotlib inline\n",
        "import matplotlib.pyplot as plt\n",
        "plt.figure(figsize=(10, 1))\n",
        "for i in range(10):\n",
        "    plt.subplot(1, 10, i+1)\n",
        "    plt.imshow(X_train[i], cmap=\"gray\")\n",
        "    plt.axis('off')\n",
        "plt.show()\n",
        "print('label for each of the above image: %s' % (y_train1[0:10]))"
      ],
      "execution_count": 22,
      "outputs": [
        {
          "output_type": "display_data",
          "data": {
            "image/png": "[encoded data removed]",
            "text/plain": [
              "<Figure size 720x72 with 10 Axes>"
            ]
          },
          "metadata": {
            "tags": []
          }
        },
        {
          "output_type": "stream",
          "text": [
            "label for each of the above image: [2 6 7 4 4 0 3 0 7 3]\n"
          ],
          "name": "stdout"
        }
      ]
    },
    {
      "cell_type": "markdown",
      "metadata": {
        "id": "kzoyeXHOy80N",
        "colab_type": "text"
      },
      "source": [
        "Need to reshape the X_train and test so that the same can be fed for model building."
      ]
    },
    {
      "cell_type": "code",
      "metadata": {
        "colab_type": "code",
        "id": "D9YPwf9ysqWU",
        "outputId": "327ddd93-a075-401b-e250-2e3cb77ba324",
        "colab": {
          "base_uri": "https://localhost:8080/",
          "height": 52
        }
      },
      "source": [
        "X_train = X_train.reshape(X_train.shape[0], 1024)\n",
        "X_test = X_test.reshape(X_test.shape[0], 1024)\n",
        "\n",
        "# # normalize inputs from 0-255 to 0-1\n",
        "X_train = X_train / 255.0\n",
        "X_test = X_test / 255.0\n",
        "\n",
        "print('Training set', X_train.shape, y_train1.shape)\n",
        "print('Test set', X_test.shape, y_test1.shape)"
      ],
      "execution_count": 23,
      "outputs": [
        {
          "output_type": "stream",
          "text": [
            "Training set (42000, 1024) (42000,)\n",
            "Test set (18000, 1024) (18000,)\n"
          ],
          "name": "stdout"
        }
      ]
    },
    {
      "cell_type": "code",
      "metadata": {
        "colab_type": "code",
        "id": "H4kHHMqCsqWf",
        "outputId": "fbdc9b9b-71e7-4094-f0c0-3dc1776e2942",
        "colab": {
          "base_uri": "https://localhost:8080/",
          "height": 52
        }
      },
      "source": [
        "print(X_test.shape)\n",
        "print(y_test1.shape)"
      ],
      "execution_count": 24,
      "outputs": [
        {
          "output_type": "stream",
          "text": [
            "(18000, 1024)\n",
            "(18000,)\n"
          ],
          "name": "stdout"
        }
      ]
    },
    {
      "cell_type": "markdown",
      "metadata": {
        "id": "bogxx3cezol1",
        "colab_type": "text"
      },
      "source": [
        "Encoding the target variables"
      ]
    },
    {
      "cell_type": "code",
      "metadata": {
        "colab_type": "code",
        "id": "zL0lYER4sqWw",
        "colab": {}
      },
      "source": [
        "# one hot encode outputs\n",
        "y_train = to_categorical(y_train1)\n",
        "y_test = to_categorical(y_test1)\n",
        "\n",
        "# no.of classes\n",
        "num_classes = y_test.shape[1]\n",
        "num_hidden = 32"
      ],
      "execution_count": 0,
      "outputs": []
    },
    {
      "cell_type": "code",
      "metadata": {
        "colab_type": "code",
        "id": "EnOsi1o0sqW1",
        "outputId": "5c4b00f4-023d-4635-b377-4df83a6b9341",
        "colab": {
          "base_uri": "https://localhost:8080/",
          "height": 34
        }
      },
      "source": [
        "num_classes"
      ],
      "execution_count": 26,
      "outputs": [
        {
          "output_type": "execute_result",
          "data": {
            "text/plain": [
              "10"
            ]
          },
          "metadata": {
            "tags": []
          },
          "execution_count": 26
        }
      ]
    },
    {
      "cell_type": "code",
      "metadata": {
        "id": "ars5ie87jCgL",
        "colab_type": "code",
        "colab": {}
      },
      "source": [
        "x_tr = []\n",
        "for i in range(42000):\n",
        "    x_tr.append(X_train[i,:].flatten())\n",
        "x_te = []\n",
        "for i in range(18000):\n",
        "    x_te.append(X_test[i,:].flatten())"
      ],
      "execution_count": 0,
      "outputs": []
    },
    {
      "cell_type": "code",
      "metadata": {
        "id": "mzTBd-KIlTDu",
        "colab_type": "code",
        "colab": {}
      },
      "source": [
        "x_tr =x_tr[:2000]\n",
        "x_te =x_te[:2000]"
      ],
      "execution_count": 0,
      "outputs": []
    },
    {
      "cell_type": "code",
      "metadata": {
        "id": "zkl53rqKlva2",
        "colab_type": "code",
        "colab": {}
      },
      "source": [
        "y_tr = y_train1[0:2000]\n",
        "y_te = y_test1[0:2000]"
      ],
      "execution_count": 0,
      "outputs": []
    },
    {
      "cell_type": "code",
      "metadata": {
        "id": "Hu7wmUi6mAZl",
        "colab_type": "code",
        "outputId": "3b227226-3118-4df6-9a93-e842bd148fa3",
        "colab": {
          "base_uri": "https://localhost:8080/",
          "height": 87
        }
      },
      "source": [
        "print(len(x_tr))\n",
        "print(len(y_tr))\n",
        "print(len(x_te))\n",
        "print(len(y_tr))"
      ],
      "execution_count": 30,
      "outputs": [
        {
          "output_type": "stream",
          "text": [
            "2000\n",
            "2000\n",
            "2000\n",
            "2000\n"
          ],
          "name": "stdout"
        }
      ]
    },
    {
      "cell_type": "markdown",
      "metadata": {
        "id": "UJDUoaEj1d6e",
        "colab_type": "text"
      },
      "source": [
        "#### Let us now build the neural network model, fit the training data, test it and provide model summary. Feel free to play around with the network and get to a better solution."
      ]
    },
    {
      "cell_type": "code",
      "metadata": {
        "colab_type": "code",
        "id": "Cmi81Gr5sqW-",
        "outputId": "b388a999-a53d-46c3-c928-0402a2da3ea9",
        "colab": {
          "base_uri": "https://localhost:8080/",
          "height": 1000
        }
      },
      "source": [
        "# define model\n",
        "\n",
        "from tensorflow.keras import losses\n",
        "from tensorflow.keras import optimizers\n",
        "\n",
        "\n",
        "def nn_model():\n",
        "    # create model\n",
        "    model = Sequential()  \n",
        "    \n",
        "    model.add(Dense(256, activation='relu')) ###Multiple Dense units with Relu activation\n",
        "    model.add(Dense(64, activation='relu'))\n",
        "    model.add(Dense(64, activation='relu'))\n",
        "    model.add(Dense(32, activation='relu'))\n",
        "    model.add(Dense(num_classes, activation='softmax'))\n",
        "    \n",
        "    # Compile model\n",
        "    sgd = optimizers.Adam(lr=1e-3)\n",
        "    model.compile(loss=losses.categorical_crossentropy, optimizer=sgd, metrics=['accuracy']) ### Loss function = Categorical cross entropy\n",
        "    return model\n",
        "\n",
        "# build the model\n",
        "model = nn_model()\n",
        "\n",
        "# Fit the model\n",
        "model.fit(X_train, y_train, validation_data=(X_test, y_test), epochs=30, batch_size=200, verbose=2)\n",
        "\n",
        "# Final evaluation of the model\n",
        "scores = model.evaluate(X_test, y_test, verbose=0)\n",
        "\n",
        "print(\"Error: %.2f%%\" % (100-scores[1]*100))\n",
        "\n",
        "model.summary()"
      ],
      "execution_count": 31,
      "outputs": [
        {
          "output_type": "stream",
          "text": [
            "Train on 42000 samples, validate on 18000 samples\n",
            "Epoch 1/30\n",
            "42000/42000 - 2s - loss: 2.2789 - accuracy: 0.1227 - val_loss: 2.1191 - val_accuracy: 0.2163\n",
            "Epoch 2/30\n",
            "42000/42000 - 2s - loss: 1.8525 - accuracy: 0.3234 - val_loss: 1.6987 - val_accuracy: 0.3780\n",
            "Epoch 3/30\n",
            "42000/42000 - 2s - loss: 1.6261 - accuracy: 0.4210 - val_loss: 1.5400 - val_accuracy: 0.4644\n",
            "Epoch 4/30\n",
            "42000/42000 - 2s - loss: 1.4320 - accuracy: 0.5202 - val_loss: 1.3143 - val_accuracy: 0.5774\n",
            "Epoch 5/30\n",
            "42000/42000 - 2s - loss: 1.2771 - accuracy: 0.5843 - val_loss: 1.2343 - val_accuracy: 0.6017\n",
            "Epoch 6/30\n",
            "42000/42000 - 2s - loss: 1.2001 - accuracy: 0.6154 - val_loss: 1.1825 - val_accuracy: 0.6238\n",
            "Epoch 7/30\n",
            "42000/42000 - 2s - loss: 1.1320 - accuracy: 0.6414 - val_loss: 1.1372 - val_accuracy: 0.6329\n",
            "Epoch 8/30\n",
            "42000/42000 - 2s - loss: 1.0778 - accuracy: 0.6596 - val_loss: 1.0785 - val_accuracy: 0.6549\n",
            "Epoch 9/30\n",
            "42000/42000 - 2s - loss: 1.0378 - accuracy: 0.6715 - val_loss: 1.0750 - val_accuracy: 0.6561\n",
            "Epoch 10/30\n",
            "42000/42000 - 2s - loss: 0.9867 - accuracy: 0.6915 - val_loss: 0.9700 - val_accuracy: 0.7027\n",
            "Epoch 11/30\n",
            "42000/42000 - 2s - loss: 0.9453 - accuracy: 0.7063 - val_loss: 0.9666 - val_accuracy: 0.6963\n",
            "Epoch 12/30\n",
            "42000/42000 - 2s - loss: 0.9088 - accuracy: 0.7182 - val_loss: 0.9329 - val_accuracy: 0.7115\n",
            "Epoch 13/30\n",
            "42000/42000 - 2s - loss: 0.8831 - accuracy: 0.7262 - val_loss: 0.9003 - val_accuracy: 0.7221\n",
            "Epoch 14/30\n",
            "42000/42000 - 2s - loss: 0.8645 - accuracy: 0.7318 - val_loss: 0.8664 - val_accuracy: 0.7333\n",
            "Epoch 15/30\n",
            "42000/42000 - 2s - loss: 0.8303 - accuracy: 0.7417 - val_loss: 0.8562 - val_accuracy: 0.7372\n",
            "Epoch 16/30\n",
            "42000/42000 - 2s - loss: 0.8093 - accuracy: 0.7490 - val_loss: 0.8325 - val_accuracy: 0.7469\n",
            "Epoch 17/30\n",
            "42000/42000 - 2s - loss: 0.7945 - accuracy: 0.7537 - val_loss: 0.8482 - val_accuracy: 0.7402\n",
            "Epoch 18/30\n",
            "42000/42000 - 2s - loss: 0.7692 - accuracy: 0.7617 - val_loss: 0.7944 - val_accuracy: 0.7606\n",
            "Epoch 19/30\n",
            "42000/42000 - 2s - loss: 0.7549 - accuracy: 0.7669 - val_loss: 0.8282 - val_accuracy: 0.7508\n",
            "Epoch 20/30\n",
            "42000/42000 - 2s - loss: 0.7416 - accuracy: 0.7717 - val_loss: 0.8097 - val_accuracy: 0.7613\n",
            "Epoch 21/30\n",
            "42000/42000 - 2s - loss: 0.7179 - accuracy: 0.7775 - val_loss: 0.8041 - val_accuracy: 0.7545\n",
            "Epoch 22/30\n",
            "42000/42000 - 2s - loss: 0.7176 - accuracy: 0.7764 - val_loss: 0.7455 - val_accuracy: 0.7734\n",
            "Epoch 23/30\n",
            "42000/42000 - 2s - loss: 0.6973 - accuracy: 0.7834 - val_loss: 0.7474 - val_accuracy: 0.7771\n",
            "Epoch 24/30\n",
            "42000/42000 - 2s - loss: 0.6908 - accuracy: 0.7845 - val_loss: 0.7921 - val_accuracy: 0.7609\n",
            "Epoch 25/30\n",
            "42000/42000 - 2s - loss: 0.6775 - accuracy: 0.7912 - val_loss: 0.7796 - val_accuracy: 0.7622\n",
            "Epoch 26/30\n",
            "42000/42000 - 2s - loss: 0.6630 - accuracy: 0.7944 - val_loss: 0.7388 - val_accuracy: 0.7774\n",
            "Epoch 27/30\n",
            "42000/42000 - 2s - loss: 0.6600 - accuracy: 0.7938 - val_loss: 0.7777 - val_accuracy: 0.7657\n",
            "Epoch 28/30\n",
            "42000/42000 - 2s - loss: 0.6467 - accuracy: 0.7984 - val_loss: 0.7426 - val_accuracy: 0.7763\n",
            "Epoch 29/30\n",
            "42000/42000 - 2s - loss: 0.6396 - accuracy: 0.8008 - val_loss: 0.7145 - val_accuracy: 0.7898\n",
            "Epoch 30/30\n",
            "42000/42000 - 2s - loss: 0.6254 - accuracy: 0.8052 - val_loss: 0.7057 - val_accuracy: 0.7898\n",
            "Error: 21.02%\n",
            "Model: \"sequential_1\"\n",
            "_________________________________________________________________\n",
            "Layer (type)                 Output Shape              Param #   \n",
            "=================================================================\n",
            "dense_5 (Dense)              multiple                  262400    \n",
            "_________________________________________________________________\n",
            "dense_6 (Dense)              multiple                  16448     \n",
            "_________________________________________________________________\n",
            "dense_7 (Dense)              multiple                  4160      \n",
            "_________________________________________________________________\n",
            "dense_8 (Dense)              multiple                  2080      \n",
            "_________________________________________________________________\n",
            "dense_9 (Dense)              multiple                  330       \n",
            "=================================================================\n",
            "Total params: 285,418\n",
            "Trainable params: 285,418\n",
            "Non-trainable params: 0\n",
            "_________________________________________________________________\n"
          ],
          "name": "stdout"
        }
      ]
    }
  ]
}